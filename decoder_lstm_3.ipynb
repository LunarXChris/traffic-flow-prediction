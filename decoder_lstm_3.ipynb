{
  "nbformat": 4,
  "nbformat_minor": 0,
  "metadata": {
    "colab": {
      "name": "decoder_lstm_2.ipynb",
      "provenance": [],
      "collapsed_sections": []
    },
    "kernelspec": {
      "display_name": "Python 3 (ipykernel)",
      "language": "python",
      "name": "python3"
    },
    "language_info": {
      "codemirror_mode": {
        "name": "ipython",
        "version": 3
      },
      "file_extension": ".py",
      "mimetype": "text/x-python",
      "name": "python",
      "nbconvert_exporter": "python",
      "pygments_lexer": "ipython3",
      "version": "3.7.4"
    },
    "accelerator": "GPU"
  },
  "cells": [
    {
      "cell_type": "markdown",
      "metadata": {
        "id": "qEKkKicxwxuY"
      },
      "source": [
        "# using drive\n",
        "from google.colab import drive\n",
        "drive.mount('/content/drive')\n",
        "with open('/content/drive/My Drive/foo.txt', 'w') as f:\n",
        "  f.write('Hello Google Drive!')\n",
        "drive.flush_and_unmount()\n",
        "print('All changes made in this colab session should now be visible in Drive.')"
      ]
    },
    {
      "cell_type": "code",
      "metadata": {
        "id": "XJNr3NtRsmcd"
      },
      "source": [
        "import torch\n",
        "import torch.nn as nn\n",
        "import torch.optim as optim\n",
        "import numpy as np\n",
        "from sklearn.model_selection import train_test_split\n",
        "import matplotlib.pyplot as plt"
      ],
      "execution_count": 1,
      "outputs": []
    },
    {
      "cell_type": "code",
      "metadata": {
        "colab": {
          "base_uri": "https://localhost:8080/"
        },
        "id": "_jgL_yXQ4c2e",
        "outputId": "f91e5024-47ce-488d-d603-789aec6e3270"
      },
      "source": [
        "from google.colab import drive\n",
        "drive.mount('/content/drive')"
      ],
      "execution_count": 2,
      "outputs": [
        {
          "output_type": "stream",
          "name": "stdout",
          "text": [
            "Mounted at /content/drive\n"
          ]
        }
      ]
    },
    {
      "cell_type": "code",
      "metadata": {
        "colab": {
          "base_uri": "https://localhost:8080/"
        },
        "id": "2Ax63dfU922o",
        "outputId": "7afa0917-eb89-4748-c293-fe2169242e14"
      },
      "source": [
        "input_data=[]\n",
        "fp = open('/content/drive/My Drive/project/i580w_jan 2012_input.txt','r')\n",
        "for line in fp:\n",
        "    line=line.strip('\\n')   #将\\n去掉\n",
        "    input_data.append(line.split(' '))   #将空格作为分隔符将一个字符切割成一个字符数组\n",
        "\n",
        "fp.close()\n",
        "\n",
        "# fp = open('/content/drive/My Drive/project/i580w_feb 2012_input.txt','r')\n",
        "# for line in fp:\n",
        "#     line=line.strip('\\n')   #将\\n去掉\n",
        "#     input_data.append(line.split(' '))   #将空格作为分隔符将一个字符切割成一个字符数组\n",
        "\n",
        "# fp.close()\n",
        "\n",
        "\n",
        "input_data=np.array(input_data,dtype=int)   #将其转换成numpy的数组，并定义数据类型为float\n",
        "print(input_data.shape)\n",
        "\n",
        "target_data=[]\n",
        "fp = open('/content/drive/My Drive/project/i580w_jan 2012_target.txt','r')\n",
        "for line in fp:\n",
        "    line=line.strip('\\n')   #将\\n去掉\n",
        "    target_data.append(line.split(' '))   #将空格作为分隔符将一个字符切割成一个字符数组\n",
        "\n",
        "# fp = open('/content/drive/My Drive/project/i580w_feb 2012_target.txt','r')\n",
        "# for line in fp:\n",
        "#     line=line.strip('\\n')   #将\\n去掉\n",
        "#     target_data.append(line.split(' '))   #将空格作为分隔符将一个字符切割成一个字符数组\n",
        "\n",
        "# fp.close()\n",
        "\n",
        "target_data=np.array(target_data,dtype=int)   #将其转换成numpy的数组，并定义数据类型为float\n",
        "print(target_data.shape)\n",
        "\n",
        "print(input_data[:8])\n",
        "print(target_data[:8])"
      ],
      "execution_count": 3,
      "outputs": [
        {
          "output_type": "stream",
          "name": "stdout",
          "text": [
            "(8925, 24)\n",
            "(8925, 8)\n",
            "[[ 3 12  4  0  0  4  1  2  1  4  1  0  1  6  1  8  2  5  6  0  5  2  1  5]\n",
            " [ 1  4  1  0  1  6  1  8  2  5  6  0  5  2  1  5  2  6  6  0  4  4  0  9]\n",
            " [ 2  5  6  0  5  2  1  5  2  6  6  0  4  4  0  9  4  8 12  0  6  2  0 12]\n",
            " [ 2  6  6  0  4  4  0  9  4  8 12  0  6  2  0 12 11 11 10  0  2  4  2  9]\n",
            " [ 4  8 12  0  6  2  0 12 11 11 10  0  2  4  2  9 15  7 14  0  8  4  0  9]\n",
            " [11 11 10  0  2  4  2  9 15  7 14  0  8  4  0  9 13  7 13  0  4 12  2  9]\n",
            " [15  7 14  0  8  4  0  9 13  7 13  0  4 12  2  9  7 14 14  0  6  3  1 12]\n",
            " [13  7 13  0  4 12  2  9  7 14 14  0  6  3  1 12  9 11 24  0  6  1  3 11]]\n",
            "[[ 2  6  6  0  4  4  0  9]\n",
            " [ 4  8 12  0  6  2  0 12]\n",
            " [11 11 10  0  2  4  2  9]\n",
            " [15  7 14  0  8  4  0  9]\n",
            " [13  7 13  0  4 12  2  9]\n",
            " [ 7 14 14  0  6  3  1 12]\n",
            " [ 9 11 24  0  6  1  3 11]\n",
            " [13 11 23  0  5  6  1 20]]\n"
          ]
        }
      ]
    },
    {
      "cell_type": "code",
      "metadata": {
        "colab": {
          "base_uri": "https://localhost:8080/",
          "height": 0
        },
        "id": "8nlY6w0hhPH3",
        "outputId": "47da6b8c-6c05-489c-c20f-1cf52bb4162f"
      },
      "source": [
        "plt.plot(np.arange(5335)*5/60/24,input_data[:5335,2])\n",
        "plt.xlabel(\"day\")\n",
        "plt.ylabel(\"Number of vehicles\")"
      ],
      "execution_count": 4,
      "outputs": [
        {
          "output_type": "execute_result",
          "data": {
            "text/plain": [
              "Text(0, 0.5, 'Number of vehicles')"
            ]
          },
          "metadata": {},
          "execution_count": 4
        },
        {
          "output_type": "display_data",
          "data": {
            "image/png": "[encoded data removed]",
            "text/plain": [
              "<Figure size 432x288 with 1 Axes>"
            ]
          },
          "metadata": {
            "needs_background": "light"
          }
        }
      ]
    },
    {
      "cell_type": "code",
      "metadata": {
        "id": "7qX01vXE_Oju"
      },
      "source": [
        "#drive.flush_and_unmount()\n",
        "#print('All changes made in this colab session should now be visible in Drive.')"
      ],
      "execution_count": 5,
      "outputs": []
    },
    {
      "cell_type": "markdown",
      "metadata": {
        "id": "ITbqLX6DLs0e"
      },
      "source": [
        "# input size\n",
        "交通流的最大值"
      ]
    },
    {
      "cell_type": "code",
      "metadata": {
        "id": "JawLndDiLsjF"
      },
      "source": [
        "input_size = 0"
      ],
      "execution_count": 6,
      "outputs": []
    },
    {
      "cell_type": "code",
      "metadata": {
        "id": "3NQoztHDF-DJ",
        "colab": {
          "base_uri": "https://localhost:8080/"
        },
        "outputId": "66fc337d-87eb-4932-9743-23c0d3104ef6"
      },
      "source": [
        "input_max = np.max(input_data, axis = 0)\n",
        "input_min = np.min(input_data, axis = 0)\n",
        "output_max = np.max(target_data, axis = 0)\n",
        "output_min = np.min(target_data, axis = 0)\n",
        "\n",
        "print(\"input max:{0},\\n input min:{1},\\n output max:{2},\\n output min:{3}\".format(input_max,input_min,output_max,output_min)) \n"
      ],
      "execution_count": 7,
      "outputs": [
        {
          "output_type": "stream",
          "name": "stdout",
          "text": [
            "input max:[ 91 131 111   0  36  82  33 147  91 131 111   0  36  82  33 147  91 131\n",
            " 111   0  36  82  33 147],\n",
            " input min:[0 0 0 0 0 0 0 0 0 0 0 0 0 0 0 0 0 0 0 0 0 0 0 0],\n",
            " output max:[ 91 131 111   0  36  82  33 147],\n",
            " output min:[0 0 0 0 0 0 0 0]\n"
          ]
        }
      ]
    },
    {
      "cell_type": "code",
      "source": [
        "# def normalization(data):\n",
        "#     _range = np.max(data) - np.min(data)\n",
        "#     return (data - np.min(data)) / _range\n",
        " \n",
        "\n",
        "# def standardization(data):\n",
        "#     mu = np.mean(data, axis=0)\n",
        "#     sigma = np.std(data, axis=0)\n",
        "#     return (data - mu) / sigma"
      ],
      "metadata": {
        "id": "avOPESLzPg6M"
      },
      "execution_count": 8,
      "outputs": []
    },
    {
      "cell_type": "code",
      "source": [
        "# input_data = normalization(input_data)\n",
        "# target_data = normalization(target_data)"
      ],
      "metadata": {
        "id": "_P_ixJHmPkFq"
      },
      "execution_count": 9,
      "outputs": []
    },
    {
      "cell_type": "code",
      "source": [
        "# print(input_data[:8])\n",
        "# print(target_data[:8])"
      ],
      "metadata": {
        "id": "JFQmHwYfP377"
      },
      "execution_count": 10,
      "outputs": []
    },
    {
      "cell_type": "markdown",
      "metadata": {
        "id": "VifsF9fO_jdJ"
      },
      "source": [
        "Split the data and begin training\n"
      ]
    },
    {
      "cell_type": "code",
      "metadata": {
        "id": "qnfV8hcZ_weg"
      },
      "source": [
        "from sklearn.model_selection import train_test_split\n",
        "import torch.utils.data as Data\n",
        "\n",
        "X_train, X_test, y_train, y_test = train_test_split(input_data, target_data, test_size=0.2, random_state = 42)\n",
        "X_train, X_val, y_train, y_val = train_test_split(X_train, y_train, test_size=0.2)\n",
        "\n",
        "Batch_Size = 32\n",
        "train_dataset = Data.TensorDataset(torch.from_numpy(X_train),torch.from_numpy(y_train))\n",
        "\n",
        "#load training data\n",
        "train_loader = Data.DataLoader(dataset = train_dataset,\n",
        "                 batch_size = Batch_Size,\n",
        "                 shuffle = True)\n",
        "\n",
        "val_dataset = Data.TensorDataset(torch.from_numpy(X_val),torch.from_numpy(y_val))\n",
        "#load validation data\n",
        "val_loader = Data.DataLoader(dataset = val_dataset,\n",
        "                 batch_size = Batch_Size,\n",
        "                 shuffle = False)\n",
        "\n",
        "test_dataset = Data.TensorDataset(torch.from_numpy(X_test),torch.from_numpy(y_test))\n",
        "#load testing data\n",
        "test_loader = Data.DataLoader(dataset = test_dataset,\n",
        "                 batch_size = Batch_Size,\n",
        "                 shuffle = False)\n",
        "\n"
      ],
      "execution_count": 11,
      "outputs": []
    },
    {
      "cell_type": "code",
      "metadata": {
        "colab": {
          "base_uri": "https://localhost:8080/"
        },
        "id": "L7qRNDHUPHlb",
        "outputId": "37289007-8a70-4c9e-b076-37e017ff619c"
      },
      "source": [
        "for batch_idx, batch in enumerate(train_loader):\n",
        "  print(batch[1])\n",
        "  break"
      ],
      "execution_count": 12,
      "outputs": [
        {
          "output_type": "stream",
          "name": "stdout",
          "text": [
            "tensor([[14, 57, 46,  0,  3, 31,  1, 50],\n",
            "        [37, 77, 84,  0, 10, 34,  5, 69],\n",
            "        [ 0,  0,  0,  0,  0,  0,  0,  0],\n",
            "        [17, 25, 17,  0, 12, 17,  3, 24],\n",
            "        [44, 77, 45,  0, 16, 48, 11, 68],\n",
            "        [16, 46, 34,  0,  4, 17,  8, 47],\n",
            "        [ 2,  4,  2,  0,  4, 14,  1,  4],\n",
            "        [52, 69, 86,  0,  8, 28,  3, 65],\n",
            "        [ 0,  0,  0,  0,  0,  0,  0,  0],\n",
            "        [ 1,  2,  3,  0,  2,  1,  0,  5],\n",
            "        [14, 26, 35,  0, 14,  9,  0, 29],\n",
            "        [39, 61, 46,  0,  3, 37,  8, 59],\n",
            "        [18, 35, 24,  0,  7, 33,  6, 31],\n",
            "        [ 0,  0,  0,  0,  0,  0,  0,  0],\n",
            "        [24, 57, 44,  0, 12, 26,  2, 38],\n",
            "        [25, 68, 61,  0,  5, 34,  6, 60],\n",
            "        [ 4, 20, 18,  0,  3,  9,  1, 21],\n",
            "        [ 1,  3,  1,  0,  6,  2,  2,  3],\n",
            "        [34, 45, 43,  0, 10, 29,  5, 60],\n",
            "        [21, 20, 15,  0,  7,  7,  3, 17],\n",
            "        [28, 59, 32,  0,  3, 28,  8, 60],\n",
            "        [ 0,  0,  0,  0,  0,  0,  0,  0],\n",
            "        [ 4, 13,  7,  0,  3,  8,  2, 16],\n",
            "        [26, 78, 62,  0,  5, 42,  6, 62],\n",
            "        [ 0,  0,  0,  0,  0,  0,  0,  0],\n",
            "        [ 0,  0,  0,  0,  0,  0,  0,  0],\n",
            "        [ 9, 17, 24,  0,  5,  4,  1, 30],\n",
            "        [ 0,  0,  0,  0,  0,  0,  0,  0],\n",
            "        [45, 89, 54,  0,  4, 38,  4, 79],\n",
            "        [ 0,  0,  0,  0,  0,  0,  0,  0],\n",
            "        [12, 20, 22,  0, 10,  7,  2, 20],\n",
            "        [ 3, 17,  3,  0,  4,  6,  3,  2]])\n"
          ]
        }
      ]
    },
    {
      "cell_type": "code",
      "metadata": {
        "id": "zFK0PPuPE4Y_"
      },
      "source": [
        "max_size = np.max(input_max) + 1"
      ],
      "execution_count": 13,
      "outputs": []
    },
    {
      "cell_type": "code",
      "metadata": {
        "id": "6QOpLPigK_JO"
      },
      "source": [
        "device = torch.device('cuda' if torch.cuda.is_available() else 'cpu')"
      ],
      "execution_count": 14,
      "outputs": []
    },
    {
      "cell_type": "markdown",
      "metadata": {
        "id": "cuOT6sxYAkmE"
      },
      "source": [
        "# Code Reference\n",
        "https://github.com/aladdinpersson/Machine-Learning-Collection/blob/master/ML/Pytorch/more_advanced/Seq2Seq/seq2seq.py \\\\\n",
        "https://pytorch.org/tutorials/intermediate/seq2seq_translation_tutorial.html#loading-data-files \\\\\n",
        "https://github.com/aladdinpersson/Machine-Learning-Collection/tree/master/ML/Pytorch/more_advanced/Seq2Seq_attention \\\\\n",
        "下面两个是attention版本\n",
        "代码是基础的encoder-decoder"
      ]
    },
    {
      "cell_type": "code",
      "metadata": {
        "id": "uODqa2R-g8Pi"
      },
      "source": [
        "import random"
      ],
      "execution_count": 15,
      "outputs": []
    },
    {
      "cell_type": "code",
      "metadata": {
        "id": "6pdgL1hm_SKi"
      },
      "source": [
        "class Encoder(nn.Module):\n",
        "    def __init__(self, input_size, embedding_size, hidden_size, num_layers, p):\n",
        "        super(Encoder, self).__init__()\n",
        "        self.dropout = nn.Dropout(p)\n",
        "        self.hidden_size = hidden_size\n",
        "        self.num_layers = num_layers\n",
        "\n",
        "        self.embedding = nn.Embedding(input_size, embedding_size)\n",
        "        self.rnn = nn.LSTM(embedding_size, hidden_size, num_layers, dropout=p)\n",
        "        # self.rnn = nn.GRU(embedding_size, hidden_size, num_layers, dropout=p)\n",
        "\n",
        "    def forward(self, x):\n",
        "        # x shape: (seq_length, N) where N is batch size\n",
        "\n",
        "        embedding = self.dropout(self.embedding(x))\n",
        "        # embedding shape: (seq_length, N, embedding_size)\n",
        "\n",
        "        outputs, (hidden, cell) = self.rnn(embedding)\n",
        "        # outputs shape: (seq_length, N, hidden_size)\n",
        "\n",
        "        return hidden, cell"
      ],
      "execution_count": 16,
      "outputs": []
    },
    {
      "cell_type": "code",
      "metadata": {
        "id": "BEpsFOCaCDoB"
      },
      "source": [
        "class Decoder(nn.Module):\n",
        "    def __init__(\n",
        "        self, input_size, embedding_size, hidden_size, output_size, num_layers, p\n",
        "    ):\n",
        "        super(Decoder, self).__init__()\n",
        "        self.dropout = nn.Dropout(p)\n",
        "        self.hidden_size = hidden_size\n",
        "        self.num_layers = num_layers\n",
        "\n",
        "        self.embedding = nn.Embedding(input_size, embedding_size)\n",
        "        self.rnn = nn.LSTM(embedding_size, hidden_size, num_layers, dropout=p)\n",
        "        # self.rnn = nn.GRU(embedding_size, hidden_size, num_layers, dropout=p)\n",
        "        self.fc = nn.Linear(hidden_size, output_size)\n",
        "\n",
        "    def forward(self, x, hidden, cell):\n",
        "        # x shape: (N) where N is for batch size, we want it to be (1, N), seq_length\n",
        "        # is 1 here because we are sending in a single word and not a sentence\n",
        "        x = x.unsqueeze(0)\n",
        "        \n",
        "        \n",
        "        embedding = self.dropout(self.embedding(x))\n",
        "        # embedding shape: (1, N, embedding_size)\n",
        "\n",
        "        outputs, (hidden, cell) = self.rnn(embedding, (hidden, cell))\n",
        "        # outputs shape: (1, N, hidden_size)\n",
        "\n",
        "        predictions = self.fc(outputs)\n",
        "\n",
        "        # predictions shape: (1, N, length_target_vocabulary) to send it to\n",
        "        # loss function we want it to be (N, length_target_vocabulary) so we're\n",
        "        # just gonna remove the first dim\n",
        "        predictions = predictions.squeeze(0)\n",
        "\n",
        "        return predictions, hidden, cell\n"
      ],
      "execution_count": 17,
      "outputs": []
    },
    {
      "cell_type": "code",
      "metadata": {
        "id": "3Syiic20CGCb"
      },
      "source": [
        "class Seq2Seq(nn.Module):\n",
        "    def __init__(self, encoder, decoder):\n",
        "        super(Seq2Seq, self).__init__()\n",
        "        self.encoder = encoder\n",
        "        self.decoder = decoder\n",
        "\n",
        "    def forward(self, source, target, teacher_force_ratio=0.5):\n",
        "        # 转换轴\n",
        "        source = torch.transpose(source,0,1)\n",
        "        target = torch.transpose(target,0,1)\n",
        "\n",
        "        batch_size = source.shape[1]\n",
        "        target_len = target.shape[0]\n",
        "        target_flow_size = max_size # flow的最大值\n",
        "\n",
        "        outputs = torch.zeros(target_len, batch_size, target_flow_size).to(device)\n",
        "\n",
        "        hidden, cell = self.encoder(source)\n",
        "\n",
        "        # Grab the first input to the Decoder which will be <SOS> token\n",
        "        # x = target[0] \n",
        "        x = torch.zeros(8) #原本是输入sos\n",
        "        x = target[0]\n",
        "\n",
        "        # for t in range(1, target_len):\n",
        "        for t in range(target_len):\n",
        "            # Use previous hidden, cell as context from encoder at start\n",
        "            output, hidden, cell = self.decoder(x, hidden, cell)\n",
        "\n",
        "            # Store next output prediction\n",
        "            outputs[t] = output\n",
        "\n",
        "            # Get the best word the Decoder predicted (index in the vocabulary)\n",
        "            best_guess = output.argmax(1)\n",
        "\n",
        "            # With probability of teacher_force_ratio we take the actual next word\n",
        "            # otherwise we take the word that the Decoder predicted it to be.\n",
        "            # Teacher Forcing is used so that the model gets used to seeing\n",
        "            # similar inputs at training and testing time, if teacher forcing is 1\n",
        "            # then inputs at test time might be completely different than what the\n",
        "            # network is used to. This was a long comment.\n",
        "            x = target[t] if random.random() < teacher_force_ratio else best_guess\n",
        "\n",
        "        return outputs"
      ],
      "execution_count": 18,
      "outputs": []
    },
    {
      "cell_type": "markdown",
      "source": [
        "# Training"
      ],
      "metadata": {
        "id": "wQExbd2Roxg_"
      }
    },
    {
      "cell_type": "code",
      "metadata": {
        "id": "bQzl2VeLCkk4",
        "colab": {
          "base_uri": "https://localhost:8080/"
        },
        "outputId": "94990b5c-a011-4eb8-d52b-edb33dcbf2ff"
      },
      "source": [
        "input_size_encoder = max_size\n",
        "encoder_embedding_size = 128\n",
        "hidden_size = 64\n",
        "num_layers = 2\n",
        "encoder_dropout = 0.5\n",
        "\n",
        "encoder = Encoder(input_size_encoder, encoder_embedding_size,\n",
        "                           hidden_size, num_layers, encoder_dropout).to(device)\n",
        "print(encoder)\n"
      ],
      "execution_count": 19,
      "outputs": [
        {
          "output_type": "stream",
          "name": "stdout",
          "text": [
            "Encoder(\n",
            "  (dropout): Dropout(p=0.5, inplace=False)\n",
            "  (embedding): Embedding(148, 128)\n",
            "  (rnn): LSTM(128, 64, num_layers=2, dropout=0.5)\n",
            ")\n"
          ]
        }
      ]
    },
    {
      "cell_type": "code",
      "metadata": {
        "colab": {
          "base_uri": "https://localhost:8080/"
        },
        "id": "UcaQ2wlpIs7G",
        "outputId": "9011edb1-f6ed-4133-cb3e-2b2c26194e0f"
      },
      "source": [
        "input_size_decoder = max_size\n",
        "decoder_embedding_size = 128\n",
        "hidden_size = 64\n",
        "num_layers = 2\n",
        "decoder_dropout = 0.5\n",
        "output_size = max_size\n",
        "\n",
        "decoder = Decoder(input_size_decoder, decoder_embedding_size,\n",
        "                           hidden_size, output_size, num_layers, decoder_dropout).to(device)\n",
        "print(decoder)"
      ],
      "execution_count": 20,
      "outputs": [
        {
          "output_type": "stream",
          "name": "stdout",
          "text": [
            "Decoder(\n",
            "  (dropout): Dropout(p=0.5, inplace=False)\n",
            "  (embedding): Embedding(148, 128)\n",
            "  (rnn): LSTM(128, 64, num_layers=2, dropout=0.5)\n",
            "  (fc): Linear(in_features=64, out_features=148, bias=True)\n",
            ")\n"
          ]
        }
      ]
    },
    {
      "cell_type": "code",
      "metadata": {
        "id": "4o1cG2S1JRhI"
      },
      "source": [
        "learning_rate = 0.001\n",
        "\n",
        "model = Seq2Seq(encoder, decoder).to(device)\n",
        "optimizer = optim.Adam(model.parameters(), lr=learning_rate)\n",
        "\n",
        "criterion = nn.CrossEntropyLoss()"
      ],
      "execution_count": 21,
      "outputs": []
    },
    {
      "cell_type": "code",
      "metadata": {
        "id": "vsXTayQgMPDg"
      },
      "source": [
        "from torch.utils.tensorboard import SummaryWriter\n",
        "writer = SummaryWriter(f\"runs/loss_plot\")\n",
        "step = 0"
      ],
      "execution_count": 22,
      "outputs": []
    },
    {
      "cell_type": "code",
      "metadata": {
        "id": "PdLtEGrlOK_m"
      },
      "source": [
        "def checkpoint_and_save(model, best_loss, epoch, optimizer, epoch_loss):\n",
        "    print('saving')\n",
        "    drive.mount('/content/drive')\n",
        "    state = {'model': model,'best_loss': best_loss,'epoch': epoch,'rng_state': torch.get_rng_state(), 'optimizer': optimizer.state_dict(),}\n",
        "    torch.save(state, '/content/drive/My Drive/project/checkpoint-trafficflow')\n",
        "    torch.save(model.state_dict(),'/content/drive/My Drive/project/checkpoint-trafficflow')"
      ],
      "execution_count": 23,
      "outputs": []
    },
    {
      "cell_type": "code",
      "source": [
        "train_loss = []\n",
        "val_loss = []"
      ],
      "metadata": {
        "id": "bX2sM3WmaEVh"
      },
      "execution_count": 24,
      "outputs": []
    },
    {
      "cell_type": "code",
      "metadata": {
        "colab": {
          "base_uri": "https://localhost:8080/"
        },
        "id": "-bdwPIZDKqlk",
        "outputId": "43c5dbd0-82be-436f-ed13-536a7f6b1a4b"
      },
      "source": [
        "num_epochs = 50\n",
        "best_loss = 999999\n",
        "best_epoch = -1\n",
        "# sentence1 = \"ein mann in einem blauen hemd steht auf einer leiter und putzt ein fenster\"\n",
        "# ts1  = []\n",
        "for epoch in range(num_epochs):\n",
        "  print(\"Epoch - {} / {}\".format(epoch+1, num_epochs))\n",
        "  # model.eval()\n",
        "  # translated_sentence1 = translate_sentence(model, sentence1, german, english, device, max_length=50)\n",
        "  # print(f\"Translated example sentence 1: \\n {translated_sentence1}\")\n",
        "  # ts1.append(translated_sentence1)\n",
        "\n",
        "  model.train(True)\n",
        "  batch_train_loss = 0\n",
        "  epoch_loss = 0\n",
        "  for batch_idx, batch in enumerate(train_loader):\n",
        "      \n",
        "    input = batch[0].to(device)\n",
        "    target = batch[1].to(device)\n",
        "\n",
        "    # Pass the input and target for model's forward method\n",
        "    #print(batch_idx)\n",
        "    # print(input.size())\n",
        "    # print(target.size())\n",
        "    # print(target)\n",
        "    output = model(input, target)\n",
        "    # output = output[1:].reshape(-1, output.shape[2])\n",
        "    # target = target[1:].reshape(-1)\n",
        "    target = torch.transpose(target,0,1)\n",
        "    output = output.reshape(-1, output.shape[2])\n",
        "    target = target.reshape(-1)\n",
        "    # print(output.size())\n",
        "    # print(target.size())\n",
        "\n",
        "    # Clear the accumulating gradients\n",
        "    optimizer.zero_grad()\n",
        "\n",
        "    # Calculate the loss value for every epoch\n",
        "    loss = criterion(output, target)\n",
        "\n",
        "    # Calculate the gradients for weights & biases using back-propagation\n",
        "    loss.backward()\n",
        "\n",
        "    # Clip the gradient value is it exceeds > 1\n",
        "    torch.nn.utils.clip_grad_norm_(model.parameters(), max_norm=1)\n",
        "\n",
        "    # Update the weights values using the gradients we calculated using bp \n",
        "    optimizer.step()\n",
        "    step += 1\n",
        "    epoch_loss += loss.item()\n",
        "    writer.add_scalar(\"Training loss\", loss, global_step=step)\n",
        "    batch_train_loss += loss.item()\n",
        "  train_loss.append(batch_train_loss/len(train_loader))\n",
        "  # if epoch_loss < best_loss:\n",
        "  #   best_loss = epoch_loss\n",
        "  #   best_epoch = epoch\n",
        "  #   checkpoint_and_save(model, best_loss, epoch, optimizer, epoch_loss) \n",
        "  #   if ((epoch - best_epoch) >= 10):\n",
        "  #     print(\"no improvement in 10 epochs, break\")\n",
        "  #     break\n",
        "  #print(\"Epoch_Loss - {}\".format(loss.item()))\n",
        "  #train_loss.append(loss.item())\n",
        "  print(\"Epoch_Loss - {}\".format(epoch_loss/len(train_loader)))\n",
        "  print()\n",
        "  if epoch % 3 == 0:\n",
        "    validation_loss = 0\n",
        "    model.eval()\n",
        "    for batch_idx, batch in enumerate(val_loader):\n",
        "        \n",
        "      input = batch[0].to(device)\n",
        "      target = batch[1].to(device)\n",
        "\n",
        "      output = model(input, target)\n",
        "\n",
        "      target = torch.transpose(target,0,1)\n",
        "      output = output.reshape(-1, output.shape[2])\n",
        "      target = target.reshape(-1)\n",
        "\n",
        "      optimizer.zero_grad()\n",
        "\n",
        "      loss = criterion(output, target)\n",
        "\n",
        "      validation_loss += loss.item()\n",
        "    \n",
        "    print(\"Validation_Loss - {}\".format(validation_loss/len(val_loader)))\n",
        "    print()\n",
        "\n",
        "    if validation_loss < best_loss:\n",
        "      best_loss = validation_loss\n",
        "      torch.save(model.state_dict(), 'params.pth')\n",
        "      checkpoint_and_save(model, best_loss, epoch, optimizer, epoch_loss)\n",
        "\n",
        "    val_loss.append(validation_loss/len(val_loader))\n",
        "\n"
      ],
      "execution_count": 25,
      "outputs": [
        {
          "output_type": "stream",
          "name": "stdout",
          "text": [
            "Epoch - 1 / 50\n",
            "Epoch_Loss - 3.4036700938666997\n",
            "\n",
            "Validation_Loss - 2.878202533721924\n",
            "\n",
            "saving\n",
            "Drive already mounted at /content/drive; to attempt to forcibly remount, call drive.mount(\"/content/drive\", force_remount=True).\n",
            "Epoch - 2 / 50\n",
            "Epoch_Loss - 2.749927941647322\n",
            "\n",
            "Epoch - 3 / 50\n",
            "Epoch_Loss - 2.556463897561228\n",
            "\n",
            "Epoch - 4 / 50\n",
            "Epoch_Loss - 2.4181673147158915\n",
            "\n",
            "Validation_Loss - 2.3216653479470146\n",
            "\n",
            "saving\n",
            "Drive already mounted at /content/drive; to attempt to forcibly remount, call drive.mount(\"/content/drive\", force_remount=True).\n",
            "Epoch - 5 / 50\n",
            "Epoch_Loss - 2.3230602021989877\n",
            "\n",
            "Epoch - 6 / 50\n",
            "Epoch_Loss - 2.2567871103073633\n",
            "\n",
            "Epoch - 7 / 50\n",
            "Epoch_Loss - 2.207664086166041\n",
            "\n",
            "Validation_Loss - 2.161472569571601\n",
            "\n",
            "saving\n",
            "Drive already mounted at /content/drive; to attempt to forcibly remount, call drive.mount(\"/content/drive\", force_remount=True).\n",
            "Epoch - 8 / 50\n",
            "Epoch_Loss - 2.1644733238486604\n",
            "\n",
            "Epoch - 9 / 50\n",
            "Epoch_Loss - 2.125864347266085\n",
            "\n",
            "Epoch - 10 / 50\n",
            "Epoch_Loss - 2.0870527981379845\n",
            "\n",
            "Validation_Loss - 2.0309390862782797\n",
            "\n",
            "saving\n",
            "Drive already mounted at /content/drive; to attempt to forcibly remount, call drive.mount(\"/content/drive\", force_remount=True).\n",
            "Epoch - 11 / 50\n",
            "Epoch_Loss - 2.0585349778223305\n",
            "\n",
            "Epoch - 12 / 50\n",
            "Epoch_Loss - 2.028300602342829\n",
            "\n",
            "Epoch - 13 / 50\n",
            "Epoch_Loss - 1.9986220305192404\n",
            "\n",
            "Validation_Loss - 1.9564302232530382\n",
            "\n",
            "saving\n",
            "Drive already mounted at /content/drive; to attempt to forcibly remount, call drive.mount(\"/content/drive\", force_remount=True).\n",
            "Epoch - 14 / 50\n",
            "Epoch_Loss - 1.9773816842606613\n",
            "\n",
            "Epoch - 15 / 50\n",
            "Epoch_Loss - 1.9557479646618805\n",
            "\n",
            "Epoch - 16 / 50\n",
            "Epoch_Loss - 1.9371346827991849\n",
            "\n",
            "Validation_Loss - 1.9179898685879178\n",
            "\n",
            "saving\n",
            "Drive already mounted at /content/drive; to attempt to forcibly remount, call drive.mount(\"/content/drive\", force_remount=True).\n",
            "Epoch - 17 / 50\n",
            "Epoch_Loss - 1.9199114365284669\n",
            "\n",
            "Epoch - 18 / 50\n",
            "Epoch_Loss - 1.904307757010007\n",
            "\n",
            "Epoch - 19 / 50\n",
            "Epoch_Loss - 1.8921230445361004\n",
            "\n",
            "Validation_Loss - 1.8719958437813653\n",
            "\n",
            "saving\n",
            "Drive already mounted at /content/drive; to attempt to forcibly remount, call drive.mount(\"/content/drive\", force_remount=True).\n",
            "Epoch - 20 / 50\n",
            "Epoch_Loss - 1.879606399456216\n",
            "\n",
            "Epoch - 21 / 50\n",
            "Epoch_Loss - 1.868803056258729\n",
            "\n",
            "Epoch - 22 / 50\n",
            "Epoch_Loss - 1.8567997403650975\n",
            "\n",
            "Validation_Loss - 1.8387392070558337\n",
            "\n",
            "saving\n",
            "Drive already mounted at /content/drive; to attempt to forcibly remount, call drive.mount(\"/content/drive\", force_remount=True).\n",
            "Epoch - 23 / 50\n",
            "Epoch_Loss - 1.8482942947462284\n",
            "\n",
            "Epoch - 24 / 50\n",
            "Epoch_Loss - 1.8367071411463136\n",
            "\n",
            "Epoch - 25 / 50\n",
            "Epoch_Loss - 1.8314001799961708\n",
            "\n",
            "Validation_Loss - 1.8212436729007297\n",
            "\n",
            "saving\n",
            "Drive already mounted at /content/drive; to attempt to forcibly remount, call drive.mount(\"/content/drive\", force_remount=True).\n",
            "Epoch - 26 / 50\n",
            "Epoch_Loss - 1.8227454603717315\n",
            "\n",
            "Epoch - 27 / 50\n",
            "Epoch_Loss - 1.8148810836855926\n",
            "\n",
            "Epoch - 28 / 50\n",
            "Epoch_Loss - 1.8080308876890043\n",
            "\n",
            "Validation_Loss - 1.8081427468193902\n",
            "\n",
            "saving\n",
            "Drive already mounted at /content/drive; to attempt to forcibly remount, call drive.mount(\"/content/drive\", force_remount=True).\n",
            "Epoch - 29 / 50\n",
            "Epoch_Loss - 1.802257738299876\n",
            "\n",
            "Epoch - 30 / 50\n",
            "Epoch_Loss - 1.7996431549168166\n",
            "\n",
            "Epoch - 31 / 50\n",
            "Epoch_Loss - 1.7922988537303561\n",
            "\n",
            "Validation_Loss - 1.7982465055253771\n",
            "\n",
            "saving\n",
            "Drive already mounted at /content/drive; to attempt to forcibly remount, call drive.mount(\"/content/drive\", force_remount=True).\n",
            "Epoch - 32 / 50\n",
            "Epoch_Loss - 1.7875598842205283\n",
            "\n",
            "Epoch - 33 / 50\n",
            "Epoch_Loss - 1.7803573268751858\n",
            "\n",
            "Epoch - 34 / 50\n",
            "Epoch_Loss - 1.7735278819526374\n",
            "\n",
            "Validation_Loss - 1.7890021562576295\n",
            "\n",
            "saving\n",
            "Drive already mounted at /content/drive; to attempt to forcibly remount, call drive.mount(\"/content/drive\", force_remount=True).\n",
            "Epoch - 35 / 50\n",
            "Epoch_Loss - 1.770481471908825\n",
            "\n",
            "Epoch - 36 / 50\n",
            "Epoch_Loss - 1.7649922004625118\n",
            "\n",
            "Epoch - 37 / 50\n",
            "Epoch_Loss - 1.7608818794761956\n",
            "\n",
            "Validation_Loss - 1.7809226433436076\n",
            "\n",
            "saving\n",
            "Drive already mounted at /content/drive; to attempt to forcibly remount, call drive.mount(\"/content/drive\", force_remount=True).\n",
            "Epoch - 38 / 50\n",
            "Epoch_Loss - 1.755295064862214\n",
            "\n",
            "Epoch - 39 / 50\n",
            "Epoch_Loss - 1.752518700487787\n",
            "\n",
            "Epoch - 40 / 50\n",
            "Epoch_Loss - 1.746762034613327\n",
            "\n",
            "Validation_Loss - 1.7807111766603259\n",
            "\n",
            "saving\n",
            "Drive already mounted at /content/drive; to attempt to forcibly remount, call drive.mount(\"/content/drive\", force_remount=True).\n",
            "Epoch - 41 / 50\n",
            "Epoch_Loss - 1.7480278654471455\n",
            "\n",
            "Epoch - 42 / 50\n",
            "Epoch_Loss - 1.743953184042563\n",
            "\n",
            "Epoch - 43 / 50\n",
            "Epoch_Loss - 1.738923935250863\n",
            "\n",
            "Validation_Loss - 1.7761637899610732\n",
            "\n",
            "saving\n",
            "Drive already mounted at /content/drive; to attempt to forcibly remount, call drive.mount(\"/content/drive\", force_remount=True).\n",
            "Epoch - 44 / 50\n",
            "Epoch_Loss - 1.7376042870835886\n",
            "\n",
            "Epoch - 45 / 50\n",
            "Epoch_Loss - 1.7335668122968195\n",
            "\n",
            "Epoch - 46 / 50\n",
            "Epoch_Loss - 1.729370429529158\n",
            "\n",
            "Validation_Loss - 1.7763133313920763\n",
            "\n",
            "Epoch - 47 / 50\n",
            "Epoch_Loss - 1.7249104097568788\n",
            "\n",
            "Epoch - 48 / 50\n",
            "Epoch_Loss - 1.7221906524796726\n",
            "\n",
            "Epoch - 49 / 50\n",
            "Epoch_Loss - 1.71708251244529\n",
            "\n",
            "Validation_Loss - 1.7741799328062269\n",
            "\n",
            "saving\n",
            "Drive already mounted at /content/drive; to attempt to forcibly remount, call drive.mount(\"/content/drive\", force_remount=True).\n",
            "Epoch - 50 / 50\n",
            "Epoch_Loss - 1.7131556086034083\n",
            "\n"
          ]
        }
      ]
    },
    {
      "cell_type": "code",
      "metadata": {
        "colab": {
          "base_uri": "https://localhost:8080/",
          "height": 297
        },
        "id": "7Tkh7xdjYr9d",
        "outputId": "62af30f5-befe-4d00-e58e-0ae178cc07d0"
      },
      "source": [
        "import matplotlib.pyplot as plt\n",
        "#print(train_loss)\n",
        "plt.figure(1)\n",
        "plt.plot(train_loss)\n",
        "plt.xlabel('Epoch')\n",
        "plt.ylabel('Loss')\n",
        "plt.legend('Training loss')"
      ],
      "execution_count": 26,
      "outputs": [
        {
          "output_type": "execute_result",
          "data": {
            "text/plain": [
              "<matplotlib.legend.Legend at 0x7fc587530110>"
            ]
          },
          "metadata": {},
          "execution_count": 26
        },
        {
          "output_type": "display_data",
          "data": {
            "image/png": "[encoded data removed]",
            "text/plain": [
              "<Figure size 432x288 with 1 Axes>"
            ]
          },
          "metadata": {
            "needs_background": "light"
          }
        }
      ]
    },
    {
      "cell_type": "code",
      "metadata": {
        "colab": {
          "base_uri": "https://localhost:8080/",
          "height": 297
        },
        "id": "u8qhXc9kihql",
        "outputId": "da2870bb-b8d8-4f68-c887-6e3c6193cc5b"
      },
      "source": [
        "plt.figure(2)\n",
        "plt.plot(val_loss)\n",
        "plt.xlabel('Epoch/3')\n",
        "plt.ylabel('Loss')\n",
        "plt.legend('Validation loss')"
      ],
      "execution_count": 27,
      "outputs": [
        {
          "output_type": "execute_result",
          "data": {
            "text/plain": [
              "<matplotlib.legend.Legend at 0x7fc62bad1990>"
            ]
          },
          "metadata": {},
          "execution_count": 27
        },
        {
          "output_type": "display_data",
          "data": {
            "image/png": "[encoded data removed]",
            "text/plain": [
              "<Figure size 432x288 with 1 Axes>"
            ]
          },
          "metadata": {
            "needs_background": "light"
          }
        }
      ]
    },
    {
      "cell_type": "code",
      "metadata": {
        "id": "dyTGvPwdsjsd",
        "colab": {
          "base_uri": "https://localhost:8080/"
        },
        "outputId": "9fce9ed4-7603-4abe-a16e-99374c00899d"
      },
      "source": [
        "import math\n",
        "import sklearn.metrics as metrics\n",
        "test_loss = 0\n",
        "# mae = 0\n",
        "# rmse = 0\n",
        "mape = 0\n",
        "smape = 0\n",
        "y_pred = []\n",
        "y_true = []\n",
        "model.load_state_dict(torch.load('params.pth'))  \n",
        "model.eval()\n",
        "for batch_idx, batch in enumerate(test_loader):\n",
        "        \n",
        "   input = batch[0].to(device)\n",
        "   target = batch[1].to(device)\n",
        "\n",
        "   output = model(input, target)\n",
        "\n",
        "   target = torch.transpose(target,0,1)\n",
        "   output = output.reshape(-1, output.shape[2])\n",
        "   target = target.reshape(-1)\n",
        "\n",
        "   optimizer.zero_grad()\n",
        "\n",
        "   loss = criterion(output, target)\n",
        "\n",
        "   pred = torch.argmax(output, dim=1)\n",
        "\n",
        "  #  epoch_mae = torch.abs(pred - target).sum().data\n",
        "  #  epoch_rmse = ((pred - target)*(pred - target)).sum().data\n",
        "\n",
        "   # 分母可能是0，加一个小数\n",
        "   epoch_mape = torch.abs(100 * (target - pred) / (target + 1)).sum().data\n",
        "   epoch_smape = torch.abs(200 * (target - pred) / (target + pred + 0.001)).sum().data\n",
        "\n",
        "  #  mae += epoch_mae\n",
        "  #  rmse += epoch_rmse\n",
        "   mape += epoch_mape\n",
        "   smape += epoch_smape\n",
        "   \n",
        "   y_pred += pred.tolist()\n",
        "   y_true += target.tolist()\n",
        "\n",
        "   test_loss += loss.item()\n",
        "\n",
        "\n",
        "# mae = mae / len(test_dataset)\n",
        "# rmse = math.sqrt(rmse/len(test_dataset))\n",
        "mape = mape / len(test_dataset)\n",
        "smape = smape / len(test_dataset)\n",
        "# print(mae)\n",
        "# print(rmse)\n",
        "print(\"MAPE \", mape.item()) # 分母为0，不可用\n",
        "print(\"SMAPE \", smape.item())\n",
        "\n",
        "\n",
        "# the size of y_pred: 8 * len(test_dataset)\n",
        "# so multiply by 8\n",
        "mae = metrics.mean_absolute_error(y_true, y_pred) * 8\n",
        "mse = metrics.mean_squared_error(y_true, y_pred) * 8\n",
        "rmse = mse ** (1/2)\n",
        "\n",
        "print(\"MAE: \", mae)\n",
        "print(\"MSE: \", mse)\n",
        "print(\"RMSE: \", rmse)\n"
      ],
      "execution_count": 28,
      "outputs": [
        {
          "output_type": "stream",
          "name": "stdout",
          "text": [
            "MAPE  157.78225708007812\n",
            "SMAPE  180.42083740234375\n",
            "MAE:  20.66218487394958\n",
            "MSE:  201.3983193277311\n",
            "RMSE:  14.191487565711041\n"
          ]
        }
      ]
    },
    {
      "cell_type": "code",
      "metadata": {
        "colab": {
          "base_uri": "https://localhost:8080/"
        },
        "id": "nheSqrm4spGE",
        "outputId": "6ced22bd-0223-4a7c-be06-6bbc1ea59c47"
      },
      "source": [
        "print('Average test error:',test_loss/len(test_loader))"
      ],
      "execution_count": 26,
      "outputs": [
        {
          "output_type": "stream",
          "name": "stdout",
          "text": [
            "Average test error: 1.7638362816401891\n"
          ]
        }
      ]
    },
    {
      "cell_type": "code",
      "source": [
        "num = 0\n",
        "for i in range(len(y_pred)):\n",
        "  if y_pred[i] == y_true[i]:\n",
        "    num += 1\n",
        "precision = num / len(y_pred)\n",
        "print(\"Precision: \", precision)"
      ],
      "metadata": {
        "colab": {
          "base_uri": "https://localhost:8080/"
        },
        "id": "BqMAE8O24xXc",
        "outputId": "ff94ec70-fb0b-4fbe-ecbe-1b13a2890ae3"
      },
      "execution_count": 27,
      "outputs": [
        {
          "output_type": "stream",
          "name": "stdout",
          "text": [
            "Precision:  0.4572829131652661\n"
          ]
        }
      ]
    },
    {
      "cell_type": "code",
      "source": [
        "print(y_pred)"
      ],
      "metadata": {
        "colab": {
          "base_uri": "https://localhost:8080/"
        },
        "id": "bjqN43jtglgo",
        "outputId": "a19f446f-6b85-48dc-e684-78f8bd13c812"
      },
      "execution_count": 28,
      "outputs": [
        {
          "output_type": "stream",
          "name": "stdout",
          "text": [
            "[24, 11, 2, 24, 31, 20, 26, 0, 15, 46, 30, 6, 23, 0, 45, 10, 16, 71, 0, 18, 15, 22, 19, 21, 12, 19, 26, 14, 13, 16, 46, 46, 39, 8, 7, 51, 70, 68, 50, 0, 15, 94, 52, 12, 31, 0, 79, 23, 19, 71, 0, 15, 22, 56, 16, 59, 29, 59, 58, 47, 22, 30, 90, 50, 38, 8, 5, 43, 66, 53, 43, 0, 14, 69, 40, 8, 29, 0, 77, 22, 18, 71, 0, 12, 24, 40, 13, 34, 31, 62, 40, 43, 22, 26, 77, 41, 0, 0, 0, 0, 0, 0, 0, 0, 0, 0, 0, 0, 0, 0, 0, 0, 0, 0, 0, 0, 0, 0, 0, 0, 0, 0, 0, 0, 0, 0, 0, 0, 2, 4, 2, 0, 24, 4, 13, 0, 4, 5, 2, 2, 9, 0, 6, 7, 6, 5, 0, 11, 7, 4, 4, 4, 14, 16, 4, 1, 2, 9, 8, 14, 17, 23, 6, 30, 29, 32, 20, 0, 8, 36, 19, 6, 13, 0, 29, 13, 13, 34, 0, 54, 11, 32, 13, 32, 58, 23, 22, 20, 11, 13, 32, 46, 3, 7, 0, 3, 6, 6, 3, 0, 2, 8, 4, 0, 3, 0, 7, 3, 2, 8, 0, 18, 2, 4, 2, 4, 15, 6, 4, 6, 2, 3, 7, 15, 40, 13, 7, 47, 65, 62, 37, 0, 18, 96, 52, 11, 28, 0, 84, 21, 21, 79, 0, 15, 26, 47, 18, 47, 33, 70, 54, 47, 21, 25, 80, 51, 2, 20, 0, 17, 1, 28, 8, 0, 46, 24, 39, 8, 0, 2, 0, 36, 0, 22, 0, 2, 77, 0, 0, 13, 19, 42, 1, 2, 8, 31, 16, 3, 2, 58, 0, 25, 4, 55, 50, 0, 80, 38, 39, 8, 0, 4, 0, 90, 0, 44, 2, 7, 92, 0, 0, 15, 59, 90, 2, 4, 14, 50, 64, 3, 2, 45, 0, 24, 2, 43, 43, 0, 66, 38, 31, 6, 0, 2, 0, 92, 0, 43, 2, 4, 63, 0, 0, 14, 49, 88, 2, 2, 10, 39, 58, 2, 0, 0, 0, 0, 0, 0, 0, 0, 0, 0, 0, 0, 0, 0, 0, 0, 0, 0, 0, 0, 0, 0, 0, 0, 0, 0, 0, 0, 0, 0, 0, 0, 0, 4, 0, 9, 0, 4, 13, 0, 6, 11, 14, 0, 0, 1, 0, 5, 0, 13, 1, 2, 5, 0, 0, 6, 2, 8, 1, 1, 4, 2, 6, 4, 4, 31, 0, 13, 4, 22, 20, 0, 32, 25, 41, 6, 0, 6, 0, 34, 0, 20, 4, 4, 41, 0, 0, 13, 22, 39, 6, 4, 7, 22, 32, 13, 0, 4, 0, 4, 0, 4, 6, 0, 6, 8, 11, 0, 0, 0, 0, 8, 0, 3, 0, 0, 8, 0, 0, 2, 3, 8, 0, 0, 1, 4, 6, 3, 2, 48, 0, 25, 2, 52, 41, 0, 69, 31, 43, 9, 0, 2, 0, 70, 0, 36, 2, 7, 102, 0, 0, 18, 47, 84, 2, 2, 16, 47, 70, 5, 19, 0, 29, 56, 25, 6, 34, 6, 16, 24, 20, 10, 26, 37, 48, 25, 4, 12, 4, 19, 10, 15, 51, 1, 19, 0, 23, 15, 15, 35, 2, 0, 51, 0, 52, 71, 43, 15, 71, 13, 19, 49, 65, 23, 58, 62, 23, 48, 4, 23, 2, 59, 14, 22, 67, 2, 50, 2, 71, 15, 31, 71, 4, 0, 43, 0, 53, 69, 38, 13, 68, 10, 22, 40, 53, 24, 40, 40, 27, 43, 4, 22, 2, 62, 10, 23, 54, 2, 43, 2, 71, 15, 31, 62, 2, 0, 0, 0, 0, 0, 0, 0, 0, 0, 0, 0, 0, 0, 0, 0, 0, 0, 0, 0, 0, 0, 0, 0, 0, 0, 0, 0, 0, 0, 0, 0, 0, 0, 4, 0, 4, 6, 2, 2, 6, 2, 7, 2, 4, 7, 4, 4, 17, 0, 2, 9, 0, 15, 2, 4, 16, 0, 15, 1, 6, 7, 11, 6, 1, 0, 32, 0, 32, 34, 23, 7, 31, 7, 13, 17, 22, 13, 32, 32, 58, 24, 4, 13, 4, 15, 6, 11, 39, 4, 20, 7, 32, 13, 32, 32, 6, 0, 4, 0, 4, 8, 4, 1, 8, 0, 2, 3, 4, 2, 6, 6, 21, 4, 0, 4, 0, 3, 1, 2, 11, 0, 3, 0, 6, 2, 11, 6, 0, 0, 47, 0, 64, 73, 47, 16, 71, 13, 25, 47, 54, 26, 54, 54, 27, 47, 5, 25, 2, 43, 14, 26, 71, 2, 36, 2, 65, 21, 36, 65, 2, 0, 2, 39, 0, 18, 14, 18, 24, 32, 7, 53, 7, 0, 3, 37, 6, 35, 29, 59, 31, 0, 0, 0, 5, 0, 0, 1, 0, 4, 25, 24, 6, 1, 2, 54, 0, 57, 8, 55, 50, 73, 7, 90, 7, 0, 13, 29, 7, 52, 16, 40, 36, 0, 0, 0, 11, 0, 0, 2, 0, 4, 57, 48, 6, 4, 2, 40, 0, 45, 8, 62, 43, 68, 8, 77, 7, 0, 8, 28, 5, 43, 11, 31, 36, 0, 0, 0, 10, 0, 0, 2, 0, 2, 40, 40, 4, 2, 0, 0, 0, 0, 0, 0, 0, 0, 0, 0, 0, 0, 0, 0, 0, 0, 0, 0, 0, 0, 0, 0, 0, 0, 0, 0, 0, 0, 0, 0, 0, 0, 1, 4, 0, 4, 8, 4, 15, 4, 0, 3, 4, 0, 4, 17, 4, 3, 14, 18, 2, 0, 0, 0, 4, 0, 0, 0, 0, 2, 4, 4, 1, 1, 6, 30, 0, 31, 46, 32, 20, 29, 6, 32, 8, 0, 7, 58, 13, 28, 58, 41, 17, 0, 0, 0, 7, 0, 0, 4, 0, 13, 30, 32, 4, 4, 0, 4, 0, 4, 14, 6, 6, 6, 0, 7, 2, 0, 1, 17, 4, 6, 18, 11, 3, 0, 0, 0, 1, 0, 0, 0, 0, 2, 4, 4, 0, 0, 2, 54, 0, 47, 8, 59, 40, 60, 7, 80, 7, 0, 12, 33, 9, 47, 15, 33, 40, 0, 0, 0, 13, 0, 0, 2, 0, 5, 47, 47, 2, 2, 11, 0, 1, 0, 23, 0, 0, 26, 51, 7, 22, 18, 1, 43, 2, 12, 21, 9, 0, 0, 5, 1, 40, 20, 28, 12, 31, 32, 30, 5, 0, 1, 11, 0, 2, 4, 31, 0, 0, 58, 92, 15, 71, 45, 2, 77, 4, 22, 30, 15, 4, 0, 15, 2, 28, 26, 60, 22, 56, 48, 69, 7, 0, 3, 8, 0, 2, 2, 24, 0, 0, 40, 77, 10, 53, 37, 2, 77, 2, 18, 29, 13, 2, 0, 8, 2, 28, 26, 66, 18, 40, 43, 88, 5, 0, 2, 0, 0, 0, 0, 0, 0, 0, 0, 0, 0, 0, 0, 0, 0, 0, 0, 0, 0, 0, 0, 0, 0, 0, 0, 0, 0, 0, 0, 0, 0, 0, 0, 2, 0, 0, 1, 0, 0, 0, 2, 8, 6, 3, 4, 1, 6, 1, 0, 17, 4, 1, 0, 2, 0, 14, 7, 0, 4, 3, 4, 22, 2, 0, 1, 6, 0, 4, 4, 15, 0, 0, 22, 39, 13, 32, 32, 4, 34, 4, 11, 58, 8, 7, 0, 8, 4, 58, 13, 27, 8, 31, 22, 27, 4, 0, 4, 0, 0, 0, 0, 3, 0, 0, 4, 8, 4, 6, 4, 0, 8, 0, 2, 18, 2, 0, 0, 1, 0, 21, 2, 6, 2, 6, 4, 6, 0, 0, 0, 13, 0, 2, 2, 35, 0, 0, 54, 96, 18, 62, 47, 2, 67, 2, 26, 32, 18, 2, 0, 18, 2, 33, 25, 70, 21, 62, 52, 69, 6, 0, 2, 5, 27, 0, 2, 13, 3, 0, 19, 25, 20, 0, 0, 7, 4, 27, 32, 0, 12, 42, 0, 0, 56, 9, 62, 37, 9, 3, 10, 27, 2, 63, 24, 5, 73, 0, 2, 22, 5, 0, 59, 57, 48, 0, 0, 7, 2, 73, 52, 0, 8, 69, 0, 0, 45, 7, 93, 61, 7, 2, 17, 45, 4, 102, 50, 5, 53, 0, 2, 22, 2, 0, 43, 40, 37, 0, 0, 8, 2, 71, 43, 0, 7, 55, 0, 0, 42, 8, 65, 66, 5, 2, 14, 40, 4, 52, 43, 0, 0, 0, 0, 0, 0, 0, 0, 0, 0, 0, 0, 0, 0, 0, 0, 0, 0, 0, 0, 0, 0, 0, 0, 0, 0, 0, 0, 0, 0, 0, 0, 4, 6, 0, 1, 7, 2, 0, 2, 2, 2, 0, 0, 2, 1, 6, 2, 0, 4, 5, 0, 0, 18, 5, 12, 24, 4, 0, 6, 13, 1, 4, 13, 18, 29, 0, 4, 13, 8, 0, 20, 22, 16, 0, 0, 7, 4, 32, 17, 0, 13, 34, 0, 0, 46, 34, 41, 24, 23, 4, 13, 20, 4, 41, 20, 3, 6, 0, 0, 2, 2, 0, 3, 4, 3, 0, 0, 0, 0, 6, 3, 0, 4, 5, 0, 0, 11, 14, 8, 6, 10, 0, 2, 3, 0, 8, 6, 6, 69, 0, 2, 21, 5, 0, 43, 47, 40, 0, 0, 13, 2, 65, 52, 0, 9, 70, 0, 0, 47, 8, 102, 59, 9, 2, 18, 35, 4, 102, 33, 10, 4, 24, 10, 20, 38, 66, 18, 48, 23, 0, 4, 26, 14, 21, 36, 10, 0, 2, 9, 0, 9, 21, 28, 22, 1, 66, 6, 72, 0, 58, 17, 10, 4, 58, 14, 58, 78, 90, 25, 51, 52, 0, 14, 64, 43, 30, 90, 17, 0, 4, 9, 0, 8, 59, 55, 56, 2, 90, 4, 93, 0, 107, 34, 12, 5, 40, 14, 62, 83, 71, 22, 40, 55, 0, 7, 62, 37, 29, 77, 14, 0, 2, 8, 0, 8, 58, 43, 44, 2, 71, 2, 65, 0, 66, 31, 0, 0, 0, 0, 0, 0, 0, 0, 0, 0, 0, 0, 0, 0, 0, 0, 0, 0, 0, 0, 0, 0, 0, 0, 0, 0, 0, 0, 0, 0, 0, 0, 0, 4, 4, 4, 12, 24, 3, 9, 4, 4, 0, 2, 4, 0, 11, 24, 4, 0, 2, 4, 0, 8, 0, 13, 4, 0, 7, 1, 14, 0, 7, 11, 6, 23, 32, 7, 22, 29, 39, 13, 30, 32, 0, 4, 32, 20, 25, 27, 8, 0, 8, 8, 0, 46, 24, 21, 22, 4, 39, 4, 36, 0, 39, 32, 0, 10, 4, 2, 5, 6, 9, 4, 4, 4, 0, 0, 6, 4, 8, 7, 2, 0, 3, 2, 0, 14, 4, 6, 3, 0, 8, 0, 11, 0, 8, 11, 14, 8, 54, 18, 59, 70, 102, 25, 47, 54, 0, 11, 64, 44, 36, 70, 18, 0, 5, 13, 0, 11, 58, 47, 54, 2, 102, 3, 105, 0, 102, 33, 0, 41, 26, 0, 29, 0, 0, 16, 6, 22, 22, 0, 27, 29, 0, 10, 20, 12, 16, 17, 0, 24, 1, 7, 15, 13, 23, 0, 0, 28, 0, 18, 0, 52, 64, 0, 43, 2, 2, 29, 15, 43, 56, 0, 60, 50, 0, 57, 58, 12, 22, 43, 0, 66, 2, 15, 40, 22, 40, 0, 0, 45, 0, 62, 0, 40, 62, 0, 38, 2, 2, 32, 13, 38, 44, 0, 52, 33, 0, 40, 53, 13, 19, 38, 0, 53, 2, 14, 38, 22, 40, 0, 0, 42, 0, 62, 0, 0, 0, 0, 0, 0, 0, 0, 0, 0, 0, 0, 0, 0, 0, 0, 0, 0, 0, 0, 0, 0, 0, 0, 0, 0, 0, 0, 0, 0, 0, 0, 0, 4, 4, 0, 2, 0, 0, 11, 4, 2, 4, 0, 5, 4, 0, 4, 13, 0, 0, 13, 0, 6, 1, 6, 10, 10, 13, 0, 0, 18, 0, 9, 0, 31, 32, 0, 20, 4, 4, 23, 8, 20, 22, 0, 31, 25, 0, 32, 20, 7, 11, 20, 0, 36, 4, 8, 20, 18, 25, 0, 0, 32, 0, 20, 0, 6, 6, 0, 6, 0, 0, 10, 2, 5, 4, 0, 6, 6, 0, 4, 3, 1, 0, 3, 0, 13, 0, 2, 3, 6, 8, 0, 0, 11, 0, 3, 0, 54, 60, 0, 44, 2, 2, 26, 18, 43, 52, 0, 62, 47, 0, 54, 37, 14, 26, 36, 0, 50, 2, 18, 33, 23, 40, 0, 0, 47, 0, 47, 2, 5, 27, 24, 35, 47, 23, 17, 1, 29, 1, 24, 1, 16, 3, 61, 3, 3, 14, 29, 4, 3, 4, 15, 0, 6, 62, 0, 27, 3, 4, 16, 4, 15, 57, 58, 71, 23, 52, 52, 2, 51, 3, 51, 5, 23, 7, 107, 8, 4, 23, 51, 14, 4, 2, 62, 0, 13, 98, 0, 57, 7, 4, 43, 2, 10, 53, 43, 62, 28, 37, 37, 2, 40, 2, 40, 3, 24, 5, 71, 8, 2, 22, 40, 10, 4, 2, 53, 0, 10, 71, 0, 53, 5, 2, 38, 0, 0, 0, 0, 0, 0, 0, 0, 0, 0, 0, 0, 0, 0, 0, 0, 0, 0, 0, 0, 0, 0, 0, 0, 0, 0, 0, 0, 0, 0, 0, 0, 2, 4, 4, 13, 6, 14, 0, 2, 0, 2, 0, 4, 1, 11, 2, 7, 0, 0, 7, 4, 4, 0, 5, 4, 0, 4, 10, 0, 4, 2, 1, 4, 4, 7, 22, 20, 32, 58, 30, 19, 4, 19, 4, 32, 7, 18, 4, 44, 6, 4, 13, 32, 6, 4, 31, 22, 0, 7, 41, 0, 30, 6, 7, 20, 0, 1, 6, 3, 3, 18, 4, 3, 0, 3, 0, 4, 0, 8, 0, 8, 0, 0, 2, 4, 1, 0, 5, 6, 0, 2, 9, 0, 4, 0, 1, 3, 7, 14, 60, 47, 56, 26, 44, 47, 2, 47, 2, 47, 2, 23, 5, 102, 13, 2, 26, 47, 13, 5, 4, 59, 0, 14, 102, 0, 54, 8, 5, 40, 39, 12, 0, 38, 14, 0, 0, 0, 19, 23, 38, 0, 36, 33, 0, 29, 2, 14, 39, 16, 39, 31, 27, 9, 28, 0, 13, 4, 5, 34, 4, 37, 54, 25, 0, 78, 19, 0, 0, 0, 57, 52, 74, 0, 58, 62, 0, 52, 2, 19, 23, 57, 54, 66, 30, 22, 55, 0, 22, 4, 9, 67, 4, 52, 40, 26, 0, 77, 19, 0, 0, 0, 43, 40, 66, 0, 39, 40, 0, 43, 2, 14, 27, 40, 40, 66, 29, 14, 43, 0, 22, 2, 7, 71, 4, 48, 0, 0, 0, 0, 0, 0, 0, 0, 0, 0, 0, 0, 0, 0, 0, 0, 0, 0, 0, 0, 0, 0, 0, 0, 0, 0, 0, 0, 0, 0, 0, 0, 2, 7, 0, 24, 2, 0, 0, 0, 4, 4, 21, 0, 4, 3, 0, 18, 1, 4, 14, 4, 2, 24, 9, 4, 4, 0, 0, 1, 2, 22, 2, 0, 23, 13, 0, 27, 9, 0, 0, 0, 20, 32, 24, 0, 32, 24, 0, 36, 6, 8, 58, 32, 30, 29, 13, 8, 22, 0, 18, 4, 6, 29, 4, 29, 6, 2, 0, 6, 2, 0, 0, 0, 5, 4, 7, 0, 5, 6, 0, 11, 0, 2, 15, 4, 4, 6, 2, 2, 4, 0, 8, 0, 0, 8, 0, 4, 54, 26, 0, 60, 21, 0, 0, 0, 47, 47, 67, 0, 54, 58, 0, 58, 2, 18, 26, 47, 52, 62, 28, 21, 52, 0, 23, 5, 12, 64, 5, 47, 15, 9, 47, 3, 44, 24, 35, 66, 0, 0, 20, 18, 23, 16, 0, 3, 4, 2, 25, 55, 16, 0, 3, 1, 2, 17, 26, 6, 3, 10, 1, 11, 43, 8, 67, 2, 93, 45, 73, 90, 0, 0, 40, 40, 47, 22, 0, 4, 2, 2, 40, 71, 30, 0, 4, 6, 4, 52, 54, 4, 5, 17, 4, 23, 38, 8, 44, 2, 83, 37, 62, 66, 0, 0, 24, 40, 37, 26, 0, 2, 2, 2, 38, 55, 24, 0, 3, 5, 2, 44, 58, 2, 5, 14, 2, 22, 0, 0, 0, 0, 0, 0, 0, 0, 0, 0, 0, 0, 0, 0, 0, 0, 0, 0, 0, 0, 0, 0, 0, 0, 0, 0, 0, 0, 0, 0, 0, 0, 2, 2, 5, 0, 24, 4, 6, 3, 0, 0, 11, 4, 2, 9, 0, 1, 1, 1, 4, 5, 2, 0, 2, 2, 2, 4, 4, 1, 4, 4, 1, 7, 18, 6, 31, 4, 37, 25, 32, 37, 0, 0, 25, 32, 20, 13, 0, 6, 6, 7, 20, 34, 13, 0, 4, 6, 7, 32, 31, 4, 18, 13, 7, 13, 3, 0, 6, 0, 9, 6, 6, 7, 0, 0, 11, 4, 3, 2, 0, 0, 0, 1, 5, 7, 2, 0, 0, 0, 1, 4, 6, 0, 2, 2, 0, 2, 43, 11, 67, 2, 68, 43, 65, 96, 0, 0, 36, 47, 43, 25, 0, 2, 2, 3, 43, 80, 28, 0, 5, 7, 5, 47, 64, 2, 5, 21, 2, 21, 0, 0, 37, 0, 20, 0, 0, 12, 3, 0, 0, 2, 22, 26, 5, 0, 0, 31, 0, 1, 30, 23, 0, 55, 2, 2, 41, 0, 0, 18, 31, 41, 0, 0, 62, 4, 49, 0, 0, 26, 7, 0, 0, 12, 31, 48, 18, 0, 0, 66, 0, 4, 52, 52, 0, 36, 4, 2, 69, 4, 0, 58, 50, 69, 0, 0, 43, 2, 40, 0, 0, 23, 6, 0, 0, 7, 40, 38, 18, 0, 0, 66, 0, 2, 40, 37, 0, 36, 6, 2, 44, 2, 0, 44, 38, 44, 0, 0, 0, 0, 0, 0, 0, 0, 0, 0, 0, 0, 0, 0, 0, 0, 0, 0, 0, 0, 0, 0, 0, 0, 0, 0, 0, 0, 0, 0, 0, 0, 0, 0, 15, 1, 4, 0, 0, 0, 2, 0, 0, 2, 11, 4, 4, 0, 0, 6, 0, 1, 4, 4, 0, 17, 2, 1, 4, 2, 0, 4, 2, 4, 0, 0, 31, 4, 32, 0, 0, 11, 4, 0, 0, 6, 20, 32, 13, 0, 0, 32, 0, 4, 32, 23, 0, 53, 4, 4, 31, 4, 0, 32, 21, 31, 0, 0, 11, 0, 6, 0, 0, 2, 0, 0, 0, 0, 3, 4, 2, 0, 0, 9, 0, 0, 4, 4, 0, 18, 0, 0, 6, 1, 0, 4, 3, 6, 0, 0, 64, 2, 47, 0, 0, 26, 7, 0, 0, 11, 29, 44, 21, 0, 0, 65, 0, 2, 47, 47, 0, 33, 5, 2, 69, 5, 0, 47, 47, 62, 1, 0, 5, 25, 6, 0, 33, 8, 2, 0, 17, 37, 34, 29, 6, 12, 22, 4, 19, 32, 4, 0, 8, 17, 6, 59, 38, 62, 0, 39, 20, 2, 3, 0, 22, 48, 6, 0, 52, 22, 2, 0, 25, 77, 61, 52, 6, 15, 43, 4, 51, 67, 4, 0, 14, 34, 6, 107, 90, 93, 0, 67, 19, 4, 2, 0, 22, 43, 5, 0, 48, 18, 2, 0, 22, 67, 40, 48, 6, 14, 40, 2, 43, 71, 3, 0, 8, 22, 4, 75, 79, 71, 0, 75, 24, 2, 0, 0, 0, 0, 0, 0, 0, 0, 0, 0, 0, 0, 0, 0, 0, 0, 0, 0, 0, 0, 0, 0, 0, 0, 0, 0, 0, 0, 0, 0, 0, 0, 0, 0, 2, 4, 2, 0, 0, 4, 0, 0, 9, 0, 4, 4, 2, 6, 13, 4, 4, 16, 1, 0, 0, 7, 2, 2, 5, 7, 0, 6, 7, 1, 4, 0, 13, 32, 4, 0, 26, 13, 4, 0, 13, 29, 32, 32, 4, 13, 20, 23, 24, 25, 4, 0, 6, 13, 4, 36, 34, 36, 0, 34, 13, 4, 0, 0, 2, 4, 0, 0, 3, 2, 0, 0, 3, 7, 4, 4, 0, 2, 3, 7, 4, 7, 0, 0, 0, 2, 0, 8, 7, 9, 0, 7, 4, 0, 2, 0, 28, 47, 5, 0, 58, 21, 2, 0, 25, 65, 64, 47, 7, 21, 36, 7, 47, 67, 2, 0, 13, 25, 5, 102, 70, 96, 0, 70, 25, 2, 4, 3, 71, 0, 24, 0, 22, 25, 0, 1, 16, 25, 25, 68, 0, 14, 30, 5, 0, 4, 42, 33, 10, 19, 21, 25, 36, 5, 0, 3, 9, 18, 13, 1, 106, 0, 45, 0, 43, 57, 0, 3, 30, 48, 57, 107, 2, 57, 64, 22, 0, 4, 71, 53, 57, 19, 59, 71, 53, 2, 0, 5, 9, 50, 8, 2, 71, 0, 37, 0, 38, 40, 0, 2, 26, 43, 40, 71, 2, 37, 68, 26, 0, 2, 71, 40, 40, 22, 44, 69, 39, 2, 0, 2, 8, 37, 0, 0, 0, 0, 0, 0, 0, 0, 0, 0, 0, 0, 0, 0, 0, 0, 0, 0, 0, 0, 0, 0, 0, 0, 0, 0, 0, 0, 0, 0, 0, 0, 2, 1, 4, 0, 1, 0, 7, 2, 0, 0, 7, 4, 4, 7, 0, 4, 4, 7, 0, 1, 6, 4, 4, 6, 4, 6, 4, 0, 0, 4, 4, 4, 6, 4, 36, 0, 28, 0, 20, 22, 0, 4, 13, 32, 32, 36, 4, 32, 29, 13, 0, 4, 23, 31, 32, 13, 32, 23, 30, 4, 0, 13, 7, 32, 0, 0, 8, 0, 11, 0, 5, 4, 0, 0, 2, 4, 4, 9, 0, 4, 6, 2, 0, 0, 6, 6, 4, 2, 6, 6, 4, 0, 0, 2, 2, 4, 13, 2, 102, 0, 40, 0, 43, 47, 0, 2, 26, 47, 47, 102, 2, 47, 69, 25, 0, 2, 69, 64, 47, 21, 47, 70, 54, 2, 0, 5, 13, 47, 41, 0, 0, 1, 49, 66, 27, 53, 0, 3, 23, 23, 10, 36, 30, 30, 0, 23, 0, 43, 52, 33, 7, 0, 0, 5, 1, 12, 3, 25, 0, 15, 90, 0, 0, 13, 55, 90, 57, 73, 0, 7, 67, 31, 17, 55, 52, 52, 0, 62, 0, 61, 92, 48, 7, 0, 0, 11, 3, 12, 4, 43, 0, 26, 88, 0, 0, 8, 41, 71, 37, 44, 0, 8, 71, 29, 14, 42, 47, 40, 0, 45, 0, 40, 84, 39, 4, 0, 0, 8, 2, 10, 3, 38, 0, 22, 0, 0, 0, 0, 0, 0, 0, 0, 0, 0, 0, 0, 0, 0, 0, 0, 0, 0, 0, 0, 0, 0, 0, 0, 0, 0, 0, 0, 0, 0, 0, 0, 9, 0, 0, 4, 14, 3, 2, 5, 0, 2, 24, 9, 7, 15, 13, 4, 0, 4, 0, 4, 8, 2, 2, 0, 0, 0, 1, 12, 2, 2, 0, 9, 39, 0, 0, 7, 46, 43, 19, 31, 0, 6, 29, 13, 21, 37, 21, 32, 0, 31, 0, 31, 39, 30, 6, 0, 0, 6, 4, 54, 8, 13, 0, 13, 8, 0, 0, 1, 11, 9, 4, 6, 0, 0, 6, 3, 10, 8, 3, 4, 0, 6, 0, 6, 8, 4, 0, 0, 0, 0, 0, 18, 2, 3, 0, 2, 70, 0, 0, 13, 71, 102, 52, 80, 0, 7, 65, 28, 18, 67, 47, 47, 0, 62, 0, 54, 80, 47, 7, 0, 0, 13, 2, 15, 5, 43, 0, 25, 0, 62, 40, 9, 0, 12, 61, 17, 35, 17, 1, 0, 3, 20, 3, 4, 31, 0, 37, 31, 26, 0, 18, 32, 28, 2, 20, 14, 28, 28, 24, 0, 0, 93, 77, 8, 0, 15, 80, 25, 63, 64, 3, 0, 2, 48, 2, 4, 52, 0, 61, 78, 52, 0, 64, 56, 73, 7, 13, 25, 77, 55, 55, 4, 0, 52, 66, 7, 0, 12, 52, 24, 40, 71, 2, 0, 2, 38, 2, 2, 39, 0, 40, 79, 39, 0, 62, 43, 63, 8, 12, 26, 77, 40, 40, 2, 0, 0, 0, 0, 0, 0, 0, 0, 0, 0, 0, 0, 0, 0, 0, 0, 0, 0, 0, 0, 0, 0, 0, 0, 0, 0, 0, 0, 0, 0, 0, 0, 0, 3, 16, 4, 0, 12, 5, 10, 3, 6, 0, 0, 0, 2, 0, 1, 4, 0, 4, 24, 4, 0, 4, 16, 6, 0, 12, 10, 24, 4, 4, 1, 0, 36, 29, 23, 0, 54, 33, 23, 31, 32, 4, 0, 4, 19, 4, 4, 31, 0, 30, 34, 32, 0, 32, 21, 32, 4, 54, 18, 24, 30, 32, 4, 0, 9, 6, 10, 0, 21, 7, 10, 6, 6, 0, 0, 0, 4, 0, 0, 4, 0, 4, 6, 4, 0, 6, 3, 7, 0, 18, 6, 6, 4, 4, 0, 0, 105, 69, 9, 0, 15, 85, 24, 56, 65, 2, 0, 2, 47, 2, 2, 47, 0, 54, 70, 47, 0, 47, 47, 67, 5, 13, 26, 65, 47, 48, 2, 1, 27, 0, 17, 22, 5, 21, 59, 13, 23, 21, 3, 11, 8, 25, 0, 8, 32, 56, 35, 12, 35, 36, 7, 31, 0, 0, 1, 43, 0, 39, 25, 5, 51, 0, 40, 52, 2, 30, 107, 22, 60, 59, 4, 23, 8, 50, 0, 22, 60, 71, 52, 31, 52, 55, 7, 50, 0, 0, 4, 77, 0, 59, 32, 2, 37, 0, 38, 44, 2, 24, 71, 22, 60, 58, 3, 29, 8, 43, 0, 22, 47, 43, 62, 23, 40, 42, 8, 43, 0, 0, 2, 63, 0, 40, 31, 0, 0, 0, 0, 0, 0, 0, 0, 0, 0, 0, 0, 0, 0, 0, 0, 0, 0, 0, 0, 0, 0, 0, 0, 0, 0, 0, 0, 0, 0, 0, 0, 4, 4, 0, 13, 4, 1, 0, 7, 7, 0, 0, 0, 7, 2, 2, 0, 7, 4, 15, 12, 0, 2, 4, 4, 13, 0, 0, 1, 11, 0, 4, 11, 13, 30, 0, 17, 22, 6, 13, 36, 13, 29, 24, 4, 13, 7, 19, 0, 13, 31, 37, 21, 11, 19, 32, 7, 20, 0, 0, 4, 36, 0, 32, 20, 3, 4, 0, 3, 4, 0, 3, 8, 2, 6, 6, 0, 2, 0, 3, 0, 2, 6, 11, 6, 2, 3, 4, 2, 6, 0, 0, 0, 8, 0, 6, 3, 7, 52, 0, 28, 54, 3, 35, 102, 21, 65, 59, 2, 25, 9, 47, 0, 21, 54, 82, 56, 28, 47, 52, 7, 47, 0, 0, 2, 102, 0, 60, 28, 42, 0, 38, 6, 2, 21, 0, 12, 59, 15, 28, 1, 63, 9, 3, 65, 1, 7, 24, 0, 10, 44, 16, 17, 24, 0, 21, 10, 52, 0, 0, 12, 90, 0, 55, 13, 2, 44, 0, 22, 107, 26, 41, 3, 98, 22, 3, 80, 3, 7, 49, 0, 7, 44, 43, 52, 21, 0, 28, 52, 52, 0, 0, 23, 79, 0, 44, 13, 2, 43, 0, 22, 71, 23, 38, 2, 71, 22, 3, 44, 2, 8, 33, 0, 10, 41, 38, 44, 15, 0, 31, 37, 41, 0, 0, 22, 0, 0, 0, 0, 0, 0, 0, 0, 0, 0, 0, 0, 0, 0, 0, 0, 0, 0, 0, 0, 0, 0, 0, 0, 0, 0, 0, 0, 0, 0, 0, 0, 24, 0, 3, 2, 1, 16, 0, 7, 7, 0, 14, 0, 7, 7, 0, 3, 0, 4, 18, 0, 8, 14, 14, 4, 7, 0, 17, 4, 4, 0, 0, 7, 34, 0, 31, 7, 4, 20, 0, 13, 39, 11, 32, 4, 41, 13, 4, 36, 4, 23, 36, 0, 46, 46, 36, 32, 13, 0, 58, 28, 31, 0, 0, 18, 8, 0, 6, 1, 0, 6, 0, 2, 8, 2, 11, 0, 8, 2, 0, 7, 0, 10, 11, 0, 14, 15, 11, 4, 2, 0, 17, 11, 4, 0, 0, 6, 70, 0, 54, 13, 2, 37, 0, 25, 96, 26, 40, 2, 102, 21, 4, 85, 2, 9, 33, 0, 8, 51, 40, 47, 25, 0, 29, 47, 47, 0, 0, 23, 27, 20, 15, 0, 0, 3, 1, 0, 2, 5, 20, 20, 17, 28, 0, 9, 14, 6, 8, 14, 13, 21, 10, 29, 0, 13, 24, 62, 15, 25, 15, 25, 57, 19, 43, 0, 0, 7, 5, 0, 7, 5, 49, 65, 19, 45, 0, 15, 19, 28, 26, 47, 22, 55, 35, 52, 2, 15, 51, 98, 47, 25, 42, 59, 37, 23, 38, 0, 0, 7, 2, 0, 8, 3, 37, 62, 18, 40, 0, 8, 14, 18, 18, 43, 22, 46, 18, 40, 2, 14, 40, 65, 43, 27, 48, 44, 0, 0, 0, 0, 0, 0, 0, 0, 0, 0, 0, 0, 0, 0, 0, 0, 0, 0, 0, 0, 0, 0, 0, 0, 0, 0, 0, 0, 0, 0, 0, 0, 2, 0, 4, 0, 0, 2, 1, 0, 2, 1, 2, 4, 6, 13, 0, 2, 2, 2, 7, 2, 6, 15, 2, 4, 1, 6, 4, 11, 2, 14, 0, 4, 17, 11, 32, 0, 0, 6, 7, 0, 4, 4, 13, 29, 13, 20, 0, 6, 7, 7, 13, 20, 11, 20, 7, 32, 4, 13, 28, 41, 28, 58, 24, 23, 3, 2, 14, 0, 0, 0, 1, 0, 0, 0, 3, 6, 2, 3, 0, 0, 2, 2, 2, 3, 2, 6, 2, 4, 0, 2, 6, 8, 6, 18, 3, 6, 52, 26, 47, 0, 0, 7, 2, 0, 7, 3, 40, 60, 21, 40, 0, 12, 18, 21, 26, 47, 21, 47, 26, 47, 2, 18, 47, 102, 47, 24, 47, 47, 29, 9, 32, 10, 1, 23, 24, 20, 68, 24, 17, 22, 32, 5, 23, 20, 30, 34, 26, 0, 0, 0, 1, 55, 10, 0, 3, 20, 25, 32, 66, 71, 48, 9, 73, 14, 2, 47, 62, 48, 107, 51, 63, 56, 36, 22, 52, 58, 69, 26, 58, 0, 0, 0, 4, 90, 7, 0, 4, 58, 64, 73, 90, 98, 40, 8, 68, 10, 2, 40, 53, 38, 75, 40, 40, 41, 32, 18, 39, 43, 83, 27, 40, 0, 0, 0, 3, 66, 8, 0, 2, 45, 69, 68, 71, 69, 0, 0, 0, 0, 0, 0, 0, 0, 0, 0, 0, 0, 0, 0, 0, 0, 0, 0, 0, 0, 0, 0, 0, 0, 0, 0, 0, 0, 0, 0, 0, 0, 2, 4, 4, 4, 0, 13, 4, 4, 5, 4, 4, 4, 2, 4, 4, 4, 22, 17, 2, 0, 0, 0, 1, 3, 4, 0, 1, 4, 6, 6, 7, 3, 23, 13, 23, 7, 4, 20, 28, 32, 41, 32, 28, 28, 16, 13, 30, 28, 27, 58, 22, 0, 0, 0, 4, 43, 13, 0, 6, 30, 32, 23, 41, 36, 4, 4, 7, 1, 0, 3, 6, 13, 9, 4, 6, 4, 3, 2, 4, 4, 6, 17, 4, 0, 0, 0, 0, 6, 1, 0, 0, 4, 6, 7, 8, 8, 47, 9, 65, 16, 2, 40, 47, 44, 102, 47, 47, 54, 35, 21, 47, 47, 68, 26, 59, 0, 0, 0, 2, 79, 9, 0, 2, 54, 65, 69, 102, 102, 33, 28, 30, 0, 32, 11, 23, 33, 32, 11, 7, 1, 24, 1, 10, 20, 0, 0, 18, 50, 12, 18, 0, 0, 0, 33, 17, 58, 4, 16, 49, 23, 48, 21, 52, 4, 67, 8, 54, 48, 48, 15, 8, 5, 43, 4, 23, 45, 0, 2, 25, 80, 22, 15, 0, 0, 0, 62, 52, 61, 7, 19, 90, 41, 40, 27, 40, 2, 71, 8, 40, 38, 43, 17, 6, 3, 38, 3, 22, 38, 0, 2, 18, 55, 18, 13, 0, 0, 0, 59, 44, 44, 5, 17, 79, 37, 0, 0, 0, 0, 0, 0, 0, 0, 0, 0, 0, 0, 0, 0, 0, 0, 0, 0, 0, 0, 0, 0, 0, 0, 0, 0, 0, 0, 0, 0, 0, 0, 4, 14, 4, 1, 16, 8, 3, 2, 4, 6, 0, 1, 4, 2, 7, 13, 0, 1, 6, 6, 4, 11, 0, 0, 0, 15, 0, 3, 4, 6, 8, 2, 30, 58, 32, 7, 25, 46, 32, 20, 31, 13, 4, 7, 28, 4, 13, 20, 0, 7, 13, 34, 11, 46, 0, 0, 0, 23, 24, 31, 18, 13, 34, 20, 4, 21, 6, 1, 7, 14, 6, 3, 6, 2, 0, 1, 13, 0, 2, 3, 0, 0, 2, 8, 2, 18, 0, 0, 0, 6, 3, 6, 7, 2, 8, 6, 47, 24, 47, 2, 60, 11, 47, 43, 47, 21, 7, 2, 47, 3, 21, 32, 0, 2, 21, 73, 21, 13, 0, 0, 0, 64, 47, 64, 9, 21, 70, 43, 6, 13, 6, 1, 14, 21, 0, 58, 23, 1, 33, 24, 14, 0, 16, 24, 26, 21, 0, 31, 4, 30, 32, 2, 9, 38, 30, 0, 61, 50, 57, 18, 4, 22, 15, 3, 19, 21, 0, 61, 54, 4, 24, 21, 40, 0, 23, 49, 40, 59, 0, 64, 7, 69, 52, 16, 7, 74, 69, 0, 107, 55, 98, 15, 2, 22, 13, 2, 22, 22, 0, 46, 37, 2, 31, 23, 43, 0, 24, 40, 38, 41, 0, 62, 8, 83, 43, 8, 4, 79, 68, 0, 71, 44, 71, 18, 0, 0, 0, 0, 0, 0, 0, 0, 0, 0, 0, 0, 0, 0, 0, 0, 0, 0, 0, 0, 0, 0, 0, 0, 0, 0, 0, 0, 0, 0, 0, 0, 1, 6, 0, 1, 7, 7, 0, 14, 2, 0, 14, 17, 13, 0, 11, 2, 11, 2, 0, 3, 4, 22, 4, 2, 4, 6, 6, 0, 7, 18, 7, 14, 13, 13, 8, 7, 13, 13, 0, 36, 20, 4, 58, 58, 20, 0, 18, 23, 20, 23, 0, 32, 13, 34, 32, 6, 23, 29, 32, 0, 36, 37, 36, 58, 3, 2, 2, 1, 2, 2, 0, 8, 5, 0, 17, 24, 3, 0, 10, 4, 6, 4, 0, 6, 4, 6, 4, 0, 10, 7, 9, 0, 8, 11, 9, 18, 4, 21, 14, 2, 21, 25, 0, 64, 47, 2, 31, 24, 36, 0, 26, 47, 36, 54, 0, 64, 9, 73, 47, 13, 9, 70, 69, 0, 102, 71, 102, 15, 10, 1, 10, 9, 21, 35, 34, 6, 0, 28, 24, 1, 0, 0, 0, 0, 31, 25, 0, 33, 38, 5, 8, 0, 6, 27, 18, 1, 39, 33, 42, 5, 12, 2, 23, 5, 55, 52, 56, 12, 0, 77, 40, 3, 0, 2, 0, 0, 50, 57, 0, 62, 55, 5, 22, 0, 15, 73, 62, 2, 67, 90, 90, 7, 8, 2, 22, 3, 44, 40, 39, 10, 0, 69, 43, 2, 0, 2, 0, 0, 35, 40, 0, 40, 43, 2, 14, 0, 8, 53, 53, 2, 67, 83, 79, 5, 0, 0, 0, 0, 0, 0, 0, 0, 0, 0, 0, 0, 0, 0, 0, 0, 0, 0, 0, 0, 0, 0, 0, 0, 0, 0, 0, 0, 0, 0, 0, 0, 0, 1, 7, 4, 4, 3, 2, 4, 0, 6, 12, 0, 0, 0, 0, 0, 2, 4, 0, 4, 15, 3, 4, 0, 0, 4, 4, 0, 16, 24, 8, 2, 6, 4, 13, 34, 32, 31, 19, 8, 0, 32, 20, 4, 0, 4, 0, 0, 19, 28, 0, 31, 37, 13, 8, 0, 6, 29, 28, 4, 26, 37, 29, 4, 0, 0, 2, 8, 4, 6, 3, 2, 0, 6, 3, 0, 0, 0, 0, 0, 3, 13, 0, 6, 11, 2, 2, 0, 0, 6, 6, 0, 7, 8, 8, 0, 13, 2, 21, 4, 47, 47, 51, 12, 0, 67, 33, 2, 0, 2, 0, 0, 47, 47, 0, 54, 67, 5, 21, 0, 13, 62, 47, 2, 62, 80, 84, 6, 0, 13, 24, 26, 5, 29, 34, 20, 48, 11, 15, 29, 15, 8, 0, 3, 54, 0, 0, 0, 0, 0, 0, 2, 30, 4, 18, 4, 28, 7, 0, 0, 0, 8, 57, 54, 9, 60, 74, 48, 23, 23, 48, 29, 14, 22, 0, 8, 93, 0, 0, 0, 0, 0, 0, 2, 52, 4, 25, 3, 73, 26, 0, 0, 0, 12, 40, 40, 8, 40, 71, 43, 28, 22, 43, 31, 10, 18, 0, 7, 69, 0, 0, 0, 0, 0, 0, 2, 40, 4, 22, 2, 62, 18, 0, 0, 0, 0, 0, 0, 0, 0, 0, 0, 0, 0, 0, 0, 0, 0, 0, 0, 0, 0, 0, 0, 0, 0, 0, 0, 0, 0, 0, 0, 0, 0, 0, 0, 0, 8, 2, 4, 0, 4, 16, 2, 17, 7, 2, 11, 4, 0, 0, 2, 5, 0, 0, 0, 0, 0, 0, 1, 4, 2, 6, 2, 6, 2, 0, 0, 0, 46, 23, 32, 4, 22, 24, 19, 58, 13, 22, 29, 7, 7, 0, 6, 34, 0, 0, 0, 0, 0, 0, 6, 32, 4, 13, 13, 32, 6, 0, 0, 0, 18, 3, 4, 0, 4, 6, 4, 15, 2, 4, 8, 1, 2, 0, 0, 9, 0, 0, 0, 0, 0, 0, 0, 4, 0, 2, 3, 6, 0, 0, 0, 0, 13, 47, 47, 11, 59, 70, 47, 33, 25, 47, 33, 14, 21, 0, 8, 85, 0, 0, 0, 0, 0, 0, 2, 47, 5, 26, 7, 65, 21, 0, 0, 44, 18, 5, 38, 0, 6, 4, 30, 33, 27, 2, 6, 0, 17, 26, 30, 35, 1, 30, 2, 30, 0, 0, 3, 0, 29, 7, 2, 0, 29, 1, 1, 90, 52, 7, 57, 0, 4, 4, 64, 68, 73, 4, 14, 0, 19, 43, 69, 52, 5, 69, 4, 45, 0, 0, 2, 0, 51, 7, 3, 0, 71, 2, 3, 77, 44, 7, 40, 0, 4, 2, 68, 68, 69, 5, 10, 0, 19, 38, 67, 40, 5, 68, 2, 37, 0, 0, 2, 0, 37, 4, 3, 0, 71, 2, 2, 0, 0, 0, 0, 0, 0, 0, 0, 0, 0, 0, 0, 0, 0, 0, 0, 0, 0, 0, 0, 0, 0, 0, 0, 0, 0, 0, 0, 0, 0, 0, 0, 8, 4, 2, 2, 0, 2, 2, 6, 6, 6, 2, 4, 0, 4, 4, 24, 2, 1, 6, 1, 4, 0, 0, 0, 0, 0, 2, 1, 0, 22, 0, 1, 34, 32, 7, 17, 0, 4, 13, 29, 32, 32, 6, 8, 0, 7, 29, 29, 22, 4, 32, 6, 28, 0, 0, 4, 0, 27, 7, 4, 0, 24, 6, 4, 8, 4, 1, 4, 0, 0, 3, 6, 6, 6, 0, 2, 0, 2, 11, 8, 3, 0, 6, 0, 6, 0, 0, 0, 0, 3, 0, 0, 0, 6, 0, 0, 84, 47, 7, 52, 0, 7, 5, 69, 69, 65, 5, 18, 0, 21, 44, 69, 51, 5, 69, 2, 47, 0, 0, 2, 0, 47, 5, 5, 0, 70, 2, 2, 2, 3, 27, 0, 0, 26, 0, 26, 2, 0, 13, 33, 45, 0, 44, 33, 37, 0, 0, 50, 6, 19, 0, 55, 31, 4, 2, 16, 0, 31, 7, 19, 2, 4, 52, 0, 0, 48, 0, 28, 3, 0, 22, 62, 90, 0, 75, 77, 90, 2, 0, 55, 6, 30, 2, 80, 56, 4, 3, 43, 0, 52, 23, 57, 2, 3, 41, 0, 0, 40, 0, 27, 2, 0, 22, 40, 75, 0, 44, 68, 83, 2, 0, 40, 6, 24, 2, 55, 40, 4, 2, 35, 0, 38, 18, 43, 0, 0, 0, 0, 0, 0, 0, 0, 0, 0, 0, 0, 0, 0, 0, 0, 0, 0, 0, 0, 0, 0, 0, 0, 0, 0, 0, 0, 0, 0, 0, 0, 0, 2, 13, 0, 0, 4, 0, 14, 1, 0, 4, 4, 5, 0, 4, 6, 24, 1, 0, 4, 4, 0, 1, 5, 4, 2, 1, 4, 0, 0, 0, 2, 6, 4, 20, 0, 0, 32, 0, 58, 7, 0, 13, 28, 36, 0, 31, 34, 37, 4, 0, 32, 34, 13, 6, 34, 23, 6, 6, 32, 0, 30, 6, 20, 0, 0, 3, 0, 0, 4, 0, 17, 0, 0, 2, 6, 9, 0, 6, 8, 8, 0, 0, 4, 10, 2, 0, 8, 4, 0, 0, 4, 0, 3, 0, 4, 2, 5, 52, 0, 0, 47, 0, 24, 2, 0, 21, 54, 102, 0, 69, 71, 80, 2, 0, 47, 9, 28, 2, 67, 47, 7, 2, 44, 0, 47, 14, 47, 33, 42, 36, 10, 2, 13, 13, 24, 33, 32, 5, 31, 7, 3, 16, 15, 0, 0, 24, 0, 0, 30, 3, 24, 31, 42, 0, 13, 10, 3, 1, 4, 77, 24, 55, 48, 2, 22, 22, 58, 35, 16, 34, 40, 7, 5, 16, 22, 0, 0, 62, 0, 0, 52, 7, 45, 56, 80, 0, 48, 17, 3, 2, 2, 68, 27, 40, 43, 2, 23, 22, 40, 24, 21, 24, 38, 4, 5, 12, 24, 0, 0, 45, 0, 0, 44, 5, 38, 40, 74, 0, 43, 15, 2, 2, 2, 0, 0, 0, 0, 0, 0, 0, 0, 0, 0, 0, 0, 0, 0, 0, 0, 0, 0, 0, 0, 0, 0, 0, 0, 0, 0, 0, 0, 0, 0, 0, 0, 6, 17, 2, 0, 1, 0, 7, 4, 2, 17, 2, 4, 2, 4, 14, 7, 0, 0, 3, 0, 0, 4, 2, 4, 4, 24, 0, 4, 7, 1, 1, 1, 32, 58, 17, 30, 4, 11, 13, 32, 13, 58, 13, 25, 13, 18, 59, 13, 0, 0, 23, 0, 0, 31, 4, 36, 32, 37, 0, 32, 13, 4, 7, 4, 6, 15, 4, 4, 0, 2, 2, 4, 3, 21, 2, 6, 3, 4, 24, 2, 0, 0, 4, 0, 0, 6, 0, 11, 4, 8, 0, 8, 2, 0, 1, 0, 69, 33, 52, 44, 2, 26, 21, 47, 35, 24, 28, 43, 6, 6, 15, 26, 0, 0, 51, 0, 0, 50, 8, 44, 47, 68, 0, 47, 21, 2, 2, 2, 34, 57, 34, 4, 0, 0, 35, 0, 20, 2, 19, 5, 2, 16, 25, 0, 0, 1, 48, 0, 16, 12, 33, 24, 12, 31, 0, 0, 30, 29, 31, 38, 74, 98, 22, 4, 0, 0, 73, 0, 19, 7, 59, 8, 2, 23, 43, 0, 0, 3, 80, 0, 59, 43, 23, 58, 34, 50, 0, 2, 52, 62, 56, 54, 68, 71, 25, 2, 0, 0, 62, 0, 24, 5, 44, 10, 3, 24, 38, 0, 0, 2, 52, 0, 49, 35, 25, 40, 23, 38, 0, 2, 40, 44, 36, 37, 0, 0, 0, 0, 0, 0, 0, 0, 0, 0, 0, 0, 0, 0, 0, 0, 0, 0, 0, 0, 0, 0, 0, 0, 0, 0, 0, 0, 0, 0, 0, 0, 6, 3, 11, 1, 0, 0, 8, 0, 7, 2, 4, 8, 1, 11, 2, 0, 0, 2, 5, 0, 4, 4, 11, 4, 2, 2, 0, 1, 2, 3, 2, 2, 31, 36, 58, 6, 0, 0, 31, 0, 13, 4, 32, 46, 4, 18, 19, 0, 0, 7, 34, 0, 22, 32, 58, 32, 13, 18, 0, 4, 19, 32, 17, 19, 6, 9, 20, 0, 0, 0, 8, 0, 2, 0, 6, 14, 0, 6, 3, 0, 0, 1, 8, 0, 4, 7, 17, 4, 2, 3, 0, 0, 3, 6, 3, 5, 64, 102, 24, 2, 0, 0, 62, 0, 26, 5, 48, 11, 3, 25, 43, 0, 0, 2, 80, 0, 47, 40, 29, 47, 28, 47, 0, 2, 54, 64, 51, 54, 19, 2, 17, 0, 31, 0, 66, 7, 13, 7, 35, 21, 66, 15, 6, 0, 12, 16, 0, 25, 18, 23, 15, 17, 15, 6, 0, 38, 7, 7, 2, 3, 45, 3, 34, 0, 66, 0, 90, 7, 13, 7, 52, 16, 92, 62, 15, 4, 31, 22, 0, 57, 40, 52, 42, 52, 22, 13, 0, 74, 23, 23, 4, 4, 38, 2, 18, 0, 62, 0, 71, 8, 14, 8, 43, 12, 68, 40, 13, 2, 24, 22, 0, 33, 38, 39, 37, 44, 22, 13, 0, 49, 14, 18, 2, 2, 0, 0, 0, 0, 0, 0, 0, 0, 0, 0, 0, 0, 0, 0, 0, 0, 0, 0, 0, 0, 0, 0, 0, 0, 0, 0, 0, 0, 0, 0, 0, 0, 7, 1, 4, 0, 4, 0, 9, 4, 6, 2, 0, 0, 7, 4, 6, 2, 5, 7, 0, 2, 13, 2, 2, 4, 7, 4, 0, 5, 2, 9, 1, 0, 17, 6, 13, 0, 22, 0, 39, 8, 13, 6, 29, 7, 37, 30, 13, 4, 13, 13, 0, 13, 20, 22, 22, 31, 13, 7, 0, 34, 7, 18, 4, 4, 3, 0, 2, 0, 4, 0, 9, 2, 2, 0, 3, 1, 9, 4, 2, 0, 3, 2, 0, 3, 3, 4, 4, 6, 2, 1, 0, 7, 1, 8, 0, 0, 31, 2, 26, 0, 59, 0, 102, 7, 18, 7, 47, 21, 96, 54, 18, 3, 29, 26, 0, 47, 33, 47, 47, 47, 26, 16, 0, 80, 21, 23, 2, 2, 0, 38, 0, 0, 4, 66, 31, 24, 38, 0, 2, 18, 13, 16, 27, 14, 35, 34, 13, 51, 0, 35, 77, 4, 1, 0, 3, 18, 52, 0, 77, 7, 0, 90, 0, 0, 4, 90, 50, 34, 77, 0, 4, 35, 13, 22, 52, 57, 71, 60, 22, 92, 0, 52, 92, 7, 3, 0, 2, 30, 69, 4, 90, 7, 0, 92, 0, 0, 4, 66, 39, 33, 69, 0, 2, 26, 17, 18, 37, 43, 71, 40, 22, 88, 0, 43, 75, 6, 2, 0, 2, 18, 44, 2, 68, 4, 0, 0, 0, 0, 0, 0, 0, 0, 0, 0, 0, 0, 0, 0, 0, 0, 0, 0, 0, 0, 0, 0, 0, 0, 0, 0, 0, 0, 0, 0, 0, 0, 0, 8, 0, 0, 2, 3, 2, 11, 6, 0, 1, 2, 12, 4, 2, 4, 6, 2, 7, 8, 0, 0, 7, 0, 0, 0, 1, 7, 3, 2, 7, 2, 0, 39, 0, 0, 4, 41, 21, 20, 29, 0, 4, 13, 59, 8, 30, 28, 32, 22, 13, 39, 0, 29, 41, 6, 4, 0, 6, 13, 31, 4, 36, 4, 0, 8, 0, 0, 0, 9, 5, 3, 7, 0, 0, 3, 21, 2, 4, 6, 6, 4, 2, 8, 0, 3, 8, 0, 0, 0, 0, 2, 6, 0, 8, 0, 0, 84, 0, 0, 5, 102, 47, 29, 67, 0, 2, 33, 15, 18, 52, 47, 69, 54, 21, 80, 0, 47, 102, 7, 2, 0, 2, 26, 69, 3, 102, 5, 39, 0, 15, 2, 0, 32, 24, 20, 0, 8, 27, 4, 27, 24, 25, 17, 2, 3, 23, 0, 0, 28, 30, 44, 21, 2, 16, 11, 2, 15, 43, 13, 41, 2, 20, 4, 0, 43, 55, 13, 0, 22, 52, 13, 57, 45, 43, 13, 4, 5, 31, 0, 0, 55, 45, 90, 55, 16, 19, 23, 3, 40, 68, 22, 42, 2, 24, 4, 0, 38, 40, 14, 0, 22, 37, 8, 37, 40, 38, 22, 2, 5, 29, 0, 0, 43, 37, 79, 34, 13, 19, 22, 2, 38, 55, 22, 0, 0, 0, 0, 0, 0, 0, 0, 0, 0, 0, 0, 0, 0, 0, 0, 0, 0, 0, 0, 0, 0, 0, 0, 0, 0, 0, 0, 0, 0, 0, 0, 17, 1, 10, 2, 0, 13, 4, 6, 0, 8, 4, 4, 4, 13, 4, 7, 0, 2, 13, 0, 0, 4, 4, 9, 2, 4, 7, 7, 2, 4, 5, 7, 41, 6, 18, 4, 0, 25, 32, 13, 0, 18, 28, 8, 30, 25, 32, 18, 4, 8, 13, 0, 0, 31, 28, 36, 32, 7, 13, 13, 14, 20, 39, 13, 11, 0, 8, 0, 0, 11, 4, 2, 0, 8, 7, 2, 4, 6, 11, 8, 0, 1, 3, 0, 0, 4, 11, 8, 4, 1, 2, 6, 3, 3, 8, 2, 43, 2, 23, 5, 0, 43, 47, 18, 0, 23, 47, 11, 52, 33, 44, 23, 2, 5, 29, 0, 0, 47, 47, 70, 47, 14, 21, 21, 5, 40, 86, 26, 28, 10, 31, 22, 38, 3, 13, 0, 0, 2, 3, 0, 4, 17, 30, 23, 6, 11, 0, 0, 24, 4, 4, 28, 2, 0, 19, 15, 25, 9, 20, 2, 62, 14, 68, 53, 23, 2, 15, 0, 0, 4, 10, 0, 2, 34, 52, 63, 2, 23, 0, 0, 26, 14, 4, 60, 2, 0, 27, 7, 48, 32, 49, 2, 53, 14, 69, 53, 27, 2, 14, 0, 0, 2, 8, 0, 2, 24, 40, 45, 2, 22, 0, 0, 24, 10, 2, 40, 2, 0, 24, 7, 43, 29, 40, 2, 0, 0, 0, 0, 0, 0, 0, 0, 0, 0, 0, 0, 0, 0, 0, 0, 0, 0, 0, 0, 0, 0, 0, 0, 0, 0, 0, 0, 0, 0, 0, 0, 4, 6, 4, 5, 17, 0, 6, 0, 0, 1, 2, 0, 1, 7, 4, 4, 0, 9, 0, 0, 7, 4, 1, 4, 0, 0, 0, 4, 4, 11, 4, 1, 30, 13, 32, 31, 58, 4, 13, 0, 0, 4, 7, 0, 4, 13, 32, 32, 4, 18, 0, 0, 13, 8, 7, 31, 4, 0, 13, 23, 32, 23, 24, 4, 4, 2, 6, 6, 17, 0, 2, 0, 0, 0, 0, 0, 0, 2, 4, 4, 0, 8, 0, 0, 2, 2, 0, 6, 0, 0, 3, 10, 6, 11, 4, 0, 60, 18, 60, 65, 26, 2, 18, 0, 0, 2, 8, 0, 2, 26, 56, 47, 2, 23, 0, 0, 26, 18, 3, 54, 2, 0, 28, 8, 47, 33, 47, 2, 31, 54, 5, 19, 29, 5, 0, 0, 68, 0, 42, 14, 18, 0, 33, 0, 0, 0, 0, 0, 9, 2, 11, 21, 5, 0, 15, 13, 2, 9, 49, 7, 52, 74, 5, 19, 48, 8, 0, 0, 107, 0, 61, 31, 25, 0, 62, 0, 0, 0, 0, 0, 9, 7, 23, 29, 5, 2, 7, 22, 4, 22, 54, 3, 39, 52, 2, 22, 43, 8, 0, 0, 75, 0, 40, 24, 26, 0, 43, 0, 0, 0, 0, 0, 8, 8, 18, 24, 5, 2, 8, 18, 2, 18, 41, 2, 0, 0, 0, 0, 0, 0, 0, 0, 0, 0, 0, 0, 0, 0, 0, 0, 0, 0, 0, 0, 0, 0, 0, 0, 0, 0, 0, 0, 0, 0, 0, 0, 4, 3, 1, 7, 4, 4, 0, 0, 5, 0, 4, 11, 6, 0, 14, 0, 0, 0, 0, 0, 4, 0, 0, 0, 4, 1, 6, 6, 1, 7, 18, 2, 32, 36, 6, 13, 32, 13, 0, 0, 36, 0, 31, 18, 13, 0, 31, 0, 0, 0, 0, 0, 13, 4, 0, 11, 18, 6, 35, 13, 4, 13, 46, 18, 4, 8, 0, 2, 6, 3, 0, 0, 8, 0, 6, 10, 2, 0, 8, 0, 0, 0, 0, 0, 1, 0, 0, 2, 5, 0, 14, 2, 0, 2, 15, 3, 48, 71, 3, 25, 47, 7, 0, 0, 102, 0, 62, 28, 26, 0, 64, 0, 0, 0, 0, 0, 9, 11, 28, 26, 4, 2, 8, 21, 2, 21, 51, 5, 0, 0, 22, 7, 12, 0, 33, 11, 0, 0, 16, 0, 28, 24, 16, 0, 19, 9, 5, 0, 26, 10, 0, 30, 31, 0, 0, 0, 20, 8, 31, 24, 0, 0, 62, 8, 22, 0, 48, 15, 0, 0, 34, 0, 45, 52, 52, 0, 16, 9, 7, 0, 58, 23, 0, 64, 90, 0, 0, 0, 52, 7, 58, 48, 0, 0, 53, 8, 22, 0, 41, 12, 0, 0, 23, 0, 37, 43, 38, 0, 16, 8, 5, 0, 40, 23, 0, 68, 90, 0, 0, 0, 45, 5, 66, 43, 0, 0, 0, 0, 0, 0, 0, 0, 0, 0, 0, 0, 0, 0, 0, 0, 0, 0, 0, 0, 0, 0, 0, 0, 0, 0, 0, 0, 0, 0, 0, 0, 0, 0, 4, 0, 7, 0, 2, 8, 0, 0, 0, 0, 2, 4, 4, 0, 6, 4, 4, 0, 4, 0, 0, 6, 5, 0, 0, 0, 4, 2, 15, 4, 0, 0, 30, 6, 13, 0, 21, 46, 0, 0, 11, 0, 18, 32, 32, 0, 13, 8, 18, 0, 32, 11, 0, 23, 34, 0, 0, 0, 30, 6, 22, 28, 0, 0, 4, 0, 2, 0, 6, 18, 0, 0, 2, 0, 4, 4, 4, 0, 2, 2, 7, 0, 4, 1, 0, 6, 8, 0, 0, 0, 4, 0, 6, 6, 0, 0, 54, 13, 25, 0, 47, 11, 0, 0, 26, 0, 47, 47, 47, 0, 18, 9, 9, 0, 47, 26, 0, 69, 79, 0, 0, 0, 48, 6, 59, 47, 22, 13, 9, 45, 19, 0, 9, 0, 5, 6, 19, 18, 9, 10, 14, 31, 29, 1, 29, 0, 50, 39, 10, 3, 13, 0, 28, 0, 22, 3, 2, 47, 43, 20, 7, 77, 57, 5, 23, 0, 5, 7, 59, 25, 26, 23, 65, 66, 48, 3, 59, 0, 34, 75, 30, 3, 34, 0, 55, 0, 43, 7, 4, 77, 37, 14, 7, 77, 43, 5, 23, 0, 3, 6, 43, 22, 23, 18, 53, 59, 40, 2, 62, 0, 38, 75, 24, 2, 28, 0, 58, 0, 37, 5, 2, 55, 0, 0, 0, 0, 0, 0, 0, 0, 0, 0, 0, 0, 0, 0, 0, 0, 0, 0, 0, 0, 0, 0, 0, 0, 0, 0, 0, 0, 0, 0, 0, 0, 1, 6, 4, 24, 4, 0, 10, 0, 1, 2, 2, 0, 6, 7, 4, 3, 4, 0, 6, 0, 17, 5, 7, 2, 9, 0, 15, 0, 2, 2, 1, 5, 25, 13, 13, 24, 32, 0, 18, 0, 4, 6, 22, 13, 13, 13, 32, 32, 32, 4, 36, 0, 53, 34, 13, 8, 13, 0, 21, 0, 22, 7, 4, 39, 11, 2, 4, 6, 6, 1, 6, 0, 0, 0, 4, 2, 2, 2, 6, 6, 4, 0, 6, 0, 15, 8, 3, 1, 3, 0, 6, 0, 4, 0, 0, 7, 44, 21, 7, 68, 47, 11, 23, 0, 3, 7, 47, 26, 26, 21, 54, 62, 47, 2, 47, 0, 40, 70, 28, 5, 28, 0, 62, 0, 47, 8, 2, 67, 0, 24, 31, 0, 39, 35, 15, 0, 19, 63, 30, 8, 0, 24, 11, 4, 17, 1, 0, 35, 48, 28, 7, 3, 36, 0, 24, 0, 2, 10, 3, 23, 0, 36, 56, 0, 54, 52, 15, 2, 27, 107, 52, 8, 0, 45, 23, 2, 52, 2, 0, 52, 80, 51, 15, 1, 77, 0, 58, 0, 2, 52, 7, 41, 0, 33, 44, 0, 40, 62, 12, 2, 24, 71, 44, 8, 0, 38, 22, 2, 37, 2, 0, 40, 54, 33, 15, 2, 77, 0, 40, 0, 2, 42, 5, 29, 0, 0, 0, 0, 0, 0, 0, 0, 0, 0, 0, 0, 0, 0, 0, 0, 0, 0, 0, 0, 0, 0, 0, 0, 0, 0, 0, 0, 0, 0, 0, 0, 0, 2, 3, 0, 3, 5, 11, 0, 9, 4, 5, 4, 0, 2, 7, 1, 1, 0, 0, 3, 16, 2, 6, 1, 5, 0, 4, 0, 1, 13, 2, 2, 0, 20, 31, 0, 23, 32, 54, 4, 13, 41, 31, 8, 0, 17, 13, 4, 25, 2, 0, 32, 39, 19, 13, 6, 32, 0, 30, 0, 6, 20, 8, 17, 0, 3, 6, 0, 4, 6, 17, 0, 3, 8, 6, 1, 0, 3, 2, 0, 11, 0, 0, 6, 8, 3, 2, 0, 7, 0, 4, 0, 0, 6, 0, 3, 0, 35, 47, 0, 52, 56, 13, 2, 25, 102, 69, 13, 0, 43, 21, 2, 47, 2, 0, 47, 80, 47, 18, 2, 70, 0, 47, 0, 2, 36, 6, 47, 30, 7, 0, 0, 38, 4, 17, 59, 6, 36, 26, 0, 7, 11, 17, 22, 47, 30, 43, 0, 4, 5, 0, 4, 23, 0, 1, 29, 1, 0, 10, 22, 64, 23, 0, 0, 74, 4, 34, 93, 7, 90, 54, 4, 15, 26, 52, 31, 90, 52, 61, 2, 2, 9, 2, 4, 23, 0, 1, 71, 4, 0, 35, 43, 52, 15, 0, 0, 66, 2, 24, 59, 7, 77, 39, 2, 13, 23, 43, 26, 79, 40, 39, 2, 2, 8, 2, 4, 23, 0, 1, 69, 3, 0, 37, 42, 0, 0, 0, 0, 0, 0, 0, 0, 0, 0, 0, 0, 0, 0, 0, 0, 0, 0, 0, 0, 0, 0, 0, 0, 0, 0, 0, 0, 0, 0, 0, 0, 4, 7, 0, 0, 21, 1, 7, 5, 2, 24, 4, 1, 4, 0, 4, 8, 6, 4, 4, 0, 1, 2, 0, 2, 0, 0, 0, 6, 0, 0, 2, 13, 27, 18, 0, 0, 27, 4, 13, 39, 7, 27, 32, 4, 7, 11, 28, 13, 39, 30, 28, 4, 4, 7, 2, 4, 11, 0, 2, 32, 4, 0, 25, 20, 3, 6, 0, 0, 6, 0, 2, 8, 0, 6, 4, 0, 1, 2, 11, 2, 8, 4, 6, 0, 0, 1, 0, 0, 2, 0, 0, 6, 0, 0, 6, 6, 56, 21, 0, 0, 60, 2, 26, 85, 7, 70, 47, 2, 13, 26, 47, 26, 84, 50, 51, 2, 2, 13, 2, 5, 28, 0, 2, 65, 2, 0, 44, 40, 48, 12, 42, 43, 0, 0, 1, 56, 22, 7, 0, 23, 2, 0, 3, 7, 10, 0, 21, 37, 3, 33, 20, 64, 2, 8, 49, 0, 43, 36, 0, 0, 93, 34, 90, 68, 0, 2, 4, 69, 52, 4, 0, 41, 2, 0, 7, 7, 10, 0, 59, 52, 4, 90, 58, 90, 2, 8, 58, 0, 90, 90, 0, 0, 83, 38, 79, 66, 0, 2, 3, 44, 44, 2, 0, 37, 2, 0, 8, 8, 8, 0, 34, 37, 2, 79, 45, 68, 2, 7, 41, 0, 77, 77, 0, 0, 0, 0, 0, 0, 0, 0, 0, 0, 0, 0, 0, 0, 0, 0, 0, 0, 0, 0, 0, 0, 0, 0, 0, 0, 0, 0, 0, 0, 0, 0, 0, 0, 24, 11, 24, 16, 0, 1, 1, 5, 4, 1, 0, 2, 0, 0, 0, 0, 4, 0, 4, 2, 1, 9, 4, 5, 0, 2, 15, 0, 24, 5, 0, 0, 24, 20, 37, 36, 0, 4, 4, 39, 32, 4, 0, 19, 4, 0, 6, 6, 7, 0, 32, 19, 4, 39, 30, 39, 4, 7, 37, 0, 34, 34, 0, 0, 6, 3, 8, 11, 0, 0, 0, 8, 4, 0, 0, 3, 0, 0, 0, 0, 1, 0, 4, 4, 0, 8, 4, 8, 0, 0, 12, 0, 8, 7, 0, 0, 68, 28, 70, 71, 0, 2, 2, 67, 54, 2, 0, 47, 2, 0, 8, 8, 13, 0, 47, 47, 5, 70, 47, 96, 2, 7, 71, 0, 80, 70, 0, 0, 25, 22, 22, 14, 15, 63, 36, 20, 2, 2, 17, 44, 0, 33, 0, 55, 23, 55, 2, 35, 11, 32, 24, 39, 0, 20, 24, 14, 20, 21, 0, 3, 57, 22, 56, 43, 36, 98, 77, 48, 4, 4, 43, 61, 0, 53, 0, 66, 59, 90, 2, 71, 15, 60, 36, 48, 0, 49, 45, 31, 65, 30, 0, 1, 40, 22, 44, 43, 24, 69, 77, 40, 4, 2, 38, 40, 0, 52, 0, 54, 62, 55, 2, 71, 17, 43, 29, 40, 0, 39, 43, 24, 53, 24, 0, 2, 0, 0, 0, 0, 0, 0, 0, 0, 0, 0, 0, 0, 0, 0, 0, 0, 0, 0, 0, 0, 0, 0, 0, 0, 0, 0, 0, 0, 0, 0, 0, 0, 4, 6, 4, 2, 2, 5, 5, 2, 1, 1, 13, 4, 0, 3, 0, 16, 15, 5, 1, 6, 14, 4, 2, 0, 0, 4, 4, 2, 4, 2, 0, 1, 32, 13, 22, 25, 13, 36, 39, 20, 4, 4, 20, 31, 0, 31, 0, 37, 21, 37, 4, 34, 58, 29, 13, 31, 0, 32, 28, 13, 32, 13, 0, 4, 4, 2, 4, 11, 3, 8, 5, 3, 0, 0, 3, 6, 0, 6, 0, 11, 6, 10, 0, 6, 18, 6, 3, 4, 0, 4, 11, 2, 6, 2, 0, 0, 47, 25, 54, 44, 37, 102, 70, 43, 3, 2, 37, 62, 0, 64, 0, 67, 54, 96, 2, 69, 15, 62, 37, 52, 0, 47, 47, 28, 62, 29, 0, 2, 7, 22, 0, 8, 44, 13, 41, 15, 9, 12, 0, 21, 72, 22, 31, 31, 27, 0, 0, 0, 0, 0, 17, 29, 27, 14, 1, 33, 31, 4, 11, 2, 12, 43, 0, 23, 90, 8, 69, 36, 9, 8, 5, 59, 98, 71, 78, 66, 27, 0, 0, 0, 0, 0, 59, 52, 57, 19, 2, 62, 78, 2, 15, 3, 10, 35, 0, 27, 77, 8, 44, 24, 8, 8, 2, 58, 65, 53, 84, 69, 27, 0, 0, 0, 0, 0, 44, 40, 37, 14, 2, 40, 79, 2, 7, 2, 0, 0, 0, 0, 0, 0, 0, 0, 0, 0, 0, 0, 0, 0, 0, 0, 0, 0, 0, 0, 0, 0, 0, 0, 0, 0, 0, 0, 0, 0, 0, 0, 4, 2, 0, 11, 8, 4, 5, 7, 4, 4, 1, 0, 4, 3, 24, 6, 14, 0, 0, 0, 0, 0, 4, 4, 4, 4, 0, 3, 24, 0, 2, 1, 13, 24, 0, 25, 34, 13, 31, 13, 7, 13, 7, 22, 41, 32, 34, 34, 58, 0, 0, 0, 0, 0, 22, 30, 22, 13, 4, 23, 27, 4, 7, 6, 2, 4, 0, 10, 8, 4, 6, 2, 1, 2, 0, 4, 9, 6, 5, 6, 18, 0, 0, 0, 0, 0, 4, 4, 4, 2, 0, 6, 6, 0, 1, 0, 11, 47, 0, 29, 84, 9, 69, 28, 13, 11, 3, 59, 102, 62, 70, 65, 26, 0, 0, 0, 0, 0, 54, 47, 54, 18, 2, 59, 65, 2, 11, 5, 18, 26, 53, 0, 2, 2, 53, 17, 0, 31, 0, 30, 3, 32, 2, 44, 0, 20, 2, 11, 13, 0, 31, 26, 0, 0, 1, 0, 1, 0, 40, 16, 25, 50, 55, 0, 2, 2, 71, 43, 0, 64, 0, 69, 4, 60, 7, 77, 0, 50, 4, 40, 22, 0, 66, 54, 0, 0, 2, 0, 2, 0, 72, 34, 22, 38, 41, 0, 2, 2, 43, 38, 0, 55, 0, 68, 3, 43, 5, 68, 0, 43, 2, 33, 22, 0, 66, 36, 0, 0, 2, 0, 2, 0, 63, 32, 0, 0, 0, 0, 0, 0, 0, 0, 0, 0, 0, 0, 0, 0, 0, 0, 0, 0, 0, 0, 0, 0, 0, 0, 0, 0, 0, 0, 0, 0, 0, 0, 7, 4, 14, 0, 0, 1, 15, 4, 0, 3, 0, 6, 0, 2, 2, 6, 0, 14, 1, 2, 8, 0, 6, 4, 0, 0, 1, 0, 0, 0, 16, 4, 13, 28, 37, 0, 4, 4, 37, 25, 0, 31, 0, 31, 4, 22, 6, 34, 0, 25, 4, 25, 13, 0, 32, 32, 0, 0, 7, 0, 4, 0, 23, 16, 4, 4, 11, 0, 0, 0, 11, 11, 0, 6, 0, 6, 0, 6, 0, 8, 0, 11, 0, 6, 2, 0, 6, 4, 0, 0, 0, 0, 0, 0, 6, 3, 21, 47, 64, 0, 2, 2, 80, 40, 0, 47, 0, 69, 2, 54, 7, 73, 0, 40, 2, 40, 25, 0, 65, 47, 0, 0, 2, 0, 2, 0, 59, 29, 0, 6, 0, 20, 0, 0, 0, 28, 6, 6, 9, 8, 21, 9, 0, 2, 0, 2, 46, 12, 25, 10, 8, 2, 0, 21, 60, 33, 28, 1, 6, 0, 0, 24, 0, 29, 0, 0, 0, 41, 14, 13, 15, 7, 48, 11, 0, 4, 4, 4, 80, 34, 57, 23, 14, 2, 0, 43, 98, 62, 51, 3, 28, 0, 0, 24, 0, 26, 0, 0, 0, 40, 10, 10, 21, 5, 35, 8, 0, 2, 2, 2, 44, 24, 40, 17, 8, 2, 0, 43, 69, 40, 40, 2, 24, 0, 0, 0, 0, 0, 0, 0, 0, 0, 0, 0, 0, 0, 0, 0, 0, 0, 0, 0, 0, 0, 0, 0, 0, 0, 0, 0, 0, 0, 0, 0, 0, 0, 0, 6, 0, 11, 0, 0, 0, 14, 4, 4, 17, 4, 4, 2, 0, 0, 1, 1, 5, 7, 4, 7, 0, 1, 0, 4, 3, 4, 4, 0, 7, 0, 0, 11, 0, 13, 0, 0, 0, 32, 8, 7, 58, 23, 32, 6, 0, 4, 4, 4, 34, 13, 32, 13, 6, 6, 0, 32, 36, 31, 32, 4, 13, 0, 0, 2, 0, 3, 0, 0, 0, 11, 2, 2, 24, 10, 4, 0, 0, 0, 0, 0, 8, 2, 4, 2, 0, 0, 0, 15, 8, 6, 4, 0, 2, 0, 0, 21, 0, 28, 0, 0, 0, 40, 18, 13, 15, 8, 47, 12, 0, 2, 2, 2, 80, 26, 47, 21, 17, 2, 0, 47, 102, 64, 54, 2, 26, 0, 23, 26, 0, 26, 22, 14, 31, 12, 5, 1, 2, 27, 54, 19, 42, 4, 65, 44, 17, 28, 19, 3, 0, 33, 16, 37, 42, 24, 29, 3, 11, 1, 41, 64, 0, 54, 56, 25, 52, 22, 7, 2, 2, 51, 22, 43, 24, 2, 98, 22, 43, 29, 51, 2, 0, 77, 12, 55, 90, 62, 91, 4, 15, 3, 37, 58, 0, 40, 43, 22, 40, 22, 7, 2, 2, 37, 31, 37, 31, 2, 65, 31, 43, 31, 43, 2, 0, 79, 10, 48, 79, 53, 83, 3, 22, 2, 0, 0, 0, 0, 0, 0, 0, 0, 0, 0, 0, 0, 0, 0, 0, 0, 0, 0, 0, 0, 0, 0, 0, 0, 0, 0, 0, 0, 0, 0, 0, 0, 2, 5, 0, 4, 2, 7, 3, 7, 2, 1, 1, 0, 14, 2, 17, 1, 7, 17, 4, 14, 4, 1, 0, 9, 10, 5, 24, 4, 24, 0, 7, 0, 20, 29, 0, 31, 22, 13, 31, 13, 6, 6, 4, 30, 58, 15, 58, 4, 41, 53, 28, 58, 28, 6, 0, 27, 46, 31, 37, 32, 34, 4, 13, 4, 3, 6, 0, 4, 4, 2, 6, 2, 0, 0, 0, 4, 11, 3, 15, 0, 8, 18, 11, 15, 4, 0, 0, 6, 18, 6, 8, 6, 8, 0, 2, 0, 43, 60, 0, 47, 54, 26, 47, 21, 11, 2, 2, 52, 29, 47, 33, 2, 102, 33, 44, 33, 47, 2, 0, 70, 11, 62, 68, 62, 70, 2, 21, 2, 23, 16, 37, 24, 26, 25, 2, 26, 7, 54, 8, 6, 12, 18, 1, 31, 23, 11, 0, 16, 6, 60, 0, 0, 23, 3, 16, 6, 27, 31, 1, 19, 64, 23, 52, 48, 64, 57, 4, 54, 7, 90, 26, 2, 25, 59, 2, 50, 47, 26, 0, 29, 7, 98, 0, 2, 52, 4, 22, 2, 27, 23, 3, 19, 69, 24, 39, 40, 75, 40, 2, 39, 8, 71, 26, 2, 24, 41, 2, 38, 37, 23, 0, 24, 5, 71, 0, 2, 44, 2, 22, 2, 24, 29, 2, 22, 0, 0, 0, 0, 0, 0, 0, 0, 0, 0, 0, 0, 0, 0, 0, 0, 0, 0, 0, 0, 0, 0, 0, 0, 0, 0, 0, 0, 0, 0, 0, 0, 4, 11, 4, 4, 6, 4, 1, 3, 4, 5, 2, 1, 11, 4, 0, 2, 4, 0, 0, 9, 4, 11, 0, 1, 4, 2, 7, 1, 9, 11, 1, 10, 32, 58, 31, 32, 23, 32, 6, 30, 8, 34, 13, 4, 18, 32, 4, 19, 20, 11, 0, 15, 23, 36, 0, 4, 32, 13, 13, 4, 18, 25, 4, 15, 6, 15, 4, 4, 6, 4, 0, 4, 2, 8, 2, 0, 10, 6, 0, 3, 5, 2, 0, 4, 10, 9, 0, 0, 4, 2, 2, 0, 4, 11, 0, 3, 65, 24, 47, 47, 68, 47, 2, 47, 8, 80, 28, 2, 25, 47, 2, 47, 43, 28, 0, 25, 9, 102, 0, 2, 54, 5, 25, 2, 28, 26, 2, 25, 23, 13, 19, 5, 0, 18, 0, 0, 0, 0, 22, 32, 6, 0, 47, 29, 4, 27, 24, 67, 24, 20, 15, 11, 18, 0, 71, 26, 0, 16, 40, 0, 63, 22, 45, 2, 0, 57, 2, 0, 0, 0, 71, 52, 7, 0, 52, 62, 4, 57, 50, 90, 58, 58, 15, 18, 34, 0, 94, 54, 0, 22, 77, 0, 40, 22, 37, 2, 0, 40, 2, 0, 0, 0, 56, 43, 7, 0, 39, 40, 4, 53, 53, 75, 53, 40, 11, 22, 40, 0, 71, 36, 0, 22, 68, 0, 0, 0, 0, 0, 0, 0, 0, 0, 0, 0, 0, 0, 0, 0, 0, 0, 0, 0, 0, 0, 0, 0, 0, 0, 0, 0, 0, 0, 0, 0, 0, 0, 3, 6, 1, 1, 0, 4, 0, 0, 0, 0, 3, 4, 2, 0, 4, 3, 1, 4, 15, 5, 4, 2, 17, 6, 7, 0, 3, 4, 0, 7, 6, 0, 30, 13, 13, 6, 0, 20, 4, 0, 0, 0, 32, 31, 7, 0, 30, 30, 4, 22, 20, 39, 32, 22, 58, 13, 13, 0, 36, 32, 0, 13, 34, 0, 4, 2, 3, 0, 0, 6, 0, 0, 0, 0, 6, 6, 2, 0, 4, 4, 0, 7, 3, 8, 6, 4, 21, 2, 3, 0, 8, 4, 0, 2, 6, 0, 47, 21, 37, 3, 0, 47, 2, 0, 0, 0, 56, 54, 7, 0, 54, 47, 5, 60, 47, 96, 47, 54, 15, 21, 28, 0, 102, 47, 0, 25, 69, 0, 29, 0, 39, 9, 25, 20, 1, 1, 32, 0, 18, 45, 1, 22, 15, 24, 4, 32, 16, 33, 0, 0, 4, 23, 26, 11, 40, 17, 19, 0, 4, 0, 62, 0, 48, 23, 43, 30, 2, 3, 67, 0, 47, 77, 2, 71, 36, 36, 4, 77, 13, 62, 0, 0, 4, 13, 64, 15, 72, 8, 45, 0, 4, 2, 40, 0, 39, 26, 38, 18, 2, 2, 67, 0, 37, 77, 2, 56, 24, 24, 4, 71, 11, 53, 0, 0, 2, 12, 62, 14, 67, 12, 37, 0, 2, 2, 0, 0, 0, 0, 0, 0, 0, 0, 0, 0, 0, 0, 0, 0, 0, 0, 0, 0, 0, 0, 0, 0, 0, 0, 0, 0, 0, 0, 0, 0, 0, 0, 3, 0, 4, 7, 4, 4, 0, 0, 23, 0, 4, 6, 0, 6, 4, 4, 2, 16, 17, 4, 0, 0, 1, 12, 4, 2, 16, 11, 4, 0, 1, 1, 30, 0, 31, 13, 32, 13, 4, 4, 29, 0, 32, 34, 4, 32, 13, 13, 4, 24, 58, 28, 0, 0, 4, 54, 32, 7, 24, 46, 28, 0, 6, 4, 4, 0, 7, 2, 11, 2, 0, 0, 10, 0, 4, 8, 0, 6, 2, 2, 0, 6, 18, 6, 0, 0, 0, 21, 6, 1, 6, 18, 13, 0, 0, 0, 47, 0, 52, 26, 44, 26, 2, 2, 62, 0, 47, 70, 2, 65, 28, 28, 5, 67, 15, 58, 0, 0, 2, 13, 64, 21, 69, 11, 31, 0, 5, 2, 2, 2, 29, 30, 0, 44, 2, 9, 26, 1, 4, 38, 37, 30, 4, 23, 12, 16, 32, 0, 1, 20, 34, 32, 41, 7, 1, 29, 44, 24, 0, 30, 7, 4, 48, 52, 0, 67, 2, 31, 58, 2, 3, 74, 62, 52, 4, 62, 15, 19, 60, 0, 3, 48, 86, 52, 90, 23, 4, 52, 90, 29, 0, 45, 5, 2, 43, 40, 0, 54, 2, 23, 40, 2, 2, 77, 53, 40, 2, 62, 13, 14, 40, 0, 2, 43, 79, 43, 88, 14, 2, 40, 77, 33, 0, 40, 0, 0, 0, 0, 0, 0, 0, 0, 0, 0, 0, 0, 0, 0, 0, 0, 0, 0, 0, 0, 0, 0, 0, 0, 0, 0, 0, 0, 0, 0, 0, 0, 2, 1, 4, 4, 0, 16, 2, 2, 4, 1, 1, 24, 6, 4, 1, 6, 2, 6, 2, 0, 1, 2, 8, 2, 8, 2, 1, 4, 5, 11, 0, 4, 4, 7, 30, 32, 0, 37, 7, 13, 30, 4, 6, 29, 32, 32, 4, 31, 7, 13, 22, 0, 4, 19, 39, 21, 39, 7, 6, 32, 34, 36, 0, 28, 0, 0, 4, 6, 0, 11, 1, 2, 4, 0, 0, 6, 6, 4, 0, 6, 2, 2, 4, 0, 0, 4, 8, 5, 8, 2, 0, 4, 7, 15, 0, 5, 5, 5, 47, 54, 0, 71, 5, 28, 47, 2, 2, 70, 62, 51, 5, 65, 18, 21, 59, 0, 2, 47, 86, 52, 84, 21, 2, 47, 79, 33, 0, 44, 22, 7, 0, 9, 1, 19, 43, 23, 21, 0, 0, 21, 7, 0, 13, 16, 22, 24, 2, 14, 13, 11, 0, 22, 11, 36, 0, 25, 59, 2, 0, 10, 44, 7, 0, 5, 4, 16, 22, 41, 43, 0, 4, 42, 15, 2, 20, 43, 56, 57, 4, 19, 48, 18, 4, 31, 23, 58, 5, 57, 61, 4, 0, 7, 43, 4, 0, 5, 3, 16, 27, 37, 37, 0, 2, 31, 13, 2, 24, 38, 49, 40, 2, 14, 37, 19, 2, 24, 22, 44, 2, 40, 54, 2, 0, 10, 0, 0, 0, 0, 0, 0, 0, 0, 0, 0, 0, 0, 0, 0, 0, 0, 0, 0, 0, 0, 0, 0, 0, 0, 0, 0, 0, 0, 0, 0, 0, 0, 13, 2, 0, 4, 2, 14, 11, 1, 4, 0, 1, 13, 4, 0, 6, 2, 15, 4, 1, 6, 0, 0, 1, 2, 7, 5, 1, 4, 15, 1, 0, 8, 20, 4, 0, 18, 4, 58, 58, 25, 28, 0, 4, 20, 8, 4, 14, 20, 21, 23, 4, 13, 26, 11, 4, 13, 13, 30, 7, 32, 37, 6, 0, 46, 3, 0, 0, 7, 0, 21, 15, 11, 13, 0, 0, 3, 2, 0, 4, 3, 3, 4, 0, 2, 4, 2, 0, 3, 2, 5, 1, 6, 11, 0, 0, 14, 40, 5, 0, 9, 4, 24, 24, 44, 44, 0, 2, 32, 14, 2, 21, 43, 47, 47, 4, 21, 47, 21, 2, 28, 25, 67, 3, 62, 82, 2, 0, 8, 1, 0, 0, 13, 2, 2, 26, 9, 30, 46, 0, 0, 0, 19, 45, 7, 0, 3, 22, 27, 1, 31, 0, 40, 23, 0, 15, 38, 21, 39, 21, 42, 3, 0, 0, 8, 7, 4, 26, 15, 52, 80, 0, 0, 0, 19, 77, 7, 0, 4, 23, 57, 3, 56, 0, 58, 64, 0, 22, 90, 21, 26, 30, 40, 2, 0, 0, 13, 5, 2, 28, 13, 40, 52, 0, 0, 0, 22, 55, 4, 0, 2, 22, 40, 3, 40, 0, 40, 69, 0, 24, 92, 12, 26, 31, 38, 0, 0, 0, 0, 0, 0, 0, 0, 0, 0, 0, 0, 0, 0, 0, 0, 0, 0, 0, 0, 0, 0, 0, 0, 0, 0, 0, 0, 0, 0, 0, 0, 1, 0, 0, 8, 2, 1, 11, 4, 2, 5, 0, 0, 0, 9, 6, 2, 0, 1, 9, 4, 1, 4, 0, 17, 6, 0, 9, 8, 14, 17, 13, 14, 4, 0, 0, 46, 4, 4, 20, 8, 19, 39, 0, 0, 0, 13, 34, 6, 0, 4, 18, 32, 6, 22, 0, 37, 31, 0, 18, 34, 58, 54, 20, 53, 0, 0, 0, 14, 0, 0, 6, 2, 4, 8, 0, 0, 0, 2, 6, 0, 0, 0, 8, 4, 1, 6, 0, 11, 6, 0, 8, 8, 21, 21, 8, 14, 2, 0, 0, 11, 5, 2, 29, 21, 47, 80, 0, 0, 0, 25, 65, 7, 0, 2, 23, 52, 3, 47, 0, 71, 65, 0, 23, 84, 15, 26, 32, 33, 0, 18, 2, 55, 0, 0, 0, 32, 0, 3, 19, 0, 33, 19, 25, 0, 0, 20, 29, 26, 5, 8, 0, 11, 34, 28, 24, 2, 9, 28, 12, 0, 0, 45, 7, 90, 0, 0, 0, 50, 0, 3, 59, 4, 63, 57, 35, 0, 0, 40, 52, 40, 7, 7, 0, 18, 75, 45, 58, 2, 7, 55, 15, 0, 0, 24, 5, 71, 0, 0, 0, 42, 0, 3, 53, 2, 40, 43, 32, 0, 0, 38, 53, 38, 5, 5, 0, 18, 68, 44, 40, 2, 8, 40, 14, 0, 0, 0, 0, 0, 0, 0, 0, 0, 0, 0, 0, 0, 0, 0, 0, 0, 0, 0, 0, 0, 0, 0, 0, 0, 0, 0, 0, 0, 0, 0, 0, 0, 0, 2, 2, 7, 0, 0, 0, 13, 0, 1, 6, 1, 3, 4, 2, 0, 0, 11, 4, 13, 2, 6, 0, 0, 6, 2, 4, 0, 4, 2, 4, 0, 0, 18, 4, 43, 0, 0, 0, 25, 0, 7, 32, 4, 31, 28, 13, 0, 0, 20, 32, 20, 6, 34, 0, 11, 31, 19, 28, 4, 23, 23, 8, 0, 0, 3, 0, 9, 0, 0, 0, 6, 0, 0, 6, 0, 6, 7, 3, 0, 0, 6, 6, 3, 0, 10, 0, 2, 6, 3, 6, 0, 10, 4, 2, 0, 0, 43, 7, 102, 0, 0, 0, 47, 0, 5, 65, 2, 64, 47, 43, 0, 0, 33, 47, 33, 6, 8, 0, 21, 69, 52, 47, 2, 8, 52, 17, 0, 3, 34, 28, 27, 0, 55, 1, 9, 0, 0, 54, 1, 37, 39, 7, 6, 0, 10, 0, 28, 56, 14, 4, 9, 46, 45, 54, 40, 19, 29, 2, 17, 4, 74, 55, 57, 0, 90, 2, 22, 0, 0, 90, 18, 52, 54, 7, 12, 0, 7, 0, 55, 100, 13, 2, 11, 94, 90, 74, 40, 22, 48, 2, 34, 2, 71, 43, 53, 0, 71, 2, 22, 0, 0, 71, 13, 40, 40, 8, 10, 0, 8, 0, 53, 44, 14, 2, 8, 52, 79, 58, 40, 22, 40, 2, 24, 0, 0, 0, 0, 0, 0, 0, 0, 0, 0, 0, 0, 0, 0, 0, 0, 0, 0, 0, 0, 0, 0, 0, 0, 0, 0, 0, 0, 0, 0, 0, 0, 1, 16, 0, 4, 0, 8, 1, 7, 0, 0, 3, 2, 4, 4, 4, 5, 0, 8, 0, 4, 4, 4, 1, 2, 5, 6, 12, 3, 7, 4, 0, 7, 4, 24, 30, 30, 0, 34, 4, 13, 0, 0, 36, 6, 30, 30, 23, 23, 0, 46, 0, 22, 37, 7, 4, 6, 39, 34, 31, 17, 13, 32, 4, 13, 0, 6, 4, 4, 0, 8, 0, 2, 0, 0, 8, 1, 4, 6, 10, 10, 0, 14, 0, 4, 9, 2, 0, 0, 8, 8, 8, 3, 2, 4, 0, 2, 2, 70, 47, 60, 0, 79, 2, 25, 0, 0, 102, 21, 47, 60, 9, 11, 0, 8, 0, 59, 102, 21, 2, 13, 102, 84, 71, 47, 25, 47, 2, 25, 28, 5, 12, 14, 12, 0, 26, 14, 11, 5, 10, 13, 56, 0, 29, 21, 19, 28, 17, 4, 36, 0, 0, 0, 1, 0, 31, 10, 0, 0, 23, 38, 58, 9, 23, 34, 23, 0, 29, 19, 18, 2, 35, 22, 58, 0, 23, 59, 57, 45, 52, 2, 58, 0, 0, 0, 2, 0, 66, 7, 0, 0, 31, 55, 40, 8, 22, 28, 18, 0, 24, 17, 19, 2, 33, 23, 41, 0, 27, 44, 43, 37, 44, 2, 63, 0, 0, 0, 2, 0, 40, 5, 0, 0, 24, 40, 0, 0, 0, 0, 0, 0, 0, 0, 0, 0, 0, 0, 0, 0, 0, 0, 0, 0, 0, 0, 0, 0, 0, 0, 0, 0, 0, 0, 0, 0, 0, 0, 2, 2, 7, 9, 2, 0, 0, 7, 6, 1, 9, 0, 18, 0, 14, 4, 4, 4, 4, 0, 0, 0, 0, 0, 1, 0, 4, 6, 0, 0, 7, 2, 21, 6, 13, 13, 11, 0, 13, 13, 11, 6, 20, 11, 36, 0, 58, 32, 32, 24, 31, 4, 29, 0, 0, 0, 6, 0, 30, 34, 0, 0, 13, 23, 4, 0, 2, 3, 2, 0, 3, 2, 2, 0, 3, 2, 11, 0, 18, 4, 4, 5, 6, 0, 5, 0, 0, 0, 0, 0, 4, 14, 0, 0, 3, 4, 54, 12, 25, 28, 21, 0, 37, 21, 21, 3, 36, 21, 58, 0, 24, 47, 47, 47, 47, 2, 67, 0, 0, 0, 2, 0, 47, 8, 0, 0, 28, 54, 33, 20, 23, 2, 33, 53, 5, 13, 20, 21, 2, 33, 45, 0, 39, 35, 0, 61, 14, 27, 6, 17, 0, 27, 0, 30, 0, 14, 19, 25, 17, 0, 48, 58, 31, 4, 53, 93, 7, 62, 31, 44, 2, 62, 62, 0, 67, 52, 0, 80, 19, 41, 2, 64, 0, 51, 0, 64, 2, 16, 59, 57, 63, 0, 38, 40, 24, 2, 52, 43, 5, 36, 24, 43, 2, 40, 40, 0, 75, 52, 0, 71, 22, 29, 3, 69, 0, 37, 0, 52, 2, 14, 40, 40, 44, 0, 0, 0, 0, 0, 0, 0, 0, 0, 0, 0, 0, 0, 0, 0, 0, 0, 0, 0, 0, 0, 0, 0, 0, 0, 0, 0, 0, 0, 0, 0, 0, 0, 2, 2, 7, 1, 4, 15, 2, 4, 2, 0, 0, 2, 4, 0, 5, 3, 0, 7, 7, 11, 2, 4, 0, 4, 0, 4, 1, 4, 4, 4, 4, 0, 28, 22, 13, 4, 31, 37, 4, 23, 13, 26, 4, 23, 31, 0, 34, 31, 0, 36, 13, 27, 7, 32, 0, 30, 0, 29, 4, 7, 32, 25, 32, 0, 6, 4, 2, 0, 6, 11, 0, 6, 3, 4, 0, 6, 6, 0, 8, 6, 0, 8, 4, 11, 1, 6, 0, 4, 0, 6, 0, 2, 4, 6, 6, 0, 44, 47, 28, 2, 64, 80, 6, 47, 37, 44, 2, 64, 62, 0, 70, 47, 0, 102, 21, 33, 6, 47, 0, 52, 0, 56, 2, 18, 47, 47, 47, 0, 4, 8, 12, 42, 0, 71, 3, 4, 15, 27, 11, 57, 15, 15, 15, 16, 6, 3, 3, 18, 22, 17, 11, 28, 4, 59, 0, 28, 11, 20, 19, 14, 4, 14, 15, 71, 2, 92, 7, 13, 30, 73, 15, 80, 31, 24, 50, 22, 24, 4, 4, 40, 43, 52, 15, 55, 4, 55, 0, 62, 15, 40, 59, 20, 4, 13, 14, 71, 2, 71, 7, 10, 24, 69, 17, 52, 26, 24, 58, 22, 24, 2, 3, 38, 37, 44, 17, 43, 2, 41, 0, 62, 13, 40, 43, 22, 0, 0, 0, 0, 0, 0, 0, 0, 0, 0, 0, 0, 0, 0, 0, 0, 0, 0, 0, 0, 0, 0, 0, 0, 0, 0, 0, 0, 0, 0, 0, 0, 2, 6, 4, 6, 1, 5, 2, 4, 10, 6, 6, 5, 9, 9, 15, 7, 6, 0, 1, 4, 4, 4, 6, 2, 1, 14, 0, 12, 4, 11, 2, 10, 6, 13, 8, 32, 6, 36, 4, 8, 18, 34, 13, 34, 13, 13, 23, 13, 13, 4, 4, 20, 30, 32, 13, 23, 4, 46, 0, 21, 13, 20, 17, 18, 0, 2, 2, 6, 0, 9, 0, 2, 8, 6, 2, 7, 2, 2, 3, 2, 2, 0, 0, 3, 4, 4, 2, 4, 0, 15, 0, 6, 2, 3, 3, 8, 7, 18, 18, 65, 2, 102, 12, 13, 29, 65, 21, 79, 28, 26, 44, 25, 21, 2, 5, 31, 47, 47, 18, 52, 2, 48, 0, 62, 18, 28, 47, 23, 21, 8, 9, 11, 13, 65, 35, 29, 0, 46, 21, 0, 25, 1, 9, 21, 0, 19, 0, 19, 15, 23, 30, 20, 5, 15, 34, 24, 18, 25, 18, 6, 59, 22, 23, 35, 22, 93, 28, 48, 0, 94, 59, 0, 64, 2, 23, 41, 0, 59, 0, 27, 15, 59, 52, 58, 2, 23, 61, 48, 45, 43, 64, 4, 41, 19, 24, 24, 22, 66, 31, 38, 0, 71, 53, 0, 71, 2, 14, 29, 0, 49, 0, 24, 14, 46, 40, 45, 2, 24, 40, 43, 44, 38, 53, 2, 0, 0, 0, 0, 0, 0, 0, 0, 0, 0, 0, 0, 0, 0, 0, 0, 0, 0, 0, 0, 0, 0, 0, 0, 0, 0, 0, 0, 0, 0, 0, 0, 4, 6, 7, 2, 10, 2, 17, 4, 0, 3, 4, 0, 6, 1, 4, 2, 0, 4, 0, 11, 4, 13, 2, 4, 1, 10, 2, 4, 4, 4, 4, 1, 32, 13, 13, 8, 18, 36, 58, 32, 0, 37, 32, 0, 23, 4, 8, 18, 0, 32, 0, 13, 13, 20, 22, 32, 6, 18, 19, 28, 31, 20, 32, 4, 4, 2, 2, 2, 10, 7, 11, 6, 0, 7, 6, 0, 7, 0, 2, 3, 0, 4, 0, 2, 2, 6, 4, 4, 0, 6, 4, 5, 15, 6, 6, 0, 54, 21, 26, 28, 23, 96, 31, 47, 0, 80, 65, 0, 70, 2, 18, 40, 0, 47, 0, 26, 18, 47, 52, 47, 2, 25, 56, 47, 47, 43, 47, 2, 20, 32, 50, 0, 16, 24, 31, 0, 19, 21, 28, 31, 0, 2, 12, 0, 13, 30, 31, 63, 17, 48, 42, 46, 39, 40, 43, 74, 0, 19, 58, 66, 0, 57, 50, 29, 50, 0, 2, 15, 0, 22, 52, 90, 98, 25, 90, 80, 22, 67, 38, 38, 44, 0, 22, 62, 66, 0, 43, 33, 24, 38, 0, 2, 13, 0, 22, 44, 79, 65, 22, 83, 71, 28, 51, 0, 0, 0, 0, 0, 0, 0, 0, 0, 0, 0, 0, 0, 0, 0, 0, 0, 0, 0, 0, 0, 0, 0, 0, 0, 14, 4, 5, 0, 7, 15, 24, 0, 4, 2, 0, 3, 0, 1, 6, 0, 6, 4, 5, 5, 7, 24, 24, 14, 17, 25, 28, 43, 0, 11, 21, 24, 0, 27, 20, 13, 28, 0, 6, 13, 0, 13, 31, 34, 41, 13, 34, 29, 58, 39, 8, 11, 8, 0, 2, 3, 6, 0, 4, 5, 3, 11, 0, 0, 2, 0, 2, 6, 8, 8, 2, 8, 6, 17, 8, 33, 44, 80, 0, 21, 47, 65, 0, 47, 47, 35, 44, 0, 3, 21, 0, 26, 47, 70, 102, 26, 70, 68, 33, 80]\n"
          ]
        }
      ]
    }
  ]
}