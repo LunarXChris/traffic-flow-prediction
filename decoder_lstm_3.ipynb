{
  "nbformat": 4,
  "nbformat_minor": 0,
  "metadata": {
    "colab": {
      "name": "decoder_lstm_2.ipynb",
      "provenance": [],
      "collapsed_sections": [
        "qEKkKicxwxuY"
      ]
    },
    "kernelspec": {
      "display_name": "Python 3 (ipykernel)",
      "language": "python",
      "name": "python3"
    },
    "language_info": {
      "codemirror_mode": {
        "name": "ipython",
        "version": 3
      },
      "file_extension": ".py",
      "mimetype": "text/x-python",
      "name": "python",
      "nbconvert_exporter": "python",
      "pygments_lexer": "ipython3",
      "version": "3.7.4"
    },
    "accelerator": "GPU"
  },
  "cells": [
    {
      "cell_type": "markdown",
      "metadata": {
        "id": "qEKkKicxwxuY"
      },
      "source": [
        "# using drive\n",
        "from google.colab import drive\n",
        "drive.mount('/content/drive')\n",
        "with open('/content/drive/My Drive/foo.txt', 'w') as f:\n",
        "  f.write('Hello Google Drive!')\n",
        "drive.flush_and_unmount()\n",
        "print('All changes made in this colab session should now be visible in Drive.')"
      ]
    },
    {
      "cell_type": "code",
      "metadata": {
        "id": "XJNr3NtRsmcd"
      },
      "source": [
        "import torch\n",
        "import torch.nn as nn\n",
        "import torch.optim as optim\n",
        "import numpy as np\n",
        "from sklearn.model_selection import train_test_split\n",
        "import matplotlib.pyplot as plt"
      ],
      "execution_count": 1,
      "outputs": []
    },
    {
      "cell_type": "code",
      "metadata": {
        "colab": {
          "base_uri": "https://localhost:8080/"
        },
        "id": "_jgL_yXQ4c2e",
        "outputId": "e3de3f12-2bf3-41ab-edaa-112b49df1975"
      },
      "source": [
        "from google.colab import drive\n",
        "drive.mount('/content/drive')"
      ],
      "execution_count": 2,
      "outputs": [
        {
          "output_type": "stream",
          "name": "stdout",
          "text": [
            "Drive already mounted at /content/drive; to attempt to forcibly remount, call drive.mount(\"/content/drive\", force_remount=True).\n"
          ]
        }
      ]
    },
    {
      "cell_type": "code",
      "metadata": {
        "colab": {
          "base_uri": "https://localhost:8080/"
        },
        "id": "2Ax63dfU922o",
        "outputId": "912ad081-8ec9-4452-cf60-cb9a5701e1db"
      },
      "source": [
        "input_data=[]\n",
        "fp = open('/content/drive/My Drive/project/i580w_jan 2012_input.txt','r')\n",
        "for line in fp:\n",
        "    line=line.strip('\\n')   #将\\n去掉\n",
        "    input_data.append(line.split(' '))   #将空格作为分隔符将一个字符切割成一个字符数组\n",
        "\n",
        "fp.close()\n",
        "\n",
        "# fp = open('/content/drive/My Drive/project/i580w_feb 2012_input.txt','r')\n",
        "# for line in fp:\n",
        "#     line=line.strip('\\n')   #将\\n去掉\n",
        "#     input_data.append(line.split(' '))   #将空格作为分隔符将一个字符切割成一个字符数组\n",
        "\n",
        "# fp.close()\n",
        "\n",
        "\n",
        "input_data=np.array(input_data,dtype=int)   #将其转换成numpy的数组，并定义数据类型为float\n",
        "print(input_data.shape)\n",
        "\n",
        "target_data=[]\n",
        "fp = open('/content/drive/My Drive/project/i580w_jan 2012_target.txt','r')\n",
        "for line in fp:\n",
        "    line=line.strip('\\n')   #将\\n去掉\n",
        "    target_data.append(line.split(' '))   #将空格作为分隔符将一个字符切割成一个字符数组\n",
        "\n",
        "# fp = open('/content/drive/My Drive/project/i580w_feb 2012_target.txt','r')\n",
        "# for line in fp:\n",
        "#     line=line.strip('\\n')   #将\\n去掉\n",
        "#     target_data.append(line.split(' '))   #将空格作为分隔符将一个字符切割成一个字符数组\n",
        "\n",
        "# fp.close()\n",
        "\n",
        "target_data=np.array(target_data,dtype=int)   #将其转换成numpy的数组，并定义数据类型为float\n",
        "print(target_data.shape)\n",
        "\n",
        "print(input_data[:8])\n",
        "print(target_data[:8])"
      ],
      "execution_count": 3,
      "outputs": [
        {
          "output_type": "stream",
          "name": "stdout",
          "text": [
            "(8925, 24)\n",
            "(8925, 8)\n",
            "[[ 3 12  4  0  0  4  1  2  1  4  1  0  1  6  1  8  2  5  6  0  5  2  1  5]\n",
            " [ 1  4  1  0  1  6  1  8  2  5  6  0  5  2  1  5  2  6  6  0  4  4  0  9]\n",
            " [ 2  5  6  0  5  2  1  5  2  6  6  0  4  4  0  9  4  8 12  0  6  2  0 12]\n",
            " [ 2  6  6  0  4  4  0  9  4  8 12  0  6  2  0 12 11 11 10  0  2  4  2  9]\n",
            " [ 4  8 12  0  6  2  0 12 11 11 10  0  2  4  2  9 15  7 14  0  8  4  0  9]\n",
            " [11 11 10  0  2  4  2  9 15  7 14  0  8  4  0  9 13  7 13  0  4 12  2  9]\n",
            " [15  7 14  0  8  4  0  9 13  7 13  0  4 12  2  9  7 14 14  0  6  3  1 12]\n",
            " [13  7 13  0  4 12  2  9  7 14 14  0  6  3  1 12  9 11 24  0  6  1  3 11]]\n",
            "[[ 2  6  6  0  4  4  0  9]\n",
            " [ 4  8 12  0  6  2  0 12]\n",
            " [11 11 10  0  2  4  2  9]\n",
            " [15  7 14  0  8  4  0  9]\n",
            " [13  7 13  0  4 12  2  9]\n",
            " [ 7 14 14  0  6  3  1 12]\n",
            " [ 9 11 24  0  6  1  3 11]\n",
            " [13 11 23  0  5  6  1 20]]\n"
          ]
        }
      ]
    },
    {
      "cell_type": "code",
      "metadata": {
        "colab": {
          "base_uri": "https://localhost:8080/",
          "height": 0
        },
        "id": "8nlY6w0hhPH3",
        "outputId": "83631344-3767-453b-8689-24898794c597"
      },
      "source": [
        "plt.plot(np.arange(5335)*5/60/24,input_data[:5335,2])\n",
        "plt.xlabel(\"day\")\n",
        "plt.ylabel(\"Number of vehicles\")"
      ],
      "execution_count": 4,
      "outputs": [
        {
          "output_type": "execute_result",
          "data": {
            "text/plain": [
              "Text(0, 0.5, 'Number of vehicles')"
            ]
          },
          "metadata": {},
          "execution_count": 4
        },
        {
          "output_type": "display_data",
          "data": {
            "image/png": "[encoded data removed]",
            "text/plain": [
              "<Figure size 432x288 with 1 Axes>"
            ]
          },
          "metadata": {
            "needs_background": "light"
          }
        }
      ]
    },
    {
      "cell_type": "code",
      "metadata": {
        "id": "7qX01vXE_Oju"
      },
      "source": [
        "#drive.flush_and_unmount()\n",
        "#print('All changes made in this colab session should now be visible in Drive.')"
      ],
      "execution_count": 5,
      "outputs": []
    },
    {
      "cell_type": "markdown",
      "metadata": {
        "id": "ITbqLX6DLs0e"
      },
      "source": [
        "# input size\n",
        "交通流的最大值"
      ]
    },
    {
      "cell_type": "code",
      "metadata": {
        "id": "JawLndDiLsjF"
      },
      "source": [
        "input_size = 0"
      ],
      "execution_count": 6,
      "outputs": []
    },
    {
      "cell_type": "code",
      "metadata": {
        "id": "3NQoztHDF-DJ",
        "colab": {
          "base_uri": "https://localhost:8080/"
        },
        "outputId": "3cf035cf-55bd-409b-ffd1-523fc491c5e3"
      },
      "source": [
        "input_max = np.max(input_data, axis = 0)\n",
        "input_min = np.min(input_data, axis = 0)\n",
        "output_max = np.max(target_data, axis = 0)\n",
        "output_min = np.min(target_data, axis = 0)\n",
        "\n",
        "print(\"input max:{0},\\n input min:{1},\\n output max:{2},\\n output min:{3}\".format(input_max,input_min,output_max,output_min)) \n"
      ],
      "execution_count": 7,
      "outputs": [
        {
          "output_type": "stream",
          "name": "stdout",
          "text": [
            "input max:[ 91 131 111   0  36  82  33 147  91 131 111   0  36  82  33 147  91 131\n",
            " 111   0  36  82  33 147],\n",
            " input min:[0 0 0 0 0 0 0 0 0 0 0 0 0 0 0 0 0 0 0 0 0 0 0 0],\n",
            " output max:[ 91 131 111   0  36  82  33 147],\n",
            " output min:[0 0 0 0 0 0 0 0]\n"
          ]
        }
      ]
    },
    {
      "cell_type": "code",
      "source": [
        "# def normalization(data):\n",
        "#     _range = np.max(data) - np.min(data)\n",
        "#     return (data - np.min(data)) / _range\n",
        " \n",
        "\n",
        "# def standardization(data):\n",
        "#     mu = np.mean(data, axis=0)\n",
        "#     sigma = np.std(data, axis=0)\n",
        "#     return (data - mu) / sigma"
      ],
      "metadata": {
        "id": "avOPESLzPg6M"
      },
      "execution_count": 8,
      "outputs": []
    },
    {
      "cell_type": "code",
      "source": [
        "# input_data = normalization(input_data)\n",
        "# target_data = normalization(target_data)"
      ],
      "metadata": {
        "id": "_P_ixJHmPkFq"
      },
      "execution_count": 9,
      "outputs": []
    },
    {
      "cell_type": "code",
      "source": [
        "# print(input_data[:8])\n",
        "# print(target_data[:8])"
      ],
      "metadata": {
        "id": "JFQmHwYfP377"
      },
      "execution_count": 10,
      "outputs": []
    },
    {
      "cell_type": "markdown",
      "metadata": {
        "id": "VifsF9fO_jdJ"
      },
      "source": [
        "Split the data and begin training\n"
      ]
    },
    {
      "cell_type": "code",
      "metadata": {
        "id": "qnfV8hcZ_weg"
      },
      "source": [
        "from sklearn.model_selection import train_test_split\n",
        "import torch.utils.data as Data\n",
        "\n",
        "X_train, X_test, y_train, y_test = train_test_split(input_data, target_data, test_size=0.2, random_state = 42)\n",
        "X_train, X_val, y_train, y_val = train_test_split(X_train, y_train, test_size=0.2)\n",
        "\n",
        "Batch_Size = 32\n",
        "train_dataset = Data.TensorDataset(torch.from_numpy(X_train),torch.from_numpy(y_train))\n",
        "\n",
        "#load training data\n",
        "train_loader = Data.DataLoader(dataset = train_dataset,\n",
        "                 batch_size = Batch_Size,\n",
        "                 shuffle = True)\n",
        "\n",
        "val_dataset = Data.TensorDataset(torch.from_numpy(X_val),torch.from_numpy(y_val))\n",
        "#load validation data\n",
        "val_loader = Data.DataLoader(dataset = val_dataset,\n",
        "                 batch_size = Batch_Size,\n",
        "                 shuffle = False)\n",
        "\n",
        "test_dataset = Data.TensorDataset(torch.from_numpy(X_test),torch.from_numpy(y_test))\n",
        "#load testing data\n",
        "test_loader = Data.DataLoader(dataset = test_dataset,\n",
        "                 batch_size = Batch_Size,\n",
        "                 shuffle = False)\n",
        "\n"
      ],
      "execution_count": 11,
      "outputs": []
    },
    {
      "cell_type": "code",
      "metadata": {
        "colab": {
          "base_uri": "https://localhost:8080/"
        },
        "id": "L7qRNDHUPHlb",
        "outputId": "7de379cb-a37e-4842-d410-114ce04f6540"
      },
      "source": [
        "for batch_idx, batch in enumerate(train_loader):\n",
        "  print(batch[1])\n",
        "  break"
      ],
      "execution_count": 12,
      "outputs": [
        {
          "output_type": "stream",
          "name": "stdout",
          "text": [
            "tensor([[ 0,  0,  0,  0,  0,  0,  0,  0],\n",
            "        [28, 64, 66,  0,  6, 39,  9, 46],\n",
            "        [15, 26, 29,  0,  7, 13,  2, 28],\n",
            "        [ 3,  6, 12,  0,  1,  6,  1, 15],\n",
            "        [17, 41, 20,  0,  3, 13,  4, 51],\n",
            "        [ 0,  1,  3,  0,  2,  2,  0,  0],\n",
            "        [31, 62, 53,  0,  5, 33,  3, 52],\n",
            "        [26, 33, 33,  0, 18, 38, 10, 38],\n",
            "        [47, 34, 37,  0, 16, 58, 14, 43],\n",
            "        [59, 80, 44,  0,  3, 32, 11, 85],\n",
            "        [ 7, 15, 18,  0,  3, 11,  0, 20],\n",
            "        [69, 62, 74,  0,  9, 37, 10, 85],\n",
            "        [38, 55, 65,  0, 14, 29,  5, 60],\n",
            "        [20, 29, 38,  0, 17, 23, 18, 38],\n",
            "        [16, 18,  8,  0,  1,  7,  3, 21],\n",
            "        [10, 14, 23,  0,  6, 11,  3, 12],\n",
            "        [ 4, 13,  4,  0,  0,  9,  0, 12],\n",
            "        [ 3,  0,  5,  0,  2,  8,  0,  2],\n",
            "        [ 3,  2,  2,  0,  2,  3,  0,  3],\n",
            "        [27, 17, 16,  0, 16, 42, 12, 26],\n",
            "        [24, 57, 40,  0,  4, 31, 14, 56],\n",
            "        [20, 13, 27,  0, 15, 26, 10, 17],\n",
            "        [34, 63, 38,  0,  2, 19,  5, 38],\n",
            "        [37, 77, 84,  0, 10, 34,  5, 69],\n",
            "        [14, 44, 37,  0,  3, 28,  4, 46],\n",
            "        [ 0,  0,  0,  0,  0,  0,  0,  0],\n",
            "        [ 2,  6,  0,  0,  3,  3,  1,  7],\n",
            "        [45, 50, 44,  0, 24, 52,  8, 68],\n",
            "        [17, 27, 18,  0,  4, 20,  1, 26],\n",
            "        [24, 57, 32,  0,  3, 15,  3, 58],\n",
            "        [ 0,  0,  0,  0,  0,  0,  0,  0],\n",
            "        [22, 50, 39,  0,  5, 21,  7, 48]])\n"
          ]
        }
      ]
    },
    {
      "cell_type": "code",
      "metadata": {
        "id": "zFK0PPuPE4Y_"
      },
      "source": [
        "max_size = np.max(input_max) + 1"
      ],
      "execution_count": 13,
      "outputs": []
    },
    {
      "cell_type": "code",
      "metadata": {
        "id": "6QOpLPigK_JO"
      },
      "source": [
        "device = torch.device('cuda' if torch.cuda.is_available() else 'cpu')"
      ],
      "execution_count": 14,
      "outputs": []
    },
    {
      "cell_type": "markdown",
      "metadata": {
        "id": "cuOT6sxYAkmE"
      },
      "source": [
        "# Code Reference\n",
        "https://github.com/aladdinpersson/Machine-Learning-Collection/blob/master/ML/Pytorch/more_advanced/Seq2Seq/seq2seq.py \\\\\n",
        "https://pytorch.org/tutorials/intermediate/seq2seq_translation_tutorial.html#loading-data-files \\\\\n",
        "https://github.com/aladdinpersson/Machine-Learning-Collection/tree/master/ML/Pytorch/more_advanced/Seq2Seq_attention \\\\\n",
        "下面两个是attention版本\n",
        "代码是基础的encoder-decoder"
      ]
    },
    {
      "cell_type": "code",
      "metadata": {
        "id": "uODqa2R-g8Pi"
      },
      "source": [
        "import random"
      ],
      "execution_count": 15,
      "outputs": []
    },
    {
      "cell_type": "code",
      "metadata": {
        "id": "6pdgL1hm_SKi"
      },
      "source": [
        "class Encoder(nn.Module):\n",
        "    def __init__(self, input_size, embedding_size, hidden_size, num_layers, p):\n",
        "        super(Encoder, self).__init__()\n",
        "        self.dropout = nn.Dropout(p)\n",
        "        self.hidden_size = hidden_size\n",
        "        self.num_layers = num_layers\n",
        "\n",
        "        self.embedding = nn.Embedding(input_size, embedding_size)\n",
        "        self.rnn = nn.LSTM(embedding_size, hidden_size, num_layers, dropout=p)\n",
        "        # self.rnn = nn.GRU(embedding_size, hidden_size, num_layers, dropout=p)\n",
        "\n",
        "    def forward(self, x):\n",
        "        # x shape: (seq_length, N) where N is batch size\n",
        "\n",
        "        embedding = self.dropout(self.embedding(x))\n",
        "        # embedding shape: (seq_length, N, embedding_size)\n",
        "\n",
        "        outputs, (hidden, cell) = self.rnn(embedding)\n",
        "        # outputs shape: (seq_length, N, hidden_size)\n",
        "\n",
        "        return hidden, cell"
      ],
      "execution_count": 16,
      "outputs": []
    },
    {
      "cell_type": "code",
      "metadata": {
        "id": "BEpsFOCaCDoB"
      },
      "source": [
        "class Decoder(nn.Module):\n",
        "    def __init__(\n",
        "        self, input_size, embedding_size, hidden_size, output_size, num_layers, p\n",
        "    ):\n",
        "        super(Decoder, self).__init__()\n",
        "        self.dropout = nn.Dropout(p)\n",
        "        self.hidden_size = hidden_size\n",
        "        self.num_layers = num_layers\n",
        "\n",
        "        self.embedding = nn.Embedding(input_size, embedding_size)\n",
        "        self.rnn = nn.LSTM(embedding_size, hidden_size, num_layers, dropout=p)\n",
        "        # self.rnn = nn.GRU(embedding_size, hidden_size, num_layers, dropout=p)\n",
        "        self.fc = nn.Linear(hidden_size, output_size)\n",
        "\n",
        "    def forward(self, x, hidden, cell):\n",
        "        # x shape: (N) where N is for batch size, we want it to be (1, N), seq_length\n",
        "        # is 1 here because we are sending in a single word and not a sentence\n",
        "        x = x.unsqueeze(0)\n",
        "        \n",
        "        \n",
        "        embedding = self.dropout(self.embedding(x))\n",
        "        # embedding shape: (1, N, embedding_size)\n",
        "\n",
        "        outputs, (hidden, cell) = self.rnn(embedding, (hidden, cell))\n",
        "        # outputs shape: (1, N, hidden_size)\n",
        "\n",
        "        predictions = self.fc(outputs)\n",
        "\n",
        "        # predictions shape: (1, N, length_target_vocabulary) to send it to\n",
        "        # loss function we want it to be (N, length_target_vocabulary) so we're\n",
        "        # just gonna remove the first dim\n",
        "        predictions = predictions.squeeze(0)\n",
        "\n",
        "        return predictions, hidden, cell\n"
      ],
      "execution_count": 17,
      "outputs": []
    },
    {
      "cell_type": "code",
      "metadata": {
        "id": "3Syiic20CGCb"
      },
      "source": [
        "class Seq2Seq(nn.Module):\n",
        "    def __init__(self, encoder, decoder):\n",
        "        super(Seq2Seq, self).__init__()\n",
        "        self.encoder = encoder\n",
        "        self.decoder = decoder\n",
        "\n",
        "    def forward(self, source, target, teacher_force_ratio=0.5):\n",
        "        # 转换轴\n",
        "        source = torch.transpose(source,0,1)\n",
        "        target = torch.transpose(target,0,1)\n",
        "\n",
        "        batch_size = source.shape[1]\n",
        "        target_len = target.shape[0]\n",
        "        target_flow_size = max_size # flow的最大值\n",
        "\n",
        "        outputs = torch.zeros(target_len, batch_size, target_flow_size).to(device)\n",
        "\n",
        "        hidden, cell = self.encoder(source)\n",
        "\n",
        "        # Grab the first input to the Decoder which will be <SOS> token\n",
        "        # x = target[0] \n",
        "        x = torch.zeros(8) #原本是输入sos\n",
        "        x = target[0]\n",
        "\n",
        "        # for t in range(1, target_len):\n",
        "        for t in range(target_len):\n",
        "            # Use previous hidden, cell as context from encoder at start\n",
        "            output, hidden, cell = self.decoder(x, hidden, cell)\n",
        "\n",
        "            # Store next output prediction\n",
        "            outputs[t] = output\n",
        "\n",
        "            # Get the best word the Decoder predicted (index in the vocabulary)\n",
        "            best_guess = output.argmax(1)\n",
        "\n",
        "            # With probability of teacher_force_ratio we take the actual next word\n",
        "            # otherwise we take the word that the Decoder predicted it to be.\n",
        "            # Teacher Forcing is used so that the model gets used to seeing\n",
        "            # similar inputs at training and testing time, if teacher forcing is 1\n",
        "            # then inputs at test time might be completely different than what the\n",
        "            # network is used to. This was a long comment.\n",
        "            x = target[t] if random.random() < teacher_force_ratio else best_guess\n",
        "\n",
        "        return outputs"
      ],
      "execution_count": 18,
      "outputs": []
    },
    {
      "cell_type": "markdown",
      "source": [
        "# Training"
      ],
      "metadata": {
        "id": "wQExbd2Roxg_"
      }
    },
    {
      "cell_type": "code",
      "metadata": {
        "id": "bQzl2VeLCkk4",
        "colab": {
          "base_uri": "https://localhost:8080/"
        },
        "outputId": "aa8900ad-3f31-4d1b-8f97-5c141b44a9b0"
      },
      "source": [
        "input_size_encoder = max_size\n",
        "encoder_embedding_size = 128\n",
        "hidden_size = 64\n",
        "num_layers = 2\n",
        "encoder_dropout = 0.5\n",
        "\n",
        "encoder = Encoder(input_size_encoder, encoder_embedding_size,\n",
        "                           hidden_size, num_layers, encoder_dropout).to(device)\n",
        "print(encoder)\n"
      ],
      "execution_count": 19,
      "outputs": [
        {
          "output_type": "stream",
          "name": "stdout",
          "text": [
            "Encoder(\n",
            "  (dropout): Dropout(p=0.5, inplace=False)\n",
            "  (embedding): Embedding(148, 128)\n",
            "  (rnn): LSTM(128, 64, num_layers=2, dropout=0.5)\n",
            ")\n"
          ]
        }
      ]
    },
    {
      "cell_type": "code",
      "metadata": {
        "colab": {
          "base_uri": "https://localhost:8080/"
        },
        "id": "UcaQ2wlpIs7G",
        "outputId": "7bb8411d-3de2-4baa-e9e2-f7cac938b5cf"
      },
      "source": [
        "input_size_decoder = max_size\n",
        "decoder_embedding_size = 128\n",
        "hidden_size = 64\n",
        "num_layers = 2\n",
        "decoder_dropout = 0.5\n",
        "output_size = max_size\n",
        "\n",
        "decoder = Decoder(input_size_decoder, decoder_embedding_size,\n",
        "                           hidden_size, output_size, num_layers, decoder_dropout).to(device)\n",
        "print(decoder)"
      ],
      "execution_count": 20,
      "outputs": [
        {
          "output_type": "stream",
          "name": "stdout",
          "text": [
            "Decoder(\n",
            "  (dropout): Dropout(p=0.5, inplace=False)\n",
            "  (embedding): Embedding(148, 128)\n",
            "  (rnn): LSTM(128, 64, num_layers=2, dropout=0.5)\n",
            "  (fc): Linear(in_features=64, out_features=148, bias=True)\n",
            ")\n"
          ]
        }
      ]
    },
    {
      "cell_type": "code",
      "metadata": {
        "id": "4o1cG2S1JRhI"
      },
      "source": [
        "learning_rate = 0.001\n",
        "\n",
        "model = Seq2Seq(encoder, decoder).to(device)\n",
        "optimizer = optim.Adam(model.parameters(), lr=learning_rate)\n",
        "\n",
        "criterion = nn.CrossEntropyLoss()"
      ],
      "execution_count": 21,
      "outputs": []
    },
    {
      "cell_type": "code",
      "metadata": {
        "id": "vsXTayQgMPDg"
      },
      "source": [
        "from torch.utils.tensorboard import SummaryWriter\n",
        "writer = SummaryWriter(f\"runs/loss_plot\")\n",
        "step = 0"
      ],
      "execution_count": 22,
      "outputs": []
    },
    {
      "cell_type": "code",
      "metadata": {
        "id": "PdLtEGrlOK_m"
      },
      "source": [
        "def checkpoint_and_save(model, best_loss, epoch, optimizer, epoch_loss):\n",
        "    print('saving')\n",
        "    drive.mount('/content/drive')\n",
        "    state = {'model': model,'best_loss': best_loss,'epoch': epoch,'rng_state': torch.get_rng_state(), 'optimizer': optimizer.state_dict(),}\n",
        "    torch.save(state, '/content/drive/My Drive/project/checkpoint-trafficflow')\n",
        "    torch.save(model.state_dict(),'/content/drive/My Drive/project/checkpoint-trafficflow')"
      ],
      "execution_count": 23,
      "outputs": []
    },
    {
      "cell_type": "code",
      "source": [
        "train_loss = []\n",
        "val_loss = []"
      ],
      "metadata": {
        "id": "bX2sM3WmaEVh"
      },
      "execution_count": 24,
      "outputs": []
    },
    {
      "cell_type": "code",
      "metadata": {
        "colab": {
          "base_uri": "https://localhost:8080/"
        },
        "id": "-bdwPIZDKqlk",
        "outputId": "21348746-1952-4acc-afab-0ebf32638e1a"
      },
      "source": [
        "num_epochs = 50\n",
        "best_loss = 999999\n",
        "best_epoch = -1\n",
        "# sentence1 = \"ein mann in einem blauen hemd steht auf einer leiter und putzt ein fenster\"\n",
        "# ts1  = []\n",
        "for epoch in range(num_epochs):\n",
        "  print(\"Epoch - {} / {}\".format(epoch+1, num_epochs))\n",
        "  # model.eval()\n",
        "  # translated_sentence1 = translate_sentence(model, sentence1, german, english, device, max_length=50)\n",
        "  # print(f\"Translated example sentence 1: \\n {translated_sentence1}\")\n",
        "  # ts1.append(translated_sentence1)\n",
        "\n",
        "  model.train(True)\n",
        "  batch_train_loss = 0\n",
        "  epoch_loss = 0\n",
        "  for batch_idx, batch in enumerate(train_loader):\n",
        "      \n",
        "    input = batch[0].to(device)\n",
        "    target = batch[1].to(device)\n",
        "\n",
        "    # Pass the input and target for model's forward method\n",
        "    #print(batch_idx)\n",
        "    # print(input.size())\n",
        "    # print(target.size())\n",
        "    # print(target)\n",
        "    output = model(input, target)\n",
        "    # output = output[1:].reshape(-1, output.shape[2])\n",
        "    # target = target[1:].reshape(-1)\n",
        "    target = torch.transpose(target,0,1)\n",
        "    output = output.reshape(-1, output.shape[2])\n",
        "    target = target.reshape(-1)\n",
        "    # print(output.size())\n",
        "    # print(target.size())\n",
        "\n",
        "    # Clear the accumulating gradients\n",
        "    optimizer.zero_grad()\n",
        "\n",
        "    # Calculate the loss value for every epoch\n",
        "    loss = criterion(output, target)\n",
        "\n",
        "    # Calculate the gradients for weights & biases using back-propagation\n",
        "    loss.backward()\n",
        "\n",
        "    # Clip the gradient value is it exceeds > 1\n",
        "    torch.nn.utils.clip_grad_norm_(model.parameters(), max_norm=1)\n",
        "\n",
        "    # Update the weights values using the gradients we calculated using bp \n",
        "    optimizer.step()\n",
        "    step += 1\n",
        "    epoch_loss += loss.item()\n",
        "    writer.add_scalar(\"Training loss\", loss, global_step=step)\n",
        "    batch_train_loss += loss.item()\n",
        "  train_loss.append(batch_train_loss/len(train_loader))\n",
        "  # if epoch_loss < best_loss:\n",
        "  #   best_loss = epoch_loss\n",
        "  #   best_epoch = epoch\n",
        "  #   checkpoint_and_save(model, best_loss, epoch, optimizer, epoch_loss) \n",
        "  #   if ((epoch - best_epoch) >= 10):\n",
        "  #     print(\"no improvement in 10 epochs, break\")\n",
        "  #     break\n",
        "  #print(\"Epoch_Loss - {}\".format(loss.item()))\n",
        "  #train_loss.append(loss.item())\n",
        "  print(\"Epoch_Loss - {}\".format(epoch_loss/len(train_loader)))\n",
        "  print()\n",
        "  if epoch % 3 == 0:\n",
        "    validation_loss = 0\n",
        "    model.eval()\n",
        "    for batch_idx, batch in enumerate(val_loader):\n",
        "        \n",
        "      input = batch[0].to(device)\n",
        "      target = batch[1].to(device)\n",
        "\n",
        "      output = model(input, target)\n",
        "\n",
        "      target = torch.transpose(target,0,1)\n",
        "      output = output.reshape(-1, output.shape[2])\n",
        "      target = target.reshape(-1)\n",
        "\n",
        "      optimizer.zero_grad()\n",
        "\n",
        "      loss = criterion(output, target)\n",
        "\n",
        "      validation_loss += loss.item()\n",
        "    \n",
        "    print(\"Validation_Loss - {}\".format(validation_loss/len(val_loader)))\n",
        "    print()\n",
        "\n",
        "    if validation_loss < best_loss:\n",
        "      best_loss = validation_loss\n",
        "      torch.save(model.state_dict(), 'params.pth')\n",
        "      checkpoint_and_save(model, best_loss, epoch, optimizer, epoch_loss)\n",
        "\n",
        "    val_loss.append(validation_loss/len(val_loader))\n",
        "\n"
      ],
      "execution_count": 25,
      "outputs": [
        {
          "output_type": "stream",
          "name": "stdout",
          "text": [
            "Epoch - 1 / 50\n",
            "Epoch_Loss - 3.418323213161703\n",
            "\n",
            "Validation_Loss - 2.9316234482659236\n",
            "\n",
            "saving\n",
            "Drive already mounted at /content/drive; to attempt to forcibly remount, call drive.mount(\"/content/drive\", force_remount=True).\n",
            "Epoch - 2 / 50\n",
            "Epoch_Loss - 2.7592779338026845\n",
            "\n",
            "Epoch - 3 / 50\n",
            "Epoch_Loss - 2.5619684404501037\n",
            "\n",
            "Epoch - 4 / 50\n",
            "Epoch_Loss - 2.4491317598513387\n",
            "\n",
            "Validation_Loss - 2.3759617620044287\n",
            "\n",
            "saving\n",
            "Drive already mounted at /content/drive; to attempt to forcibly remount, call drive.mount(\"/content/drive\", force_remount=True).\n",
            "Epoch - 5 / 50\n",
            "Epoch_Loss - 2.3323616275574244\n",
            "\n",
            "Epoch - 6 / 50\n",
            "Epoch_Loss - 2.2607467354342923\n",
            "\n",
            "Epoch - 7 / 50\n",
            "Epoch_Loss - 2.205440025755813\n",
            "\n",
            "Validation_Loss - 2.1848070912890964\n",
            "\n",
            "saving\n",
            "Drive already mounted at /content/drive; to attempt to forcibly remount, call drive.mount(\"/content/drive\", force_remount=True).\n",
            "Epoch - 8 / 50\n",
            "Epoch_Loss - 2.1541820990972678\n",
            "\n",
            "Epoch - 9 / 50\n",
            "Epoch_Loss - 2.1156825626362634\n",
            "\n",
            "Epoch - 10 / 50\n",
            "Epoch_Loss - 2.079140561252999\n",
            "\n",
            "Validation_Loss - 2.0649705436494616\n",
            "\n",
            "saving\n",
            "Drive already mounted at /content/drive; to attempt to forcibly remount, call drive.mount(\"/content/drive\", force_remount=True).\n",
            "Epoch - 11 / 50\n",
            "Epoch_Loss - 2.043646597329465\n",
            "\n",
            "Epoch - 12 / 50\n",
            "Epoch_Loss - 2.010572291619285\n",
            "\n",
            "Epoch - 13 / 50\n",
            "Epoch_Loss - 1.985105527845841\n",
            "\n",
            "Validation_Loss - 1.9608380847507052\n",
            "\n",
            "saving\n",
            "Drive already mounted at /content/drive; to attempt to forcibly remount, call drive.mount(\"/content/drive\", force_remount=True).\n",
            "Epoch - 14 / 50\n",
            "Epoch_Loss - 1.9616346638961877\n",
            "\n",
            "Epoch - 15 / 50\n",
            "Epoch_Loss - 1.9347985902978055\n",
            "\n",
            "Epoch - 16 / 50\n",
            "Epoch_Loss - 1.920147702014646\n",
            "\n",
            "Validation_Loss - 1.90727502240075\n",
            "\n",
            "saving\n",
            "Drive already mounted at /content/drive; to attempt to forcibly remount, call drive.mount(\"/content/drive\", force_remount=True).\n",
            "Epoch - 17 / 50\n",
            "Epoch_Loss - 1.9053571084358172\n",
            "\n",
            "Epoch - 18 / 50\n",
            "Epoch_Loss - 1.887821891454345\n",
            "\n",
            "Epoch - 19 / 50\n",
            "Epoch_Loss - 1.877411931586665\n",
            "\n",
            "Validation_Loss - 1.871373536851671\n",
            "\n",
            "saving\n",
            "Drive already mounted at /content/drive; to attempt to forcibly remount, call drive.mount(\"/content/drive\", force_remount=True).\n",
            "Epoch - 20 / 50\n",
            "Epoch_Loss - 1.863484111578105\n",
            "\n",
            "Epoch - 21 / 50\n",
            "Epoch_Loss - 1.8551686309569375\n",
            "\n",
            "Epoch - 22 / 50\n",
            "Epoch_Loss - 1.842497290179716\n",
            "\n",
            "Validation_Loss - 1.8404943916532728\n",
            "\n",
            "saving\n",
            "Drive already mounted at /content/drive; to attempt to forcibly remount, call drive.mount(\"/content/drive\", force_remount=True).\n",
            "Epoch - 23 / 50\n",
            "Epoch_Loss - 1.834242396514509\n",
            "\n",
            "Epoch - 24 / 50\n",
            "Epoch_Loss - 1.824923640522877\n",
            "\n",
            "Epoch - 25 / 50\n",
            "Epoch_Loss - 1.816769487364998\n",
            "\n",
            "Validation_Loss - 1.836031640900506\n",
            "\n",
            "saving\n",
            "Drive already mounted at /content/drive; to attempt to forcibly remount, call drive.mount(\"/content/drive\", force_remount=True).\n",
            "Epoch - 26 / 50\n",
            "Epoch_Loss - 1.8099394530557387\n",
            "\n",
            "Epoch - 27 / 50\n",
            "Epoch_Loss - 1.8010517625169382\n",
            "\n",
            "Epoch - 28 / 50\n",
            "Epoch_Loss - 1.7973743803674282\n",
            "\n",
            "Validation_Loss - 1.8163701428307428\n",
            "\n",
            "saving\n",
            "Drive already mounted at /content/drive; to attempt to forcibly remount, call drive.mount(\"/content/drive\", force_remount=True).\n",
            "Epoch - 29 / 50\n",
            "Epoch_Loss - 1.7898071990998763\n",
            "\n",
            "Epoch - 30 / 50\n",
            "Epoch_Loss - 1.782683033516953\n",
            "\n",
            "Epoch - 31 / 50\n",
            "Epoch_Loss - 1.781421967724848\n",
            "\n",
            "Validation_Loss - 1.814603214793735\n",
            "\n",
            "saving\n",
            "Drive already mounted at /content/drive; to attempt to forcibly remount, call drive.mount(\"/content/drive\", force_remount=True).\n",
            "Epoch - 32 / 50\n",
            "Epoch_Loss - 1.774810911556862\n",
            "\n",
            "Epoch - 33 / 50\n",
            "Epoch_Loss - 1.767805367208726\n",
            "\n",
            "Epoch - 34 / 50\n",
            "Epoch_Loss - 1.7612230684504162\n",
            "\n",
            "Validation_Loss - 1.800447416305542\n",
            "\n",
            "saving\n",
            "Drive already mounted at /content/drive; to attempt to forcibly remount, call drive.mount(\"/content/drive\", force_remount=True).\n",
            "Epoch - 35 / 50\n",
            "Epoch_Loss - 1.7607388436461293\n",
            "\n",
            "Epoch - 36 / 50\n",
            "Epoch_Loss - 1.7542515420380917\n",
            "\n",
            "Epoch - 37 / 50\n",
            "Epoch_Loss - 1.7509411806500823\n",
            "\n",
            "Validation_Loss - 1.7988629579544066\n",
            "\n",
            "saving\n",
            "Drive already mounted at /content/drive; to attempt to forcibly remount, call drive.mount(\"/content/drive\", force_remount=True).\n",
            "Epoch - 38 / 50\n",
            "Epoch_Loss - 1.744414102431782\n",
            "\n",
            "Epoch - 39 / 50\n",
            "Epoch_Loss - 1.7433881366719082\n",
            "\n",
            "Epoch - 40 / 50\n",
            "Epoch_Loss - 1.7391596346594103\n",
            "\n",
            "Validation_Loss - 1.7984310547510782\n",
            "\n",
            "saving\n",
            "Drive already mounted at /content/drive; to attempt to forcibly remount, call drive.mount(\"/content/drive\", force_remount=True).\n",
            "Epoch - 41 / 50\n",
            "Epoch_Loss - 1.736999484413829\n",
            "\n",
            "Epoch - 42 / 50\n",
            "Epoch_Loss - 1.7306356336817394\n",
            "\n",
            "Epoch - 43 / 50\n",
            "Epoch_Loss - 1.7296027031690715\n",
            "\n",
            "Validation_Loss - 1.791861391067505\n",
            "\n",
            "saving\n",
            "Drive already mounted at /content/drive; to attempt to forcibly remount, call drive.mount(\"/content/drive\", force_remount=True).\n",
            "Epoch - 44 / 50\n",
            "Epoch_Loss - 1.7277337079607575\n",
            "\n",
            "Epoch - 45 / 50\n",
            "Epoch_Loss - 1.7216484506702956\n",
            "\n",
            "Epoch - 46 / 50\n",
            "Epoch_Loss - 1.71781222314142\n",
            "\n",
            "Validation_Loss - 1.7904550128512913\n",
            "\n",
            "saving\n",
            "Drive already mounted at /content/drive; to attempt to forcibly remount, call drive.mount(\"/content/drive\", force_remount=True).\n",
            "Epoch - 47 / 50\n",
            "Epoch_Loss - 1.71517596497882\n",
            "\n",
            "Epoch - 48 / 50\n",
            "Epoch_Loss - 1.712623305160906\n",
            "\n",
            "Epoch - 49 / 50\n",
            "Epoch_Loss - 1.708863288996606\n",
            "\n",
            "Validation_Loss - 1.7866478522618612\n",
            "\n",
            "saving\n",
            "Drive already mounted at /content/drive; to attempt to forcibly remount, call drive.mount(\"/content/drive\", force_remount=True).\n",
            "Epoch - 50 / 50\n",
            "Epoch_Loss - 1.7047169794583454\n",
            "\n"
          ]
        }
      ]
    },
    {
      "cell_type": "code",
      "metadata": {
        "colab": {
          "base_uri": "https://localhost:8080/",
          "height": 301
        },
        "id": "7Tkh7xdjYr9d",
        "outputId": "5e486a8a-9ddb-45a3-f1bc-f559450e48c5"
      },
      "source": [
        "import matplotlib.pyplot as plt\n",
        "#print(train_loss)\n",
        "plt.figure(1)\n",
        "plt.plot(train_loss)\n",
        "plt.xlabel('Epoch')\n",
        "plt.ylabel('Loss')\n",
        "plt.legend('Training loss')"
      ],
      "execution_count": 26,
      "outputs": [
        {
          "output_type": "execute_result",
          "data": {
            "text/plain": [
              "<matplotlib.legend.Legend at 0x7fcfb6286990>"
            ]
          },
          "metadata": {},
          "execution_count": 26
        },
        {
          "output_type": "display_data",
          "data": {
            "image/png": "[encoded data removed]",
            "text/plain": [
              "<Figure size 432x288 with 1 Axes>"
            ]
          },
          "metadata": {
            "needs_background": "light"
          }
        }
      ]
    },
    {
      "cell_type": "code",
      "metadata": {
        "colab": {
          "base_uri": "https://localhost:8080/",
          "height": 297
        },
        "id": "u8qhXc9kihql",
        "outputId": "a53245ba-f580-47c8-cd02-cdadcf402ec5"
      },
      "source": [
        "plt.figure(2)\n",
        "plt.plot(val_loss)\n",
        "plt.xlabel('Epoch/3')\n",
        "plt.ylabel('Loss')\n",
        "plt.legend('Validation loss')"
      ],
      "execution_count": 27,
      "outputs": [
        {
          "output_type": "execute_result",
          "data": {
            "text/plain": [
              "<matplotlib.legend.Legend at 0x7fcfb625a890>"
            ]
          },
          "metadata": {},
          "execution_count": 27
        },
        {
          "output_type": "display_data",
          "data": {
            "image/png": "[encoded data removed]",
            "text/plain": [
              "<Figure size 432x288 with 1 Axes>"
            ]
          },
          "metadata": {
            "needs_background": "light"
          }
        }
      ]
    },
    {
      "cell_type": "code",
      "metadata": {
        "id": "dyTGvPwdsjsd",
        "colab": {
          "base_uri": "https://localhost:8080/"
        },
        "outputId": "173bbdaa-e828-49a5-91bc-08954c7c353a"
      },
      "source": [
        "import math\n",
        "import sklearn.metrics as metrics\n",
        "test_loss = 0\n",
        "# mae = 0\n",
        "# rmse = 0\n",
        "mape = 0\n",
        "smape = 0\n",
        "y_pred = []\n",
        "y_true = []\n",
        "model.load_state_dict(torch.load('params.pth'))  \n",
        "model.eval()\n",
        "for batch_idx, batch in enumerate(test_loader):\n",
        "        \n",
        "   input = batch[0].to(device)\n",
        "   target = batch[1].to(device)\n",
        "\n",
        "   output = model(input, target)\n",
        "\n",
        "   target = torch.transpose(target,0,1)\n",
        "   output = output.reshape(-1, output.shape[2])\n",
        "   target = target.reshape(-1)\n",
        "\n",
        "   optimizer.zero_grad()\n",
        "\n",
        "   loss = criterion(output, target)\n",
        "\n",
        "   pred = torch.argmax(output, dim=1)\n",
        "\n",
        "  #  epoch_mae = torch.abs(pred - target).sum().data\n",
        "  #  epoch_rmse = ((pred - target)*(pred - target)).sum().data\n",
        "\n",
        "   # 分母可能是0，加一个小数\n",
        "\n",
        "   epoch_mape = torch.abs(100 * (target - pred) / (target + 1)).sum().data\n",
        "   epoch_smape = torch.abs(200 * (target - pred) / (target + pred + 0.001)).sum().data\n",
        "\n",
        "  #  mae += epoch_mae\n",
        "  #  rmse += epoch_rmse\n",
        "   mape += epoch_mape\n",
        "   smape += epoch_smape\n",
        "   \n",
        "   y_pred += pred.tolist()\n",
        "   y_true += target.tolist()\n",
        "\n",
        "   test_loss += loss.item()\n",
        "\n",
        "\n",
        "# mae = mae / len(test_dataset)\n",
        "# rmse = math.sqrt(rmse/len(test_dataset))\n",
        "mape = mape / (len(test_dataset) * 8)\n",
        "smape = smape / (len(test_dataset) * 8)\n",
        "# print(mae)\n",
        "# print(rmse)\n",
        "print(\"MAPE \", mape.item()) # 分母为0，不可用\n",
        "print(\"SMAPE \", smape.item())\n",
        "\n",
        "\n",
        "# the size of y_pred: 8 * len(test_dataset)\n",
        "# so multiply by 8\n",
        "mae = metrics.mean_absolute_error(y_true, y_pred) * 8\n",
        "mse = metrics.mean_squared_error(y_true, y_pred) * 8\n",
        "rmse = mse ** (1/2)\n",
        "\n",
        "print(\"MAE: \", mae)\n",
        "print(\"MSE: \", mse)\n",
        "print(\"RMSE: \", rmse)\n"
      ],
      "execution_count": 28,
      "outputs": [
        {
          "output_type": "stream",
          "name": "stdout",
          "text": [
            "MAPE  19.793983459472656\n",
            "SMAPE  22.575624465942383\n",
            "MAE:  20.346778711484593\n",
            "MSE:  190.8935574229692\n",
            "RMSE:  13.816423467126693\n"
          ]
        }
      ]
    },
    {
      "cell_type": "code",
      "metadata": {
        "colab": {
          "base_uri": "https://localhost:8080/"
        },
        "id": "nheSqrm4spGE",
        "outputId": "9fbdafed-8a3f-4ef9-8bd5-9eca2fe7029d"
      },
      "source": [
        "print('Average test error:',test_loss/len(test_loader))"
      ],
      "execution_count": 29,
      "outputs": [
        {
          "output_type": "stream",
          "name": "stdout",
          "text": [
            "Average test error: 1.7658728041819163\n"
          ]
        }
      ]
    },
    {
      "cell_type": "code",
      "source": [
        "num = 0\n",
        "for i in range(len(y_pred)):\n",
        "  if y_pred[i] == y_true[i]:\n",
        "    num += 1\n",
        "precision = num / len(y_pred)\n",
        "print(\"Precision: \", precision)"
      ],
      "metadata": {
        "colab": {
          "base_uri": "https://localhost:8080/"
        },
        "id": "BqMAE8O24xXc",
        "outputId": "1ca7877c-c197-448e-fa0d-75ff676c04d6"
      },
      "execution_count": 30,
      "outputs": [
        {
          "output_type": "stream",
          "name": "stdout",
          "text": [
            "Precision:  0.4564425770308123\n"
          ]
        }
      ]
    },
    {
      "cell_type": "code",
      "source": [
        "print(y_pred)"
      ],
      "metadata": {
        "colab": {
          "base_uri": "https://localhost:8080/"
        },
        "id": "bjqN43jtglgo",
        "outputId": "a8f6b8da-d111-45c0-a25e-8ca4ce9925ba"
      },
      "execution_count": 31,
      "outputs": [
        {
          "output_type": "stream",
          "name": "stdout",
          "text": [
            "[24, 11, 2, 24, 31, 20, 26, 0, 15, 46, 30, 6, 23, 0, 45, 10, 16, 71, 0, 18, 15, 22, 19, 21, 48, 19, 26, 14, 13, 16, 46, 46, 33, 12, 7, 48, 78, 65, 50, 0, 18, 93, 57, 11, 23, 0, 87, 22, 16, 71, 0, 16, 22, 57, 14, 57, 26, 55, 60, 49, 22, 33, 85, 48, 27, 12, 5, 43, 68, 53, 48, 0, 15, 61, 42, 9, 31, 0, 87, 20, 16, 69, 0, 12, 19, 33, 14, 37, 32, 68, 48, 34, 17, 26, 79, 37, 0, 0, 0, 0, 0, 0, 0, 0, 0, 0, 0, 0, 0, 0, 0, 0, 0, 0, 0, 0, 0, 0, 0, 0, 0, 0, 0, 0, 0, 0, 0, 0, 2, 3, 1, 0, 24, 5, 11, 0, 5, 5, 2, 3, 11, 0, 8, 8, 6, 5, 0, 12, 2, 5, 5, 3, 17, 19, 3, 3, 3, 8, 23, 17, 20, 10, 6, 22, 29, 31, 20, 0, 8, 37, 22, 5, 13, 0, 34, 13, 11, 38, 0, 58, 11, 30, 11, 30, 54, 24, 34, 32, 8, 13, 35, 41, 3, 1, 1, 2, 6, 5, 5, 0, 1, 9, 5, 1, 3, 0, 6, 3, 2, 7, 0, 18, 2, 5, 2, 3, 18, 9, 3, 5, 1, 3, 5, 11, 36, 13, 8, 49, 70, 60, 40, 0, 15, 98, 57, 12, 29, 0, 84, 21, 15, 93, 0, 13, 22, 54, 15, 47, 33, 62, 54, 47, 20, 29, 84, 43, 2, 20, 0, 17, 1, 28, 8, 0, 46, 24, 39, 8, 0, 2, 0, 36, 0, 22, 0, 2, 71, 0, 0, 13, 19, 42, 1, 2, 8, 31, 16, 9, 3, 53, 0, 20, 3, 55, 56, 0, 70, 33, 34, 8, 0, 4, 0, 90, 0, 43, 1, 7, 102, 0, 0, 15, 66, 85, 3, 4, 16, 52, 70, 3, 2, 37, 0, 24, 2, 44, 54, 0, 76, 38, 38, 6, 0, 2, 0, 88, 0, 47, 1, 5, 69, 0, 0, 20, 50, 79, 1, 2, 13, 42, 66, 2, 0, 0, 0, 0, 0, 0, 0, 0, 0, 0, 0, 0, 0, 0, 0, 0, 0, 0, 0, 0, 0, 0, 0, 0, 0, 0, 0, 0, 0, 0, 0, 0, 0, 5, 0, 8, 0, 3, 14, 0, 5, 11, 15, 0, 0, 0, 0, 5, 0, 12, 1, 1, 5, 0, 0, 5, 3, 3, 1, 1, 1, 2, 5, 1, 5, 33, 0, 13, 6, 30, 23, 0, 30, 20, 58, 11, 0, 2, 0, 34, 0, 20, 6, 5, 33, 0, 0, 13, 24, 40, 6, 3, 6, 24, 31, 12, 1, 5, 0, 3, 1, 5, 6, 0, 6, 8, 15, 0, 0, 1, 0, 5, 0, 5, 1, 1, 7, 0, 0, 2, 5, 7, 1, 1, 0, 5, 6, 3, 2, 47, 0, 21, 2, 47, 40, 0, 70, 37, 41, 10, 0, 2, 0, 70, 0, 40, 2, 5, 105, 0, 0, 17, 51, 84, 2, 2, 13, 50, 65, 3, 19, 0, 29, 56, 25, 6, 34, 6, 16, 24, 20, 10, 26, 37, 48, 25, 4, 12, 4, 19, 10, 15, 51, 1, 19, 0, 23, 15, 15, 35, 2, 0, 43, 0, 52, 77, 43, 16, 77, 12, 22, 57, 65, 23, 57, 63, 22, 43, 6, 20, 1, 66, 14, 22, 80, 3, 46, 5, 68, 19, 34, 74, 4, 0, 36, 0, 64, 67, 36, 9, 66, 10, 25, 38, 53, 20, 41, 39, 29, 41, 3, 20, 1, 64, 9, 19, 59, 1, 49, 2, 66, 17, 27, 77, 2, 0, 0, 0, 0, 0, 0, 0, 0, 0, 0, 0, 0, 0, 0, 0, 0, 0, 0, 0, 0, 0, 0, 0, 0, 0, 0, 0, 0, 0, 0, 0, 0, 0, 3, 0, 5, 3, 3, 0, 5, 1, 8, 2, 5, 8, 3, 5, 15, 3, 1, 8, 1, 12, 1, 5, 23, 1, 12, 1, 6, 6, 11, 6, 1, 0, 32, 0, 30, 32, 20, 5, 30, 6, 13, 20, 26, 13, 32, 31, 58, 32, 5, 13, 5, 20, 7, 8, 41, 6, 20, 6, 30, 13, 20, 30, 6, 0, 5, 0, 5, 6, 5, 0, 7, 0, 3, 5, 5, 2, 5, 5, 17, 5, 1, 2, 1, 3, 1, 1, 11, 1, 5, 1, 6, 2, 11, 6, 1, 0, 47, 0, 62, 70, 47, 13, 70, 13, 21, 47, 62, 20, 54, 57, 27, 47, 5, 21, 2, 52, 13, 21, 77, 2, 40, 2, 65, 18, 33, 70, 2, 0, 2, 39, 0, 18, 14, 18, 24, 32, 7, 53, 7, 0, 3, 37, 6, 35, 29, 59, 31, 0, 0, 0, 5, 0, 0, 1, 0, 4, 25, 24, 6, 1, 3, 54, 0, 62, 8, 56, 57, 66, 7, 85, 8, 0, 16, 26, 8, 48, 17, 33, 36, 0, 0, 0, 8, 0, 0, 1, 0, 4, 57, 43, 4, 3, 2, 39, 0, 44, 6, 55, 56, 61, 5, 88, 5, 0, 9, 26, 5, 38, 12, 29, 39, 0, 0, 0, 10, 0, 0, 1, 0, 3, 44, 37, 3, 3, 0, 0, 0, 0, 0, 0, 0, 0, 0, 0, 0, 0, 0, 0, 0, 0, 0, 0, 0, 0, 0, 0, 0, 0, 0, 0, 0, 0, 0, 0, 0, 0, 1, 5, 0, 5, 7, 5, 14, 5, 0, 3, 3, 0, 2, 17, 3, 3, 15, 15, 2, 0, 0, 0, 3, 0, 0, 1, 0, 1, 5, 3, 0, 1, 6, 30, 0, 31, 58, 31, 25, 31, 5, 34, 7, 0, 6, 54, 17, 32, 58, 58, 20, 0, 0, 0, 6, 0, 0, 6, 0, 12, 30, 30, 3, 6, 1, 3, 0, 5, 18, 5, 8, 7, 1, 7, 1, 0, 0, 17, 5, 5, 18, 17, 5, 0, 0, 0, 1, 0, 0, 1, 0, 1, 3, 5, 1, 1, 2, 54, 0, 47, 7, 58, 47, 60, 8, 84, 8, 0, 9, 33, 8, 47, 17, 37, 36, 0, 0, 0, 9, 0, 0, 2, 0, 3, 54, 47, 3, 2, 11, 0, 1, 0, 23, 0, 0, 26, 51, 7, 22, 18, 1, 43, 2, 12, 21, 9, 0, 0, 5, 1, 40, 20, 28, 12, 31, 32, 30, 5, 0, 1, 11, 0, 3, 5, 33, 0, 0, 60, 102, 12, 66, 43, 1, 85, 4, 26, 33, 15, 4, 0, 11, 3, 22, 20, 90, 22, 60, 48, 85, 6, 0, 3, 9, 0, 1, 2, 27, 0, 0, 44, 71, 12, 53, 34, 1, 85, 2, 22, 29, 14, 2, 0, 11, 1, 32, 20, 83, 17, 39, 41, 68, 4, 0, 1, 0, 0, 0, 0, 0, 0, 0, 0, 0, 0, 0, 0, 0, 0, 0, 0, 0, 0, 0, 0, 0, 0, 0, 0, 0, 0, 0, 0, 0, 0, 0, 0, 0, 0, 0, 1, 0, 0, 0, 3, 5, 5, 5, 3, 1, 8, 1, 0, 11, 3, 1, 0, 1, 1, 15, 8, 0, 3, 5, 5, 24, 1, 0, 1, 6, 0, 2, 5, 11, 0, 0, 26, 37, 13, 31, 32, 6, 34, 6, 11, 53, 8, 6, 0, 6, 5, 58, 13, 34, 8, 32, 31, 34, 5, 0, 6, 0, 0, 1, 1, 2, 0, 0, 5, 8, 2, 5, 5, 1, 6, 1, 2, 17, 1, 1, 0, 0, 1, 18, 3, 3, 1, 5, 5, 6, 1, 0, 1, 13, 0, 2, 3, 36, 0, 0, 57, 105, 13, 60, 47, 2, 84, 2, 26, 27, 13, 5, 0, 13, 2, 31, 21, 70, 20, 65, 47, 70, 7, 0, 2, 5, 27, 0, 2, 13, 3, 0, 19, 25, 20, 0, 0, 7, 4, 27, 32, 0, 12, 42, 0, 0, 56, 9, 62, 37, 9, 3, 10, 27, 2, 63, 24, 5, 74, 0, 1, 22, 4, 0, 61, 56, 48, 0, 0, 7, 1, 74, 57, 0, 10, 78, 0, 0, 42, 8, 98, 72, 8, 1, 22, 36, 4, 93, 40, 3, 66, 0, 2, 20, 2, 0, 42, 42, 38, 0, 0, 9, 2, 68, 39, 0, 8, 53, 0, 0, 42, 7, 65, 68, 7, 2, 17, 38, 3, 49, 48, 0, 0, 0, 0, 0, 0, 0, 0, 0, 0, 0, 0, 0, 0, 0, 0, 0, 0, 0, 0, 0, 0, 0, 0, 0, 0, 0, 0, 0, 0, 0, 0, 3, 5, 0, 0, 5, 1, 0, 2, 3, 3, 0, 0, 2, 1, 5, 3, 0, 3, 5, 0, 0, 18, 5, 11, 19, 3, 0, 5, 12, 1, 2, 12, 17, 31, 0, 5, 13, 12, 0, 20, 26, 20, 0, 0, 6, 6, 32, 22, 0, 13, 34, 0, 0, 41, 22, 41, 24, 17, 2, 10, 20, 6, 38, 18, 5, 6, 0, 1, 1, 1, 0, 5, 5, 5, 0, 0, 1, 1, 6, 3, 0, 3, 7, 0, 0, 12, 10, 9, 5, 10, 1, 1, 3, 1, 7, 3, 6, 70, 0, 2, 21, 3, 0, 56, 54, 40, 0, 0, 9, 2, 70, 54, 0, 10, 70, 0, 0, 43, 8, 105, 62, 8, 2, 17, 36, 3, 105, 36, 10, 4, 24, 10, 20, 38, 66, 18, 41, 23, 0, 4, 26, 14, 21, 36, 10, 0, 2, 9, 0, 9, 21, 28, 22, 1, 70, 6, 72, 0, 58, 17, 14, 7, 68, 14, 58, 85, 100, 20, 48, 57, 0, 7, 67, 43, 29, 77, 16, 0, 4, 9, 0, 8, 66, 51, 57, 3, 100, 4, 107, 0, 107, 33, 9, 3, 44, 17, 68, 68, 71, 25, 39, 48, 0, 7, 62, 37, 28, 67, 14, 0, 2, 10, 0, 7, 60, 42, 33, 1, 65, 3, 65, 0, 65, 38, 0, 0, 0, 0, 0, 0, 0, 0, 0, 0, 0, 0, 0, 0, 0, 0, 0, 0, 0, 0, 0, 0, 0, 0, 0, 0, 0, 0, 0, 0, 0, 0, 0, 3, 5, 3, 15, 24, 5, 8, 5, 5, 0, 2, 5, 3, 11, 24, 2, 0, 1, 3, 0, 7, 0, 11, 5, 1, 5, 1, 11, 0, 12, 13, 5, 17, 32, 8, 24, 34, 33, 13, 32, 30, 0, 6, 31, 28, 20, 38, 9, 0, 10, 8, 0, 58, 22, 31, 26, 6, 33, 5, 41, 0, 41, 20, 0, 3, 5, 1, 5, 6, 8, 3, 5, 3, 0, 1, 5, 5, 8, 6, 1, 0, 1, 1, 0, 17, 6, 6, 5, 1, 8, 1, 8, 0, 8, 11, 13, 6, 56, 16, 62, 70, 105, 21, 48, 47, 0, 9, 65, 47, 30, 70, 20, 0, 3, 13, 0, 7, 54, 47, 57, 2, 102, 5, 105, 0, 102, 33, 0, 41, 26, 0, 29, 0, 0, 16, 6, 22, 22, 0, 27, 29, 0, 39, 20, 12, 16, 17, 0, 24, 1, 7, 15, 13, 23, 0, 0, 28, 0, 18, 0, 47, 64, 0, 44, 1, 1, 22, 12, 43, 57, 0, 57, 49, 0, 53, 48, 10, 22, 46, 0, 68, 1, 16, 44, 22, 36, 0, 0, 41, 0, 62, 0, 39, 66, 0, 36, 2, 1, 31, 12, 37, 43, 0, 48, 35, 0, 45, 49, 10, 22, 42, 0, 62, 1, 12, 38, 30, 38, 0, 0, 42, 0, 61, 0, 0, 0, 0, 0, 0, 0, 0, 0, 0, 0, 0, 0, 0, 0, 0, 0, 0, 0, 0, 0, 0, 0, 0, 0, 0, 0, 0, 0, 0, 0, 0, 0, 5, 5, 0, 3, 1, 0, 11, 2, 2, 3, 0, 5, 3, 0, 5, 11, 0, 0, 9, 0, 9, 1, 5, 12, 8, 11, 0, 0, 11, 0, 14, 0, 31, 31, 0, 20, 6, 5, 20, 8, 22, 28, 0, 31, 26, 0, 30, 23, 6, 11, 20, 0, 32, 6, 11, 20, 14, 26, 0, 0, 41, 0, 24, 0, 5, 6, 0, 5, 1, 1, 8, 1, 5, 3, 0, 5, 5, 0, 5, 6, 0, 2, 3, 0, 11, 1, 2, 3, 6, 11, 0, 0, 11, 0, 6, 0, 54, 65, 0, 40, 2, 2, 25, 13, 47, 65, 0, 61, 47, 0, 54, 47, 13, 22, 36, 0, 68, 2, 15, 36, 25, 41, 0, 0, 41, 0, 47, 2, 5, 27, 24, 35, 47, 23, 17, 1, 29, 1, 24, 1, 16, 3, 61, 3, 3, 14, 29, 4, 3, 4, 15, 0, 6, 62, 0, 27, 3, 4, 16, 7, 14, 65, 57, 74, 22, 48, 49, 1, 49, 3, 57, 5, 22, 7, 107, 16, 4, 22, 48, 16, 4, 2, 64, 0, 11, 98, 0, 57, 6, 4, 42, 5, 13, 56, 42, 68, 29, 43, 35, 1, 35, 2, 37, 3, 25, 5, 65, 5, 3, 20, 37, 10, 5, 2, 59, 0, 9, 71, 0, 48, 5, 3, 38, 0, 0, 0, 0, 0, 0, 0, 0, 0, 0, 0, 0, 0, 0, 0, 0, 0, 0, 0, 0, 0, 0, 0, 0, 0, 0, 0, 0, 0, 0, 0, 0, 1, 2, 5, 11, 5, 15, 0, 2, 0, 2, 1, 3, 1, 8, 1, 7, 0, 1, 6, 5, 2, 1, 1, 5, 0, 1, 11, 0, 3, 1, 1, 3, 5, 6, 31, 20, 31, 58, 33, 20, 5, 17, 6, 30, 5, 14, 5, 38, 5, 2, 13, 30, 6, 5, 15, 30, 0, 6, 41, 0, 28, 5, 6, 20, 1, 0, 5, 5, 5, 17, 3, 5, 1, 5, 1, 5, 1, 6, 1, 8, 0, 1, 2, 3, 1, 1, 3, 5, 0, 0, 9, 0, 3, 1, 1, 5, 5, 13, 65, 40, 60, 27, 47, 47, 2, 50, 2, 47, 3, 25, 5, 105, 9, 2, 21, 48, 13, 5, 5, 58, 0, 13, 105, 0, 54, 5, 5, 40, 39, 12, 0, 38, 14, 0, 0, 0, 19, 23, 38, 0, 36, 33, 0, 29, 2, 14, 39, 16, 39, 31, 27, 9, 28, 0, 13, 4, 5, 34, 4, 37, 54, 26, 0, 85, 19, 0, 0, 0, 59, 48, 85, 0, 60, 57, 0, 54, 1, 18, 22, 57, 54, 78, 30, 19, 55, 0, 22, 6, 8, 74, 6, 48, 39, 26, 0, 68, 16, 0, 0, 0, 44, 41, 91, 0, 39, 42, 0, 41, 2, 16, 29, 44, 39, 68, 26, 17, 42, 0, 22, 3, 9, 68, 3, 48, 0, 0, 0, 0, 0, 0, 0, 0, 0, 0, 0, 0, 0, 0, 0, 0, 0, 0, 0, 0, 0, 0, 0, 0, 0, 0, 0, 0, 0, 0, 0, 0, 3, 8, 0, 23, 2, 0, 0, 0, 3, 5, 23, 0, 3, 2, 0, 17, 1, 3, 15, 5, 5, 20, 8, 5, 2, 0, 9, 1, 0, 24, 1, 0, 29, 13, 0, 38, 9, 0, 0, 0, 22, 32, 39, 0, 31, 22, 0, 41, 6, 8, 58, 30, 30, 30, 13, 8, 24, 0, 18, 5, 5, 27, 5, 22, 5, 3, 0, 9, 1, 0, 0, 0, 5, 5, 6, 0, 5, 5, 0, 12, 1, 1, 17, 5, 3, 6, 3, 2, 5, 0, 10, 1, 0, 6, 1, 5, 54, 26, 0, 84, 20, 0, 0, 0, 47, 47, 85, 0, 57, 57, 0, 45, 2, 17, 27, 47, 54, 70, 29, 16, 47, 0, 22, 5, 9, 62, 5, 49, 15, 9, 47, 3, 44, 24, 35, 70, 0, 0, 20, 18, 23, 16, 0, 3, 4, 2, 25, 55, 16, 0, 3, 1, 2, 17, 26, 6, 3, 10, 1, 11, 44, 8, 67, 3, 77, 43, 64, 100, 0, 0, 35, 43, 40, 22, 0, 4, 1, 1, 40, 65, 22, 0, 4, 5, 5, 48, 60, 4, 4, 22, 3, 24, 38, 8, 45, 3, 67, 36, 53, 65, 0, 0, 27, 44, 30, 22, 0, 2, 2, 2, 38, 44, 25, 0, 3, 5, 5, 37, 60, 3, 2, 17, 3, 18, 0, 0, 0, 0, 0, 0, 0, 0, 0, 0, 0, 0, 0, 0, 0, 0, 0, 0, 0, 0, 0, 0, 0, 0, 0, 0, 0, 0, 0, 0, 0, 0, 3, 3, 5, 0, 20, 3, 5, 5, 0, 0, 11, 3, 2, 8, 0, 1, 1, 1, 3, 5, 2, 0, 1, 1, 1, 5, 5, 1, 1, 3, 1, 8, 20, 6, 40, 2, 31, 22, 33, 33, 0, 0, 32, 31, 20, 13, 0, 6, 6, 6, 20, 40, 11, 0, 2, 6, 6, 30, 31, 2, 17, 8, 6, 13, 5, 1, 7, 1, 11, 5, 7, 7, 0, 0, 11, 5, 5, 3, 0, 1, 1, 1, 5, 7, 2, 0, 1, 1, 1, 3, 6, 1, 5, 1, 1, 2, 44, 9, 70, 2, 70, 47, 64, 102, 0, 0, 33, 47, 44, 21, 0, 2, 2, 2, 40, 71, 24, 0, 5, 5, 5, 47, 62, 2, 3, 20, 2, 21, 0, 0, 37, 0, 20, 0, 0, 12, 3, 0, 0, 2, 22, 26, 5, 0, 0, 31, 0, 1, 30, 23, 0, 55, 2, 2, 41, 0, 0, 18, 31, 41, 0, 0, 69, 4, 48, 0, 0, 22, 7, 0, 0, 11, 33, 40, 18, 0, 0, 70, 0, 3, 52, 49, 0, 32, 7, 1, 53, 6, 0, 56, 52, 62, 0, 0, 51, 2, 37, 0, 0, 22, 5, 0, 0, 7, 38, 37, 16, 0, 0, 76, 0, 2, 43, 36, 0, 38, 5, 2, 44, 3, 0, 44, 39, 39, 0, 0, 0, 0, 0, 0, 0, 0, 0, 0, 0, 0, 0, 0, 0, 0, 0, 0, 0, 0, 0, 0, 0, 0, 0, 0, 0, 0, 0, 0, 0, 0, 0, 0, 16, 0, 3, 0, 0, 0, 0, 0, 0, 1, 12, 3, 3, 0, 0, 6, 0, 1, 3, 2, 0, 17, 1, 1, 5, 1, 0, 5, 2, 5, 0, 0, 39, 5, 32, 0, 0, 11, 5, 0, 0, 6, 16, 32, 8, 0, 0, 32, 0, 6, 32, 20, 0, 53, 5, 5, 31, 5, 0, 31, 24, 32, 0, 0, 11, 1, 5, 0, 0, 2, 1, 0, 0, 1, 3, 5, 1, 0, 0, 6, 0, 1, 5, 5, 0, 15, 1, 1, 5, 1, 0, 5, 5, 5, 0, 0, 71, 2, 47, 0, 0, 26, 5, 0, 0, 9, 29, 47, 14, 0, 0, 70, 0, 2, 50, 50, 0, 33, 5, 2, 65, 5, 0, 47, 50, 60, 1, 0, 5, 25, 6, 0, 33, 8, 2, 0, 17, 37, 34, 29, 6, 12, 22, 4, 19, 32, 4, 0, 8, 17, 6, 59, 38, 62, 0, 39, 20, 2, 3, 0, 23, 48, 6, 0, 55, 26, 1, 0, 20, 77, 62, 52, 8, 18, 41, 7, 50, 52, 4, 0, 8, 25, 6, 100, 85, 107, 0, 78, 20, 4, 2, 0, 19, 37, 3, 0, 49, 18, 2, 0, 24, 77, 44, 44, 5, 12, 42, 3, 44, 67, 3, 0, 7, 25, 6, 61, 88, 69, 0, 68, 23, 3, 0, 0, 0, 0, 0, 0, 0, 0, 0, 0, 0, 0, 0, 0, 0, 0, 0, 0, 0, 0, 0, 0, 0, 0, 0, 0, 0, 0, 0, 0, 0, 0, 0, 0, 3, 3, 1, 0, 0, 3, 0, 0, 8, 6, 5, 5, 0, 5, 12, 3, 3, 19, 1, 0, 0, 6, 0, 5, 9, 11, 0, 9, 8, 1, 5, 0, 8, 32, 5, 0, 22, 8, 5, 0, 14, 34, 30, 31, 5, 11, 20, 17, 24, 24, 5, 0, 5, 13, 3, 33, 34, 38, 0, 30, 13, 5, 1, 0, 1, 5, 1, 0, 2, 1, 1, 0, 6, 3, 5, 5, 0, 2, 3, 3, 5, 9, 1, 0, 0, 2, 1, 7, 6, 8, 0, 6, 3, 1, 2, 0, 21, 47, 5, 0, 49, 20, 2, 0, 21, 70, 57, 58, 9, 15, 40, 6, 47, 68, 3, 0, 13, 21, 5, 105, 84, 105, 0, 70, 21, 5, 4, 3, 68, 0, 24, 0, 22, 25, 0, 1, 16, 25, 25, 68, 0, 14, 30, 5, 0, 4, 42, 33, 10, 19, 21, 25, 36, 5, 0, 3, 9, 18, 7, 1, 102, 0, 44, 0, 33, 60, 0, 3, 22, 43, 56, 107, 1, 49, 70, 23, 0, 4, 64, 57, 53, 22, 57, 65, 60, 3, 0, 4, 8, 49, 10, 2, 71, 0, 35, 0, 38, 44, 0, 3, 24, 41, 39, 65, 1, 44, 67, 31, 0, 2, 76, 42, 39, 19, 48, 66, 39, 3, 0, 2, 10, 44, 0, 0, 0, 0, 0, 0, 0, 0, 0, 0, 0, 0, 0, 0, 0, 0, 0, 0, 0, 0, 0, 0, 0, 0, 0, 0, 0, 0, 0, 0, 0, 0, 2, 1, 5, 0, 3, 0, 3, 3, 0, 1, 8, 3, 5, 5, 0, 3, 5, 11, 0, 1, 7, 3, 3, 5, 5, 6, 5, 0, 0, 1, 3, 3, 6, 5, 38, 0, 20, 0, 22, 26, 0, 5, 13, 32, 30, 33, 2, 30, 31, 13, 0, 6, 32, 26, 30, 11, 30, 27, 32, 2, 0, 12, 8, 32, 0, 1, 7, 0, 5, 0, 5, 3, 0, 1, 3, 5, 5, 8, 1, 5, 6, 3, 0, 1, 6, 5, 3, 2, 5, 6, 5, 1, 0, 1, 1, 5, 9, 2, 102, 0, 44, 0, 43, 54, 0, 2, 29, 47, 54, 105, 2, 47, 65, 26, 0, 2, 65, 57, 47, 21, 47, 65, 57, 2, 0, 3, 12, 47, 41, 0, 0, 1, 49, 66, 27, 53, 0, 3, 23, 23, 10, 36, 30, 30, 0, 23, 0, 43, 52, 33, 7, 0, 0, 5, 1, 12, 3, 25, 0, 15, 90, 0, 0, 16, 43, 100, 57, 62, 0, 7, 68, 31, 17, 60, 52, 52, 0, 68, 0, 54, 90, 57, 7, 0, 0, 8, 3, 12, 4, 40, 0, 22, 84, 0, 0, 10, 46, 66, 42, 53, 0, 8, 68, 26, 20, 39, 51, 44, 0, 44, 0, 39, 84, 42, 5, 0, 0, 9, 3, 12, 3, 27, 0, 25, 0, 0, 0, 0, 0, 0, 0, 0, 0, 0, 0, 0, 0, 0, 0, 0, 0, 0, 0, 0, 0, 0, 0, 0, 0, 0, 0, 0, 0, 0, 0, 0, 9, 0, 0, 0, 18, 7, 2, 5, 0, 2, 24, 12, 8, 18, 11, 5, 0, 5, 0, 3, 9, 3, 1, 0, 0, 2, 1, 6, 1, 2, 0, 8, 34, 0, 0, 6, 41, 43, 13, 37, 0, 6, 32, 13, 18, 41, 22, 31, 0, 31, 0, 23, 34, 24, 5, 0, 0, 5, 5, 47, 6, 13, 0, 13, 5, 0, 0, 0, 12, 8, 5, 7, 0, 1, 6, 3, 6, 12, 5, 3, 0, 5, 0, 5, 7, 5, 1, 0, 0, 0, 1, 15, 1, 3, 0, 3, 84, 0, 0, 13, 61, 98, 52, 71, 0, 9, 70, 29, 18, 68, 54, 48, 0, 65, 0, 61, 84, 54, 8, 0, 0, 13, 5, 13, 3, 36, 0, 22, 0, 62, 40, 9, 0, 12, 61, 17, 35, 17, 1, 0, 3, 20, 3, 4, 31, 0, 37, 31, 26, 0, 18, 32, 28, 2, 20, 14, 28, 28, 24, 0, 0, 105, 74, 8, 0, 12, 92, 20, 53, 64, 3, 0, 1, 48, 1, 4, 52, 0, 67, 78, 42, 0, 65, 52, 63, 7, 10, 20, 78, 43, 57, 4, 0, 49, 68, 7, 0, 12, 67, 24, 39, 66, 2, 0, 2, 37, 2, 3, 37, 0, 48, 79, 41, 0, 51, 61, 44, 5, 11, 22, 75, 41, 44, 2, 0, 0, 0, 0, 0, 0, 0, 0, 0, 0, 0, 0, 0, 0, 0, 0, 0, 0, 0, 0, 0, 0, 0, 0, 0, 0, 0, 0, 0, 0, 0, 0, 0, 5, 24, 3, 0, 11, 5, 11, 3, 5, 1, 0, 1, 3, 0, 1, 3, 0, 5, 23, 5, 0, 5, 17, 5, 0, 11, 11, 24, 3, 3, 1, 0, 35, 29, 12, 0, 58, 38, 18, 31, 31, 6, 0, 5, 20, 5, 5, 31, 0, 31, 38, 32, 0, 30, 23, 33, 1, 58, 14, 31, 30, 34, 6, 0, 7, 6, 3, 0, 18, 7, 8, 5, 6, 1, 0, 1, 5, 1, 1, 5, 0, 5, 6, 5, 0, 5, 6, 7, 1, 18, 6, 6, 3, 5, 1, 0, 101, 70, 7, 0, 13, 89, 25, 54, 62, 2, 0, 2, 47, 2, 2, 48, 0, 57, 70, 47, 0, 60, 54, 64, 8, 13, 26, 70, 47, 47, 2, 1, 27, 0, 17, 22, 5, 21, 59, 13, 23, 21, 3, 11, 8, 25, 0, 8, 32, 56, 35, 12, 35, 36, 7, 31, 0, 0, 1, 62, 0, 39, 25, 5, 48, 0, 50, 52, 2, 42, 107, 22, 68, 66, 4, 29, 8, 56, 0, 19, 57, 100, 61, 33, 47, 36, 8, 52, 0, 0, 3, 100, 0, 62, 27, 3, 36, 0, 49, 44, 2, 32, 71, 20, 66, 56, 3, 26, 5, 39, 0, 17, 45, 60, 68, 23, 38, 39, 8, 42, 0, 0, 2, 51, 0, 39, 31, 0, 0, 0, 0, 0, 0, 0, 0, 0, 0, 0, 0, 0, 0, 0, 0, 0, 0, 0, 0, 0, 0, 0, 0, 0, 0, 0, 0, 0, 0, 0, 0, 1, 3, 0, 12, 5, 1, 2, 5, 6, 0, 0, 0, 8, 1, 2, 0, 5, 5, 11, 12, 0, 3, 3, 3, 13, 0, 0, 1, 11, 0, 5, 11, 12, 30, 0, 20, 28, 6, 13, 33, 13, 34, 33, 2, 13, 6, 17, 0, 11, 31, 43, 24, 11, 20, 32, 7, 31, 0, 0, 6, 41, 0, 30, 20, 1, 5, 0, 3, 5, 1, 3, 8, 2, 6, 3, 1, 3, 1, 5, 0, 2, 5, 7, 6, 2, 5, 5, 1, 7, 0, 0, 1, 15, 0, 5, 3, 3, 48, 0, 36, 54, 2, 44, 105, 21, 70, 54, 2, 29, 10, 51, 0, 21, 61, 93, 62, 29, 47, 47, 8, 48, 0, 0, 2, 105, 0, 65, 30, 42, 0, 38, 6, 2, 21, 0, 12, 59, 15, 28, 1, 63, 9, 3, 65, 1, 7, 24, 0, 10, 44, 16, 17, 24, 0, 58, 10, 52, 0, 0, 12, 90, 0, 54, 12, 1, 50, 0, 22, 93, 22, 32, 3, 107, 26, 4, 93, 3, 8, 46, 0, 8, 42, 46, 48, 22, 0, 27, 54, 52, 0, 0, 20, 84, 0, 45, 9, 2, 48, 0, 20, 61, 19, 38, 2, 63, 19, 3, 49, 1, 6, 34, 0, 6, 42, 38, 37, 25, 0, 32, 39, 44, 0, 0, 20, 0, 0, 0, 0, 0, 0, 0, 0, 0, 0, 0, 0, 0, 0, 0, 0, 0, 0, 0, 0, 0, 0, 0, 0, 0, 0, 0, 0, 0, 0, 0, 0, 20, 0, 5, 3, 1, 11, 0, 6, 5, 0, 17, 0, 7, 6, 1, 5, 0, 5, 11, 0, 7, 17, 11, 3, 6, 0, 15, 3, 5, 0, 0, 8, 32, 0, 33, 6, 5, 20, 0, 13, 33, 11, 41, 5, 33, 11, 6, 37, 5, 47, 25, 0, 58, 41, 32, 30, 11, 0, 54, 32, 30, 0, 0, 18, 6, 0, 5, 1, 1, 5, 0, 2, 7, 2, 11, 1, 10, 2, 1, 7, 1, 10, 11, 0, 18, 11, 11, 3, 2, 0, 18, 5, 3, 0, 0, 6, 73, 0, 61, 13, 2, 40, 0, 21, 98, 26, 41, 2, 102, 21, 5, 85, 2, 7, 41, 0, 13, 43, 31, 47, 21, 0, 32, 54, 47, 0, 0, 23, 27, 20, 15, 0, 0, 3, 1, 0, 2, 5, 20, 20, 17, 28, 0, 9, 14, 6, 8, 14, 13, 21, 10, 29, 0, 13, 24, 62, 15, 25, 15, 25, 49, 20, 44, 0, 0, 7, 5, 0, 8, 6, 49, 65, 18, 33, 0, 11, 19, 35, 26, 49, 22, 52, 23, 48, 2, 14, 57, 106, 49, 20, 51, 65, 35, 17, 34, 0, 0, 5, 3, 0, 5, 3, 30, 66, 14, 38, 0, 10, 16, 18, 20, 34, 17, 43, 15, 36, 2, 17, 34, 71, 37, 29, 42, 47, 0, 0, 0, 0, 0, 0, 0, 0, 0, 0, 0, 0, 0, 0, 0, 0, 0, 0, 0, 0, 0, 0, 0, 0, 0, 0, 0, 0, 0, 0, 0, 0, 2, 2, 3, 0, 0, 2, 1, 0, 0, 1, 3, 5, 5, 11, 0, 1, 2, 3, 8, 3, 5, 17, 3, 5, 1, 5, 3, 11, 3, 15, 0, 5, 20, 8, 32, 0, 0, 6, 6, 0, 5, 6, 17, 30, 11, 20, 0, 6, 9, 8, 13, 26, 11, 25, 8, 30, 6, 11, 32, 38, 32, 58, 33, 26, 5, 1, 13, 0, 0, 1, 1, 0, 1, 1, 5, 6, 2, 5, 0, 1, 1, 1, 2, 5, 1, 5, 1, 3, 1, 1, 5, 15, 5, 20, 5, 5, 50, 20, 47, 0, 0, 9, 5, 0, 5, 5, 44, 62, 15, 40, 0, 13, 20, 26, 21, 47, 20, 47, 17, 47, 2, 20, 47, 105, 47, 20, 46, 57, 29, 9, 32, 10, 1, 23, 24, 20, 68, 24, 17, 22, 32, 5, 23, 20, 30, 34, 26, 0, 0, 0, 1, 55, 10, 0, 3, 20, 25, 32, 70, 62, 48, 8, 70, 14, 3, 48, 68, 48, 102, 48, 57, 57, 35, 23, 48, 58, 85, 22, 60, 0, 0, 0, 5, 89, 10, 0, 4, 65, 65, 64, 107, 102, 37, 8, 74, 11, 1, 36, 56, 37, 65, 37, 33, 33, 30, 19, 36, 53, 91, 29, 44, 0, 0, 0, 3, 71, 5, 0, 2, 44, 66, 70, 65, 61, 0, 0, 0, 0, 0, 0, 0, 0, 0, 0, 0, 0, 0, 0, 0, 0, 0, 0, 0, 0, 0, 0, 0, 0, 0, 0, 0, 0, 0, 0, 0, 0, 3, 3, 3, 3, 1, 12, 3, 4, 5, 3, 3, 5, 2, 3, 3, 5, 20, 15, 3, 0, 0, 0, 1, 5, 3, 0, 1, 5, 5, 3, 5, 5, 24, 10, 31, 8, 6, 20, 26, 32, 38, 32, 26, 31, 20, 8, 30, 31, 38, 58, 24, 0, 0, 0, 6, 40, 6, 0, 6, 31, 30, 32, 33, 38, 5, 1, 6, 1, 1, 3, 5, 15, 7, 5, 5, 5, 5, 1, 5, 5, 7, 17, 5, 0, 0, 0, 1, 8, 1, 0, 1, 5, 6, 6, 7, 7, 52, 7, 70, 13, 2, 36, 60, 43, 105, 47, 56, 54, 36, 20, 48, 56, 84, 27, 57, 0, 0, 0, 2, 98, 8, 0, 2, 54, 70, 70, 105, 105, 33, 28, 30, 0, 32, 11, 23, 33, 32, 11, 7, 1, 24, 1, 10, 20, 0, 0, 18, 50, 12, 18, 0, 0, 0, 33, 17, 58, 4, 16, 43, 23, 52, 22, 52, 5, 70, 9, 57, 42, 48, 18, 7, 5, 43, 5, 22, 40, 0, 1, 24, 69, 22, 11, 0, 0, 0, 57, 57, 60, 7, 18, 90, 36, 42, 24, 44, 2, 68, 7, 41, 38, 37, 20, 5, 3, 37, 3, 20, 38, 0, 2, 18, 44, 17, 11, 0, 0, 0, 62, 37, 49, 8, 14, 84, 39, 0, 0, 0, 0, 0, 0, 0, 0, 0, 0, 0, 0, 0, 0, 0, 0, 0, 0, 0, 0, 0, 0, 0, 0, 0, 0, 0, 0, 0, 0, 0, 0, 3, 12, 5, 1, 15, 6, 3, 2, 3, 6, 1, 1, 3, 1, 6, 11, 0, 1, 5, 5, 5, 11, 0, 0, 0, 16, 3, 5, 3, 5, 11, 2, 26, 58, 31, 6, 32, 27, 32, 20, 33, 13, 5, 6, 25, 5, 13, 20, 0, 6, 11, 40, 11, 58, 0, 0, 0, 24, 30, 40, 17, 8, 34, 20, 3, 18, 5, 1, 9, 15, 5, 5, 5, 2, 1, 1, 5, 1, 2, 3, 0, 1, 2, 6, 1, 18, 0, 0, 0, 6, 5, 7, 3, 1, 6, 5, 54, 23, 48, 2, 68, 7, 47, 40, 54, 15, 5, 5, 47, 5, 20, 36, 0, 2, 21, 70, 20, 13, 0, 0, 0, 62, 47, 82, 7, 17, 84, 44, 6, 13, 6, 1, 14, 21, 0, 58, 23, 1, 33, 24, 14, 0, 16, 24, 26, 21, 0, 31, 4, 30, 32, 2, 9, 38, 30, 0, 61, 50, 47, 18, 5, 22, 12, 3, 19, 22, 0, 60, 49, 3, 33, 20, 44, 0, 22, 50, 40, 57, 0, 64, 7, 85, 52, 11, 6, 85, 77, 0, 107, 54, 107, 16, 2, 20, 10, 1, 20, 20, 0, 61, 34, 3, 27, 27, 42, 0, 22, 37, 38, 44, 0, 61, 8, 91, 43, 7, 3, 88, 77, 0, 71, 45, 71, 18, 0, 0, 0, 0, 0, 0, 0, 0, 0, 0, 0, 0, 0, 0, 0, 0, 0, 0, 0, 0, 0, 0, 0, 0, 0, 0, 0, 0, 0, 0, 0, 0, 1, 8, 0, 1, 8, 8, 0, 15, 3, 0, 13, 15, 11, 0, 9, 3, 11, 3, 0, 6, 3, 20, 3, 0, 1, 5, 3, 0, 10, 16, 5, 15, 12, 13, 6, 6, 13, 13, 0, 41, 26, 2, 53, 58, 20, 0, 18, 26, 25, 29, 0, 31, 13, 38, 28, 6, 17, 32, 32, 0, 33, 41, 38, 58, 1, 2, 1, 1, 2, 2, 0, 12, 5, 0, 11, 17, 3, 0, 8, 5, 11, 5, 0, 7, 3, 6, 3, 0, 10, 6, 6, 0, 8, 12, 7, 18, 5, 20, 13, 2, 21, 21, 0, 82, 50, 2, 33, 20, 36, 0, 25, 47, 40, 54, 0, 70, 8, 84, 54, 9, 8, 84, 70, 0, 105, 71, 102, 20, 10, 1, 10, 9, 21, 35, 34, 6, 0, 28, 24, 1, 0, 0, 0, 0, 31, 25, 0, 33, 38, 5, 8, 0, 6, 27, 18, 1, 39, 33, 42, 5, 14, 1, 22, 4, 52, 53, 56, 12, 0, 70, 45, 3, 0, 1, 0, 0, 52, 57, 0, 57, 54, 6, 19, 0, 16, 71, 62, 2, 78, 85, 85, 6, 9, 1, 20, 3, 41, 39, 39, 9, 0, 67, 48, 2, 0, 1, 0, 0, 36, 33, 0, 39, 46, 3, 14, 0, 9, 62, 47, 1, 68, 91, 79, 6, 0, 0, 0, 0, 0, 0, 0, 0, 0, 0, 0, 0, 0, 0, 0, 0, 0, 0, 0, 0, 0, 0, 0, 0, 0, 0, 0, 0, 0, 0, 0, 0, 0, 1, 8, 1, 3, 5, 2, 2, 0, 5, 12, 1, 0, 1, 0, 0, 2, 5, 0, 5, 18, 1, 3, 0, 0, 5, 5, 0, 15, 22, 5, 1, 6, 6, 13, 17, 30, 31, 20, 7, 0, 32, 20, 6, 0, 5, 0, 0, 24, 31, 0, 31, 41, 7, 8, 0, 5, 31, 31, 5, 27, 38, 34, 5, 0, 1, 2, 5, 3, 5, 5, 1, 0, 6, 3, 1, 0, 1, 0, 0, 5, 5, 0, 5, 12, 1, 1, 0, 0, 6, 5, 1, 5, 6, 6, 1, 13, 2, 21, 6, 47, 48, 57, 12, 0, 65, 36, 2, 0, 2, 0, 0, 50, 54, 0, 57, 61, 5, 20, 0, 13, 62, 56, 2, 62, 93, 84, 7, 0, 13, 24, 26, 5, 29, 34, 20, 48, 11, 15, 29, 15, 8, 0, 3, 59, 0, 0, 0, 0, 0, 0, 2, 30, 4, 18, 4, 28, 7, 0, 0, 0, 8, 57, 49, 6, 60, 74, 48, 22, 22, 49, 33, 16, 23, 0, 11, 93, 0, 0, 0, 0, 0, 0, 3, 52, 6, 20, 2, 70, 30, 0, 0, 0, 11, 38, 44, 6, 44, 68, 37, 29, 25, 37, 28, 11, 21, 0, 9, 61, 0, 0, 0, 0, 0, 0, 2, 42, 6, 25, 2, 67, 15, 0, 0, 0, 0, 0, 0, 0, 0, 0, 0, 0, 0, 0, 0, 0, 0, 0, 0, 0, 0, 0, 0, 0, 0, 0, 0, 0, 0, 0, 0, 0, 0, 0, 0, 0, 11, 2, 3, 0, 3, 24, 3, 15, 8, 3, 11, 2, 0, 0, 0, 5, 0, 0, 0, 0, 0, 0, 1, 5, 0, 5, 1, 6, 2, 0, 0, 0, 58, 24, 32, 5, 26, 27, 30, 58, 13, 26, 20, 6, 7, 0, 6, 33, 0, 0, 0, 0, 0, 0, 5, 31, 5, 11, 12, 27, 8, 0, 0, 0, 18, 5, 5, 0, 5, 6, 3, 17, 2, 5, 3, 0, 1, 0, 0, 7, 0, 0, 0, 0, 0, 0, 1, 5, 1, 2, 1, 6, 1, 0, 0, 0, 13, 47, 47, 9, 60, 60, 47, 27, 21, 47, 36, 13, 21, 0, 9, 98, 0, 0, 0, 0, 0, 0, 2, 48, 8, 21, 5, 70, 11, 0, 0, 44, 18, 5, 38, 0, 6, 4, 30, 33, 27, 2, 6, 0, 17, 26, 30, 35, 1, 30, 2, 30, 0, 0, 3, 0, 29, 7, 2, 0, 29, 1, 1, 90, 48, 6, 54, 0, 4, 4, 70, 76, 74, 6, 16, 0, 18, 40, 74, 53, 5, 70, 4, 43, 0, 0, 1, 0, 49, 5, 4, 0, 70, 1, 3, 84, 44, 6, 42, 0, 3, 2, 68, 76, 68, 2, 14, 0, 16, 41, 68, 42, 3, 77, 2, 37, 0, 0, 2, 0, 31, 3, 3, 0, 68, 1, 2, 0, 0, 0, 0, 0, 0, 0, 0, 0, 0, 0, 0, 0, 0, 0, 0, 0, 0, 0, 0, 0, 0, 0, 0, 0, 0, 0, 0, 0, 0, 0, 0, 26, 5, 3, 2, 0, 1, 1, 5, 6, 5, 1, 3, 0, 2, 8, 23, 2, 1, 5, 0, 3, 0, 0, 1, 0, 0, 1, 1, 0, 15, 1, 1, 38, 32, 5, 20, 0, 5, 12, 31, 30, 30, 12, 8, 0, 7, 32, 39, 22, 5, 31, 5, 32, 0, 0, 6, 0, 22, 7, 6, 0, 24, 6, 6, 6, 5, 1, 5, 0, 1, 1, 7, 6, 6, 1, 1, 0, 1, 13, 9, 5, 1, 6, 1, 5, 0, 0, 1, 0, 2, 1, 1, 0, 6, 1, 1, 84, 47, 7, 50, 0, 7, 3, 70, 70, 70, 3, 15, 0, 17, 40, 70, 50, 5, 70, 2, 50, 0, 0, 2, 0, 45, 3, 5, 0, 60, 2, 2, 2, 3, 27, 0, 0, 26, 0, 26, 2, 0, 13, 33, 45, 0, 44, 33, 37, 0, 0, 50, 6, 19, 0, 55, 31, 4, 2, 16, 0, 31, 7, 19, 3, 4, 57, 0, 0, 40, 0, 26, 3, 0, 22, 57, 93, 0, 67, 85, 88, 1, 0, 48, 8, 31, 1, 80, 60, 6, 3, 43, 0, 52, 20, 66, 2, 3, 47, 0, 0, 37, 0, 31, 2, 0, 17, 42, 45, 0, 52, 85, 84, 1, 0, 37, 6, 24, 2, 66, 39, 3, 3, 37, 0, 43, 20, 44, 0, 0, 0, 0, 0, 0, 0, 0, 0, 0, 0, 0, 0, 0, 0, 0, 0, 0, 0, 0, 0, 0, 0, 0, 0, 0, 0, 0, 0, 0, 0, 0, 0, 1, 11, 0, 0, 3, 0, 11, 1, 0, 2, 3, 5, 0, 5, 6, 28, 1, 0, 3, 5, 2, 1, 5, 5, 1, 1, 3, 0, 0, 0, 3, 5, 5, 18, 0, 0, 30, 0, 58, 6, 0, 11, 26, 43, 0, 40, 34, 38, 5, 0, 34, 22, 13, 6, 40, 31, 5, 6, 30, 0, 22, 7, 24, 1, 1, 5, 0, 0, 5, 0, 17, 1, 0, 1, 5, 8, 0, 7, 6, 5, 1, 0, 5, 10, 3, 1, 6, 5, 1, 1, 3, 0, 2, 1, 5, 2, 5, 43, 0, 0, 47, 0, 27, 2, 0, 20, 57, 101, 0, 65, 70, 84, 2, 0, 48, 8, 35, 2, 85, 57, 5, 5, 47, 0, 49, 9, 56, 33, 42, 36, 10, 2, 13, 13, 24, 33, 32, 5, 31, 7, 3, 16, 15, 0, 0, 24, 0, 0, 30, 3, 24, 31, 42, 0, 13, 10, 3, 1, 4, 85, 25, 47, 49, 1, 22, 22, 57, 33, 20, 36, 52, 5, 4, 16, 22, 0, 0, 65, 0, 0, 52, 7, 41, 52, 78, 0, 43, 22, 1, 3, 1, 88, 29, 39, 43, 2, 22, 20, 45, 33, 24, 24, 41, 2, 2, 12, 25, 0, 0, 39, 0, 0, 44, 8, 41, 39, 71, 0, 36, 17, 2, 1, 1, 0, 0, 0, 0, 0, 0, 0, 0, 0, 0, 0, 0, 0, 0, 0, 0, 0, 0, 0, 0, 0, 0, 0, 0, 0, 0, 0, 0, 0, 0, 0, 0, 6, 17, 2, 0, 1, 0, 6, 5, 2, 11, 2, 3, 1, 1, 15, 8, 0, 0, 3, 0, 0, 5, 1, 4, 5, 20, 0, 3, 8, 1, 1, 1, 34, 53, 17, 30, 6, 11, 13, 31, 13, 58, 8, 31, 12, 12, 58, 13, 0, 0, 24, 0, 0, 32, 6, 32, 31, 31, 0, 32, 13, 6, 6, 5, 6, 17, 5, 3, 1, 1, 2, 5, 2, 18, 1, 5, 1, 1, 21, 2, 0, 0, 5, 0, 0, 5, 1, 15, 5, 11, 0, 5, 2, 1, 1, 1, 70, 31, 52, 49, 2, 22, 21, 47, 36, 20, 17, 47, 3, 3, 17, 21, 0, 0, 58, 0, 0, 57, 8, 37, 54, 73, 0, 47, 18, 2, 2, 2, 34, 57, 34, 4, 0, 0, 35, 0, 20, 2, 19, 5, 2, 16, 25, 0, 0, 1, 48, 0, 16, 12, 33, 24, 12, 31, 0, 0, 30, 29, 31, 38, 74, 107, 22, 4, 0, 0, 74, 0, 20, 7, 66, 8, 4, 22, 43, 0, 0, 3, 73, 0, 57, 36, 22, 57, 26, 52, 0, 1, 63, 60, 52, 62, 66, 61, 31, 2, 0, 0, 68, 0, 20, 5, 44, 10, 3, 22, 42, 0, 0, 3, 61, 0, 44, 38, 31, 39, 19, 39, 0, 1, 42, 56, 42, 42, 0, 0, 0, 0, 0, 0, 0, 0, 0, 0, 0, 0, 0, 0, 0, 0, 0, 0, 0, 0, 0, 0, 0, 0, 0, 0, 0, 0, 0, 0, 0, 0, 6, 11, 11, 1, 0, 0, 23, 0, 6, 1, 3, 7, 1, 11, 3, 0, 0, 1, 5, 0, 3, 3, 13, 3, 2, 2, 0, 1, 2, 6, 2, 2, 27, 43, 58, 6, 0, 0, 41, 0, 13, 5, 32, 58, 6, 18, 20, 0, 0, 5, 38, 0, 26, 32, 25, 30, 11, 20, 0, 6, 22, 31, 24, 22, 6, 8, 22, 1, 0, 0, 11, 0, 2, 1, 5, 17, 1, 8, 5, 0, 0, 1, 7, 0, 5, 5, 11, 5, 2, 5, 0, 1, 5, 7, 5, 5, 70, 105, 22, 2, 0, 0, 68, 0, 21, 5, 56, 7, 5, 25, 44, 0, 0, 5, 84, 0, 47, 43, 25, 47, 26, 50, 0, 2, 57, 60, 65, 54, 19, 2, 17, 0, 31, 0, 66, 7, 13, 7, 35, 21, 74, 15, 6, 0, 12, 16, 0, 25, 18, 23, 15, 17, 15, 6, 0, 38, 7, 7, 2, 3, 40, 3, 34, 0, 60, 0, 100, 7, 14, 7, 48, 16, 97, 58, 16, 5, 36, 22, 0, 56, 43, 49, 43, 52, 22, 9, 0, 85, 16, 14, 4, 4, 38, 2, 18, 0, 47, 0, 66, 5, 14, 5, 38, 11, 61, 44, 14, 5, 26, 25, 0, 38, 49, 42, 37, 53, 18, 9, 0, 44, 12, 20, 2, 3, 0, 0, 0, 0, 0, 0, 0, 0, 0, 0, 0, 0, 0, 0, 0, 0, 0, 0, 0, 0, 0, 0, 0, 0, 0, 0, 0, 0, 0, 0, 0, 0, 8, 1, 3, 0, 5, 0, 12, 3, 2, 1, 0, 0, 5, 5, 5, 1, 2, 8, 0, 3, 11, 2, 3, 5, 6, 3, 0, 5, 1, 8, 1, 1, 20, 6, 11, 0, 26, 0, 41, 7, 9, 5, 30, 9, 38, 30, 10, 5, 13, 13, 0, 20, 20, 20, 24, 31, 13, 8, 0, 40, 8, 26, 6, 3, 5, 1, 2, 0, 5, 0, 12, 1, 1, 1, 3, 1, 7, 5, 1, 1, 2, 2, 0, 5, 3, 5, 5, 5, 3, 1, 0, 5, 1, 8, 1, 1, 40, 2, 26, 0, 57, 0, 100, 7, 15, 7, 47, 20, 89, 58, 15, 5, 29, 21, 0, 55, 36, 50, 47, 47, 21, 13, 0, 82, 14, 18, 2, 2, 0, 38, 0, 0, 4, 70, 31, 24, 38, 0, 2, 18, 13, 16, 27, 14, 35, 34, 13, 51, 0, 35, 71, 4, 1, 0, 3, 18, 52, 0, 71, 7, 0, 85, 0, 0, 6, 107, 52, 31, 74, 0, 4, 34, 14, 22, 52, 49, 74, 62, 22, 90, 0, 48, 107, 7, 3, 0, 1, 24, 60, 5, 107, 7, 0, 88, 0, 0, 3, 65, 42, 38, 76, 0, 2, 27, 20, 19, 44, 44, 77, 44, 20, 82, 0, 43, 65, 10, 1, 0, 1, 14, 39, 2, 71, 5, 0, 0, 0, 0, 0, 0, 0, 0, 0, 0, 0, 0, 0, 0, 0, 0, 0, 0, 0, 0, 0, 0, 0, 0, 0, 0, 0, 0, 0, 0, 0, 0, 0, 8, 0, 0, 1, 5, 3, 11, 5, 0, 1, 2, 12, 3, 3, 3, 3, 3, 6, 23, 0, 0, 5, 1, 1, 0, 1, 3, 5, 1, 7, 1, 0, 34, 0, 0, 5, 33, 26, 20, 30, 0, 6, 13, 58, 8, 30, 32, 31, 26, 13, 38, 0, 30, 38, 6, 6, 0, 6, 11, 33, 5, 33, 5, 0, 6, 0, 0, 1, 7, 5, 5, 6, 0, 1, 2, 18, 1, 5, 5, 6, 5, 2, 6, 0, 3, 7, 1, 1, 0, 1, 2, 5, 1, 8, 1, 0, 93, 0, 0, 5, 102, 57, 37, 70, 0, 2, 36, 17, 20, 48, 47, 70, 54, 20, 84, 0, 47, 102, 9, 2, 0, 2, 21, 70, 5, 105, 5, 21, 0, 15, 2, 0, 32, 24, 20, 0, 8, 27, 4, 27, 24, 25, 17, 2, 3, 23, 0, 0, 28, 30, 44, 21, 2, 16, 11, 2, 15, 43, 13, 46, 1, 20, 5, 0, 40, 50, 18, 0, 19, 40, 7, 57, 50, 40, 18, 3, 6, 36, 0, 0, 44, 40, 90, 57, 16, 22, 23, 3, 44, 69, 22, 42, 2, 19, 5, 0, 42, 38, 14, 0, 20, 38, 8, 44, 34, 37, 22, 2, 3, 33, 0, 0, 37, 36, 88, 37, 10, 25, 26, 2, 38, 49, 20, 0, 0, 0, 0, 0, 0, 0, 0, 0, 0, 0, 0, 0, 0, 0, 0, 0, 0, 0, 0, 0, 0, 0, 0, 0, 0, 0, 0, 0, 0, 0, 0, 17, 1, 8, 0, 0, 13, 3, 5, 0, 8, 3, 3, 3, 5, 3, 8, 1, 1, 12, 0, 0, 3, 3, 9, 3, 1, 8, 8, 1, 5, 5, 6, 58, 6, 14, 2, 0, 32, 30, 11, 0, 13, 25, 6, 24, 32, 32, 14, 6, 12, 14, 0, 0, 30, 32, 34, 30, 6, 13, 13, 12, 20, 37, 13, 11, 1, 6, 1, 0, 11, 5, 2, 0, 6, 5, 1, 5, 12, 12, 6, 1, 1, 2, 0, 0, 5, 5, 6, 3, 1, 2, 3, 1, 3, 7, 2, 41, 2, 23, 5, 0, 43, 47, 17, 0, 23, 43, 10, 54, 43, 44, 23, 2, 5, 36, 0, 0, 47, 43, 70, 47, 12, 21, 21, 3, 36, 82, 20, 28, 10, 31, 28, 38, 3, 13, 0, 0, 2, 3, 0, 4, 17, 30, 23, 6, 11, 0, 0, 24, 4, 4, 28, 2, 0, 19, 15, 25, 9, 20, 2, 67, 14, 64, 63, 22, 1, 15, 0, 0, 4, 7, 0, 1, 35, 60, 62, 1, 23, 0, 0, 20, 17, 4, 60, 1, 0, 32, 5, 43, 33, 48, 1, 56, 17, 52, 53, 31, 2, 15, 0, 0, 2, 8, 0, 2, 24, 44, 41, 2, 22, 0, 0, 25, 12, 2, 44, 2, 0, 23, 3, 41, 33, 37, 2, 0, 0, 0, 0, 0, 0, 0, 0, 0, 0, 0, 0, 0, 0, 0, 0, 0, 0, 0, 0, 0, 0, 0, 0, 0, 0, 0, 0, 0, 0, 0, 0, 3, 5, 5, 5, 11, 1, 5, 0, 0, 1, 1, 0, 1, 2, 5, 5, 0, 9, 0, 0, 8, 3, 1, 5, 0, 0, 0, 4, 3, 11, 3, 1, 30, 10, 31, 31, 58, 5, 10, 0, 0, 5, 5, 0, 6, 13, 31, 31, 5, 18, 0, 0, 13, 8, 6, 33, 2, 0, 11, 17, 33, 25, 31, 6, 5, 1, 5, 5, 18, 1, 1, 0, 0, 1, 1, 0, 1, 2, 5, 5, 1, 8, 0, 0, 2, 1, 1, 5, 1, 0, 2, 3, 5, 11, 5, 1, 65, 20, 65, 64, 27, 2, 20, 0, 0, 2, 8, 0, 2, 29, 57, 54, 2, 25, 0, 0, 21, 17, 2, 61, 2, 0, 26, 7, 47, 33, 47, 2, 31, 54, 5, 19, 29, 5, 0, 0, 68, 0, 42, 14, 18, 0, 33, 0, 0, 0, 0, 0, 9, 2, 11, 21, 5, 0, 15, 13, 2, 9, 49, 7, 52, 69, 3, 19, 48, 8, 0, 0, 98, 0, 67, 20, 20, 0, 57, 0, 0, 0, 0, 0, 8, 11, 23, 33, 5, 1, 8, 15, 4, 17, 38, 2, 39, 61, 3, 22, 36, 8, 0, 0, 65, 0, 44, 27, 25, 0, 42, 0, 0, 0, 0, 0, 8, 5, 22, 26, 2, 2, 6, 17, 2, 20, 38, 2, 0, 0, 0, 0, 0, 0, 0, 0, 0, 0, 0, 0, 0, 0, 0, 0, 0, 0, 0, 0, 0, 0, 0, 0, 0, 0, 0, 0, 0, 0, 0, 0, 3, 5, 1, 8, 3, 3, 0, 0, 5, 0, 5, 11, 5, 0, 18, 0, 0, 0, 0, 0, 3, 0, 0, 0, 3, 1, 5, 5, 1, 6, 17, 1, 30, 40, 6, 13, 31, 12, 0, 0, 38, 0, 31, 20, 11, 0, 32, 0, 0, 0, 0, 0, 6, 5, 11, 11, 17, 6, 27, 11, 6, 13, 53, 15, 5, 7, 1, 2, 5, 3, 0, 0, 8, 0, 5, 10, 2, 0, 11, 0, 0, 0, 0, 0, 1, 0, 2, 2, 5, 1, 14, 1, 1, 2, 11, 3, 54, 76, 2, 21, 48, 7, 0, 0, 105, 0, 60, 26, 26, 0, 61, 0, 0, 0, 0, 0, 7, 9, 22, 29, 6, 2, 7, 20, 2, 18, 43, 3, 0, 0, 22, 7, 12, 0, 33, 11, 0, 0, 16, 0, 28, 24, 16, 0, 19, 9, 5, 0, 26, 10, 0, 30, 31, 0, 0, 0, 20, 8, 31, 24, 0, 0, 66, 12, 26, 0, 52, 12, 0, 0, 34, 0, 42, 50, 48, 0, 15, 8, 6, 0, 57, 22, 0, 70, 85, 0, 0, 0, 48, 6, 64, 50, 0, 0, 48, 9, 24, 0, 42, 7, 0, 0, 26, 0, 42, 48, 37, 0, 14, 6, 2, 0, 44, 23, 0, 68, 88, 0, 0, 0, 37, 5, 68, 41, 0, 0, 0, 0, 0, 0, 0, 0, 0, 0, 0, 0, 0, 0, 0, 0, 0, 0, 0, 0, 0, 0, 0, 0, 0, 0, 0, 0, 0, 0, 0, 0, 0, 0, 5, 1, 8, 0, 3, 7, 0, 0, 0, 0, 2, 3, 3, 0, 5, 3, 1, 0, 3, 0, 0, 5, 8, 0, 0, 0, 5, 1, 15, 3, 0, 0, 31, 5, 13, 0, 28, 58, 0, 0, 11, 0, 17, 27, 30, 0, 11, 7, 17, 0, 34, 11, 0, 32, 38, 0, 0, 0, 30, 5, 24, 32, 0, 0, 3, 0, 2, 0, 5, 18, 0, 0, 2, 0, 5, 5, 5, 0, 2, 1, 5, 0, 3, 1, 0, 6, 6, 0, 0, 0, 3, 1, 6, 5, 0, 0, 65, 9, 18, 0, 48, 13, 0, 0, 26, 0, 50, 47, 47, 0, 15, 7, 6, 0, 50, 26, 0, 70, 84, 0, 0, 0, 47, 7, 62, 47, 22, 13, 9, 45, 19, 0, 9, 0, 5, 6, 19, 18, 9, 10, 14, 31, 29, 1, 29, 0, 50, 39, 10, 3, 13, 0, 28, 0, 22, 3, 2, 47, 33, 15, 8, 87, 57, 7, 23, 0, 3, 8, 57, 22, 26, 22, 60, 63, 48, 3, 60, 0, 33, 78, 30, 1, 30, 0, 60, 0, 43, 11, 4, 77, 38, 17, 6, 68, 44, 7, 26, 0, 2, 5, 44, 22, 26, 17, 50, 52, 37, 2, 56, 0, 38, 69, 26, 2, 30, 0, 67, 0, 37, 5, 3, 44, 0, 0, 0, 0, 0, 0, 0, 0, 0, 0, 0, 0, 0, 0, 0, 0, 0, 0, 0, 0, 0, 0, 0, 0, 0, 0, 0, 0, 0, 0, 0, 0, 2, 5, 3, 24, 3, 0, 8, 0, 1, 2, 2, 0, 6, 6, 5, 5, 3, 1, 14, 0, 17, 5, 8, 1, 12, 0, 16, 0, 3, 3, 1, 5, 26, 10, 12, 32, 32, 0, 15, 0, 6, 5, 20, 11, 13, 10, 31, 40, 30, 5, 31, 0, 41, 40, 13, 12, 13, 0, 31, 0, 20, 6, 6, 30, 11, 1, 1, 6, 5, 0, 3, 0, 1, 1, 5, 2, 2, 1, 5, 7, 5, 1, 7, 0, 15, 7, 3, 1, 3, 0, 6, 0, 5, 1, 1, 7, 43, 20, 7, 70, 47, 13, 21, 0, 2, 9, 47, 24, 26, 20, 60, 70, 47, 2, 58, 0, 41, 84, 26, 3, 29, 0, 62, 0, 47, 9, 2, 70, 0, 24, 31, 0, 39, 35, 15, 0, 19, 62, 30, 8, 0, 24, 11, 4, 17, 1, 0, 35, 48, 28, 7, 3, 36, 0, 24, 0, 2, 10, 3, 23, 0, 33, 60, 0, 49, 52, 15, 1, 26, 97, 52, 8, 0, 33, 22, 1, 49, 3, 0, 48, 70, 44, 14, 1, 77, 0, 57, 0, 1, 48, 7, 49, 0, 26, 39, 0, 39, 49, 11, 1, 26, 61, 39, 14, 0, 32, 25, 2, 35, 2, 0, 39, 61, 33, 14, 2, 77, 0, 44, 0, 2, 38, 5, 30, 0, 0, 0, 0, 0, 0, 0, 0, 0, 0, 0, 0, 0, 0, 0, 0, 0, 0, 0, 0, 0, 0, 0, 0, 0, 0, 0, 0, 0, 0, 0, 0, 0, 2, 5, 0, 3, 5, 11, 0, 8, 5, 5, 3, 0, 3, 6, 1, 1, 0, 0, 5, 15, 2, 6, 1, 5, 0, 3, 0, 1, 11, 1, 2, 0, 13, 31, 0, 23, 31, 58, 2, 13, 38, 33, 6, 0, 20, 13, 6, 32, 6, 0, 31, 41, 17, 13, 6, 32, 0, 30, 0, 6, 20, 5, 13, 0, 3, 5, 0, 5, 5, 18, 1, 2, 7, 7, 0, 0, 5, 2, 1, 12, 1, 0, 5, 12, 5, 2, 1, 6, 0, 5, 0, 1, 5, 0, 5, 0, 36, 54, 0, 54, 57, 11, 2, 21, 105, 70, 12, 0, 40, 21, 2, 44, 2, 0, 48, 93, 47, 13, 2, 70, 0, 47, 0, 2, 41, 9, 52, 30, 7, 0, 0, 38, 4, 17, 64, 6, 36, 26, 0, 7, 11, 17, 22, 47, 30, 43, 0, 4, 5, 0, 4, 23, 0, 1, 29, 1, 0, 10, 22, 67, 14, 0, 0, 74, 4, 29, 93, 8, 90, 43, 4, 12, 26, 54, 31, 90, 57, 54, 1, 1, 8, 2, 6, 23, 0, 1, 70, 3, 0, 49, 43, 52, 20, 0, 0, 68, 3, 26, 65, 8, 84, 37, 2, 12, 26, 33, 26, 86, 44, 39, 1, 3, 9, 2, 5, 23, 0, 1, 71, 3, 0, 38, 43, 0, 0, 0, 0, 0, 0, 0, 0, 0, 0, 0, 0, 0, 0, 0, 0, 0, 0, 0, 0, 0, 0, 0, 0, 0, 0, 0, 0, 0, 0, 0, 0, 5, 8, 0, 0, 24, 1, 8, 5, 3, 24, 5, 1, 2, 0, 3, 11, 7, 5, 3, 0, 1, 3, 1, 1, 0, 0, 0, 7, 0, 0, 3, 11, 31, 13, 0, 0, 34, 5, 13, 34, 6, 38, 32, 6, 8, 11, 32, 13, 34, 31, 22, 2, 6, 6, 5, 5, 11, 0, 2, 27, 2, 0, 24, 20, 3, 3, 0, 0, 6, 0, 2, 7, 1, 5, 5, 1, 1, 2, 15, 3, 7, 5, 5, 1, 1, 0, 1, 1, 0, 0, 1, 6, 1, 0, 5, 5, 57, 18, 0, 0, 70, 2, 26, 85, 7, 70, 48, 2, 13, 29, 47, 29, 84, 57, 57, 2, 3, 9, 2, 5, 26, 0, 2, 70, 2, 0, 48, 40, 48, 12, 42, 43, 0, 0, 1, 56, 22, 7, 0, 23, 2, 0, 3, 7, 10, 0, 21, 37, 3, 33, 20, 64, 2, 8, 49, 0, 43, 36, 0, 0, 77, 33, 90, 74, 0, 1, 5, 93, 52, 5, 0, 36, 1, 0, 7, 8, 10, 0, 57, 53, 4, 85, 53, 93, 1, 8, 54, 0, 85, 90, 0, 0, 84, 31, 84, 68, 0, 2, 3, 44, 39, 2, 0, 39, 2, 0, 5, 5, 9, 0, 37, 37, 3, 85, 37, 65, 2, 9, 54, 0, 80, 88, 0, 0, 0, 0, 0, 0, 0, 0, 0, 0, 0, 0, 0, 0, 0, 0, 0, 0, 0, 0, 0, 0, 0, 0, 0, 0, 0, 0, 0, 0, 0, 0, 0, 0, 24, 12, 20, 24, 0, 1, 1, 3, 5, 1, 0, 2, 0, 0, 1, 0, 3, 0, 5, 3, 1, 5, 3, 5, 1, 1, 18, 0, 23, 10, 0, 0, 38, 20, 38, 30, 0, 6, 6, 32, 30, 6, 0, 20, 2, 0, 5, 5, 6, 0, 30, 20, 6, 34, 30, 43, 6, 6, 41, 0, 38, 34, 0, 0, 6, 3, 9, 6, 0, 1, 1, 4, 5, 1, 0, 5, 1, 0, 1, 0, 1, 0, 3, 5, 1, 6, 3, 7, 1, 1, 12, 0, 7, 7, 0, 0, 70, 30, 73, 70, 0, 2, 3, 84, 54, 2, 0, 40, 2, 0, 9, 9, 13, 0, 47, 50, 5, 70, 47, 89, 2, 13, 68, 0, 93, 84, 0, 0, 25, 22, 22, 14, 15, 62, 36, 20, 2, 2, 17, 44, 0, 33, 0, 55, 23, 55, 2, 35, 11, 32, 24, 39, 0, 20, 24, 14, 20, 21, 0, 3, 60, 20, 65, 44, 34, 90, 90, 35, 4, 4, 46, 60, 0, 57, 0, 80, 62, 69, 3, 74, 12, 52, 33, 49, 0, 48, 48, 34, 65, 33, 0, 1, 44, 20, 51, 34, 27, 69, 84, 38, 3, 2, 38, 44, 0, 43, 0, 59, 62, 49, 2, 76, 12, 48, 27, 37, 0, 37, 37, 26, 53, 26, 0, 2, 0, 0, 0, 0, 0, 0, 0, 0, 0, 0, 0, 0, 0, 0, 0, 0, 0, 0, 0, 0, 0, 0, 0, 0, 0, 0, 0, 0, 0, 0, 0, 0, 5, 8, 5, 4, 2, 11, 5, 3, 1, 1, 11, 5, 0, 5, 0, 18, 8, 5, 1, 6, 12, 5, 2, 3, 0, 3, 3, 3, 5, 2, 0, 1, 31, 13, 26, 32, 17, 41, 32, 13, 5, 6, 20, 33, 0, 32, 0, 41, 24, 37, 6, 32, 58, 30, 13, 33, 0, 32, 25, 11, 30, 11, 0, 6, 5, 3, 3, 15, 5, 7, 7, 2, 1, 1, 5, 5, 0, 5, 0, 12, 5, 7, 1, 6, 18, 5, 3, 5, 0, 5, 5, 2, 5, 2, 0, 1, 61, 21, 65, 44, 44, 105, 70, 36, 2, 2, 36, 61, 0, 61, 0, 79, 62, 89, 2, 70, 17, 57, 36, 48, 0, 47, 47, 29, 60, 36, 0, 2, 7, 22, 0, 8, 44, 13, 41, 15, 9, 12, 0, 21, 68, 22, 31, 31, 27, 0, 0, 0, 0, 0, 17, 29, 27, 14, 1, 33, 31, 4, 11, 10, 14, 43, 0, 22, 90, 8, 69, 34, 11, 10, 4, 57, 102, 66, 88, 64, 20, 0, 0, 0, 0, 0, 64, 48, 57, 16, 2, 57, 78, 1, 11, 3, 14, 37, 0, 27, 79, 7, 44, 24, 9, 8, 2, 48, 65, 56, 88, 77, 27, 0, 0, 0, 0, 0, 48, 36, 39, 11, 1, 42, 68, 3, 8, 2, 0, 0, 0, 0, 0, 0, 0, 0, 0, 0, 0, 0, 0, 0, 0, 0, 0, 0, 0, 0, 0, 0, 0, 0, 0, 0, 0, 0, 0, 0, 0, 0, 5, 3, 0, 11, 26, 3, 5, 5, 2, 3, 1, 3, 5, 5, 16, 3, 11, 0, 0, 0, 0, 0, 3, 3, 5, 3, 1, 3, 24, 1, 3, 1, 13, 24, 0, 32, 34, 10, 40, 13, 6, 10, 6, 29, 38, 30, 38, 32, 58, 0, 0, 0, 0, 0, 26, 30, 31, 11, 6, 24, 29, 5, 6, 13, 2, 5, 0, 15, 6, 3, 5, 2, 1, 1, 1, 5, 7, 5, 5, 7, 17, 0, 0, 0, 0, 0, 3, 5, 5, 2, 1, 5, 6, 1, 1, 1, 10, 47, 0, 33, 84, 8, 65, 29, 12, 13, 2, 58, 105, 65, 84, 65, 27, 0, 0, 0, 0, 0, 60, 58, 54, 15, 2, 57, 70, 2, 12, 2, 18, 26, 53, 0, 2, 2, 53, 17, 0, 31, 0, 30, 3, 32, 2, 44, 0, 20, 2, 11, 13, 0, 31, 26, 0, 0, 1, 0, 1, 0, 40, 16, 20, 48, 48, 0, 1, 1, 62, 43, 0, 52, 0, 77, 4, 57, 8, 90, 0, 54, 4, 36, 22, 0, 64, 50, 0, 0, 1, 0, 3, 0, 78, 33, 25, 36, 42, 0, 2, 2, 54, 37, 0, 39, 0, 77, 3, 42, 5, 67, 0, 51, 2, 33, 20, 0, 77, 44, 0, 0, 1, 0, 2, 0, 67, 27, 0, 0, 0, 0, 0, 0, 0, 0, 0, 0, 0, 0, 0, 0, 0, 0, 0, 0, 0, 0, 0, 0, 0, 0, 0, 0, 0, 0, 0, 0, 0, 0, 8, 3, 18, 0, 0, 0, 18, 3, 0, 5, 0, 3, 1, 3, 1, 6, 0, 17, 1, 3, 8, 0, 5, 3, 0, 0, 1, 0, 0, 0, 15, 2, 13, 32, 41, 0, 5, 2, 41, 32, 0, 31, 0, 32, 6, 26, 5, 32, 0, 32, 6, 20, 13, 0, 30, 34, 0, 0, 6, 0, 5, 0, 24, 13, 3, 5, 12, 0, 1, 1, 11, 5, 0, 5, 0, 6, 1, 5, 1, 6, 0, 11, 1, 6, 2, 0, 6, 5, 0, 0, 1, 0, 1, 0, 5, 2, 21, 47, 37, 0, 2, 2, 86, 47, 0, 57, 0, 70, 2, 61, 5, 70, 0, 45, 2, 40, 21, 0, 65, 47, 0, 0, 2, 0, 2, 0, 62, 36, 0, 6, 0, 20, 0, 0, 0, 28, 6, 6, 9, 8, 21, 9, 0, 2, 0, 2, 46, 12, 25, 10, 8, 2, 0, 21, 60, 33, 28, 1, 6, 0, 0, 19, 0, 31, 0, 0, 0, 33, 16, 10, 11, 6, 43, 11, 0, 4, 5, 4, 80, 31, 48, 22, 8, 1, 0, 50, 93, 73, 55, 3, 29, 0, 0, 17, 0, 31, 0, 0, 0, 38, 12, 14, 10, 5, 41, 5, 0, 2, 2, 3, 53, 24, 37, 20, 7, 2, 0, 41, 65, 44, 44, 1, 18, 0, 0, 0, 0, 0, 0, 0, 0, 0, 0, 0, 0, 0, 0, 0, 0, 0, 0, 0, 0, 0, 0, 0, 0, 0, 0, 0, 0, 0, 0, 0, 0, 0, 0, 6, 0, 11, 0, 0, 0, 11, 3, 3, 11, 5, 3, 2, 0, 0, 1, 1, 5, 8, 3, 6, 0, 1, 0, 5, 0, 3, 5, 1, 6, 0, 0, 13, 0, 13, 0, 0, 0, 25, 8, 8, 58, 22, 30, 6, 0, 2, 6, 3, 35, 13, 30, 13, 5, 6, 0, 32, 33, 26, 30, 5, 13, 0, 0, 2, 0, 2, 0, 0, 0, 11, 1, 1, 18, 10, 5, 1, 0, 1, 1, 1, 7, 2, 3, 2, 0, 1, 0, 5, 8, 5, 5, 1, 2, 0, 0, 21, 0, 26, 0, 0, 0, 41, 16, 12, 13, 8, 47, 9, 0, 2, 2, 2, 84, 26, 47, 21, 16, 2, 0, 47, 105, 60, 47, 2, 23, 0, 23, 26, 0, 26, 22, 14, 31, 12, 5, 1, 2, 27, 54, 19, 42, 4, 55, 44, 17, 28, 19, 3, 0, 33, 16, 37, 42, 24, 29, 3, 11, 1, 36, 67, 0, 50, 66, 19, 52, 20, 6, 3, 1, 48, 22, 54, 26, 2, 107, 32, 48, 22, 50, 1, 0, 85, 16, 52, 90, 68, 91, 4, 18, 3, 27, 62, 0, 41, 45, 20, 39, 19, 5, 1, 2, 43, 32, 38, 29, 2, 65, 32, 41, 29, 44, 2, 0, 85, 7, 61, 84, 56, 84, 3, 20, 2, 0, 0, 0, 0, 0, 0, 0, 0, 0, 0, 0, 0, 0, 0, 0, 0, 0, 0, 0, 0, 0, 0, 0, 0, 0, 0, 0, 0, 0, 0, 0, 0, 2, 5, 0, 5, 5, 6, 5, 8, 1, 1, 1, 0, 15, 2, 15, 1, 12, 15, 3, 15, 3, 1, 0, 9, 7, 14, 20, 3, 20, 1, 5, 0, 13, 32, 0, 32, 30, 13, 33, 13, 5, 6, 5, 30, 58, 17, 53, 6, 33, 58, 32, 58, 26, 6, 0, 34, 58, 31, 38, 26, 38, 2, 11, 5, 3, 6, 0, 5, 5, 2, 5, 2, 1, 1, 1, 5, 17, 5, 17, 1, 8, 15, 5, 17, 5, 1, 0, 6, 18, 6, 6, 5, 5, 1, 2, 1, 36, 65, 0, 47, 65, 22, 57, 21, 7, 2, 2, 48, 25, 40, 33, 2, 102, 33, 47, 32, 47, 2, 0, 70, 13, 60, 73, 58, 86, 2, 21, 2, 23, 16, 37, 24, 26, 25, 2, 26, 7, 54, 8, 6, 12, 18, 1, 31, 23, 11, 0, 16, 6, 52, 0, 0, 23, 3, 16, 6, 27, 31, 1, 19, 68, 22, 53, 43, 56, 56, 4, 50, 10, 85, 30, 1, 29, 62, 3, 52, 40, 26, 0, 22, 8, 100, 0, 4, 62, 4, 22, 1, 26, 22, 3, 22, 67, 24, 40, 36, 76, 37, 2, 37, 10, 79, 24, 3, 24, 39, 1, 39, 38, 23, 0, 25, 5, 67, 0, 2, 44, 2, 19, 2, 30, 29, 3, 22, 0, 0, 0, 0, 0, 0, 0, 0, 0, 0, 0, 0, 0, 0, 0, 0, 0, 0, 0, 0, 0, 0, 0, 0, 0, 0, 0, 0, 0, 0, 0, 0, 5, 11, 5, 3, 5, 3, 1, 3, 3, 8, 2, 1, 9, 5, 1, 2, 11, 0, 0, 8, 5, 11, 0, 1, 5, 1, 8, 0, 11, 11, 1, 8, 40, 25, 34, 32, 32, 30, 6, 32, 8, 34, 13, 5, 20, 32, 5, 22, 32, 11, 0, 13, 22, 37, 0, 6, 30, 10, 13, 5, 14, 26, 6, 13, 6, 15, 5, 5, 6, 3, 1, 3, 1, 7, 2, 1, 10, 5, 1, 5, 11, 0, 0, 3, 10, 9, 0, 1, 5, 1, 2, 1, 3, 13, 1, 2, 65, 22, 50, 47, 65, 50, 2, 47, 9, 93, 29, 2, 25, 47, 2, 50, 43, 29, 0, 26, 7, 105, 0, 2, 54, 3, 21, 2, 29, 32, 3, 21, 23, 13, 19, 5, 0, 18, 0, 0, 0, 0, 22, 32, 6, 0, 47, 29, 4, 27, 24, 70, 24, 20, 15, 11, 18, 0, 64, 26, 0, 16, 40, 0, 62, 22, 42, 2, 0, 56, 2, 0, 0, 0, 66, 57, 8, 0, 54, 60, 4, 65, 50, 92, 57, 65, 17, 18, 33, 0, 100, 49, 0, 22, 78, 0, 39, 17, 30, 2, 0, 39, 2, 0, 0, 0, 56, 39, 5, 0, 42, 44, 3, 66, 49, 71, 56, 44, 20, 17, 31, 0, 71, 37, 0, 25, 77, 0, 0, 0, 0, 0, 0, 0, 0, 0, 0, 0, 0, 0, 0, 0, 0, 0, 0, 0, 0, 0, 0, 0, 0, 0, 0, 0, 0, 0, 0, 0, 0, 0, 5, 5, 2, 1, 0, 3, 0, 0, 0, 0, 5, 5, 1, 0, 3, 5, 1, 5, 14, 5, 5, 3, 11, 5, 12, 0, 5, 3, 0, 8, 5, 0, 31, 11, 13, 6, 0, 20, 5, 0, 0, 0, 31, 33, 6, 0, 26, 31, 5, 31, 25, 38, 30, 28, 58, 9, 20, 0, 32, 32, 0, 13, 32, 0, 3, 1, 3, 1, 0, 5, 1, 0, 0, 0, 5, 7, 1, 0, 5, 5, 1, 5, 6, 7, 5, 3, 18, 2, 3, 0, 5, 5, 0, 2, 6, 0, 47, 21, 36, 2, 0, 47, 2, 0, 0, 0, 60, 54, 10, 0, 57, 64, 5, 65, 47, 102, 58, 54, 17, 21, 29, 0, 105, 47, 0, 21, 70, 0, 29, 0, 39, 9, 25, 20, 1, 1, 32, 12, 18, 45, 1, 22, 15, 24, 4, 32, 16, 33, 0, 0, 4, 9, 26, 11, 40, 17, 19, 0, 4, 0, 60, 0, 49, 26, 43, 30, 1, 3, 67, 12, 49, 87, 3, 66, 34, 30, 7, 70, 16, 57, 0, 0, 6, 11, 67, 12, 78, 8, 34, 0, 6, 1, 44, 0, 39, 26, 42, 17, 1, 3, 59, 15, 37, 87, 1, 56, 14, 24, 5, 68, 20, 43, 0, 0, 3, 10, 62, 12, 68, 10, 27, 0, 3, 1, 0, 0, 0, 0, 0, 0, 0, 0, 0, 0, 0, 0, 0, 0, 0, 0, 0, 0, 0, 0, 0, 0, 0, 0, 0, 0, 0, 0, 0, 0, 0, 0, 5, 0, 3, 8, 4, 3, 1, 0, 22, 2, 3, 8, 0, 5, 3, 5, 1, 15, 11, 5, 0, 0, 1, 11, 5, 0, 24, 11, 2, 0, 1, 1, 30, 0, 30, 13, 32, 8, 6, 2, 31, 6, 32, 34, 2, 31, 8, 13, 5, 24, 58, 31, 0, 0, 5, 58, 31, 8, 29, 58, 20, 0, 8, 6, 5, 0, 5, 2, 15, 1, 1, 1, 11, 2, 5, 6, 1, 5, 1, 2, 1, 6, 26, 5, 0, 0, 1, 18, 6, 1, 6, 18, 8, 0, 1, 1, 58, 0, 48, 21, 43, 17, 2, 2, 60, 41, 47, 84, 2, 65, 24, 29, 5, 67, 20, 54, 0, 0, 3, 11, 65, 20, 70, 13, 40, 0, 3, 2, 2, 2, 29, 30, 0, 44, 2, 9, 26, 1, 4, 38, 37, 30, 4, 23, 12, 16, 32, 0, 1, 20, 34, 32, 41, 7, 1, 29, 44, 24, 0, 30, 8, 4, 48, 52, 0, 67, 3, 26, 57, 2, 3, 85, 72, 52, 4, 68, 12, 16, 57, 0, 3, 45, 88, 48, 77, 18, 5, 58, 90, 32, 0, 39, 5, 3, 37, 44, 0, 52, 2, 18, 36, 1, 2, 68, 62, 43, 3, 68, 11, 20, 33, 0, 2, 37, 77, 37, 88, 17, 2, 36, 82, 32, 0, 37, 0, 0, 0, 0, 0, 0, 0, 0, 0, 0, 0, 0, 0, 0, 0, 0, 0, 0, 0, 0, 0, 0, 0, 0, 0, 0, 0, 0, 0, 0, 0, 0, 1, 1, 5, 5, 0, 19, 1, 5, 3, 1, 1, 24, 5, 5, 1, 9, 2, 8, 5, 0, 1, 3, 6, 3, 8, 2, 1, 3, 5, 11, 0, 3, 6, 6, 31, 31, 0, 41, 6, 11, 34, 6, 6, 38, 31, 31, 5, 30, 7, 13, 27, 0, 6, 20, 34, 28, 34, 8, 6, 27, 34, 26, 0, 32, 1, 1, 5, 5, 0, 12, 1, 2, 3, 1, 1, 6, 6, 3, 1, 6, 1, 2, 3, 0, 1, 5, 7, 5, 6, 1, 1, 5, 6, 11, 0, 5, 8, 5, 47, 57, 0, 68, 3, 24, 54, 2, 2, 70, 65, 48, 5, 62, 13, 18, 54, 0, 2, 47, 84, 48, 84, 14, 3, 58, 84, 37, 0, 50, 22, 7, 0, 9, 1, 19, 6, 23, 21, 0, 0, 21, 7, 0, 13, 16, 22, 24, 2, 14, 13, 11, 0, 22, 11, 36, 0, 25, 58, 2, 0, 10, 43, 7, 0, 4, 5, 18, 22, 36, 42, 0, 4, 40, 14, 2, 22, 42, 52, 57, 4, 19, 43, 23, 5, 33, 23, 60, 5, 65, 80, 4, 0, 10, 43, 3, 0, 3, 3, 17, 23, 33, 41, 0, 2, 36, 12, 2, 20, 30, 51, 38, 3, 17, 43, 17, 2, 27, 25, 39, 2, 44, 51, 3, 0, 10, 0, 0, 0, 0, 0, 0, 0, 0, 0, 0, 0, 0, 0, 0, 0, 0, 0, 0, 0, 0, 0, 0, 0, 0, 0, 0, 0, 0, 0, 0, 0, 0, 12, 1, 0, 1, 1, 11, 11, 3, 3, 0, 1, 12, 3, 0, 8, 2, 11, 3, 1, 6, 0, 0, 1, 2, 8, 5, 1, 5, 15, 1, 0, 11, 20, 5, 0, 10, 5, 58, 26, 32, 31, 0, 6, 20, 8, 5, 18, 15, 20, 24, 5, 13, 22, 11, 6, 13, 13, 31, 5, 34, 41, 6, 0, 58, 5, 1, 0, 3, 1, 18, 11, 12, 5, 0, 1, 3, 1, 1, 6, 5, 5, 5, 1, 2, 2, 1, 1, 3, 2, 5, 1, 5, 12, 1, 0, 18, 40, 5, 0, 8, 5, 17, 22, 41, 47, 0, 2, 30, 12, 2, 25, 36, 45, 47, 3, 15, 49, 20, 2, 36, 21, 60, 5, 60, 100, 2, 0, 13, 1, 0, 0, 13, 2, 2, 26, 9, 30, 46, 0, 0, 0, 19, 45, 7, 0, 3, 22, 27, 1, 31, 0, 40, 23, 0, 15, 38, 21, 39, 21, 42, 3, 0, 0, 8, 6, 4, 26, 11, 52, 80, 0, 0, 0, 22, 70, 12, 0, 4, 22, 57, 3, 60, 0, 54, 68, 0, 22, 85, 16, 22, 31, 42, 2, 0, 0, 7, 5, 2, 31, 14, 42, 54, 0, 0, 0, 22, 66, 5, 0, 2, 25, 44, 5, 39, 0, 42, 66, 0, 19, 79, 12, 32, 29, 32, 0, 0, 0, 0, 0, 0, 0, 0, 0, 0, 0, 0, 0, 0, 0, 0, 0, 0, 0, 0, 0, 0, 0, 0, 0, 0, 0, 0, 0, 0, 0, 0, 1, 0, 0, 6, 1, 1, 11, 3, 2, 11, 0, 0, 0, 8, 6, 1, 0, 0, 8, 5, 1, 5, 0, 17, 5, 0, 8, 9, 11, 15, 13, 16, 5, 0, 0, 58, 5, 6, 20, 8, 22, 43, 0, 0, 0, 13, 33, 6, 0, 5, 14, 31, 6, 31, 0, 41, 32, 0, 14, 34, 58, 58, 20, 54, 0, 0, 0, 17, 1, 1, 8, 1, 5, 9, 0, 0, 0, 2, 6, 1, 0, 1, 6, 3, 1, 5, 0, 12, 6, 0, 6, 6, 18, 17, 11, 15, 2, 0, 0, 13, 5, 2, 32, 14, 52, 82, 0, 0, 0, 21, 70, 9, 0, 2, 22, 50, 5, 54, 0, 61, 65, 0, 21, 84, 13, 33, 33, 41, 0, 18, 2, 55, 0, 0, 17, 32, 0, 3, 19, 0, 33, 19, 25, 0, 0, 20, 29, 26, 5, 8, 0, 11, 34, 28, 24, 2, 9, 28, 12, 0, 0, 43, 8, 107, 0, 0, 26, 43, 0, 1, 66, 4, 57, 57, 42, 0, 0, 31, 52, 40, 6, 6, 0, 23, 74, 44, 57, 1, 8, 55, 18, 0, 0, 27, 5, 71, 0, 0, 31, 42, 0, 3, 66, 2, 42, 44, 30, 0, 0, 38, 47, 36, 3, 5, 0, 14, 66, 37, 38, 2, 6, 44, 11, 0, 0, 0, 0, 0, 0, 0, 0, 0, 0, 0, 0, 0, 0, 0, 0, 0, 0, 0, 0, 0, 0, 0, 0, 0, 0, 0, 0, 0, 0, 0, 0, 0, 0, 1, 1, 7, 0, 0, 11, 13, 0, 1, 5, 1, 3, 3, 2, 0, 0, 11, 5, 11, 2, 5, 0, 0, 6, 2, 3, 0, 3, 3, 2, 0, 0, 26, 5, 43, 0, 0, 14, 20, 0, 5, 30, 6, 33, 31, 13, 0, 0, 20, 31, 20, 6, 23, 0, 9, 27, 24, 32, 2, 12, 24, 6, 0, 0, 5, 1, 8, 0, 0, 3, 6, 0, 1, 6, 1, 5, 5, 3, 0, 0, 8, 5, 5, 1, 10, 0, 1, 6, 5, 5, 1, 3, 5, 1, 0, 0, 44, 8, 105, 0, 0, 29, 40, 0, 5, 62, 2, 54, 47, 36, 0, 0, 33, 58, 40, 7, 7, 0, 20, 70, 47, 47, 2, 7, 47, 13, 0, 3, 34, 28, 27, 0, 55, 1, 9, 0, 0, 62, 1, 37, 39, 7, 6, 0, 10, 0, 28, 56, 14, 4, 9, 46, 45, 54, 40, 19, 29, 2, 17, 4, 68, 42, 57, 0, 87, 3, 26, 0, 0, 90, 16, 53, 62, 8, 8, 0, 8, 0, 63, 93, 14, 1, 11, 93, 87, 80, 36, 25, 43, 1, 25, 2, 68, 42, 48, 0, 79, 1, 25, 0, 0, 61, 12, 36, 39, 5, 8, 0, 8, 0, 59, 44, 14, 2, 9, 65, 87, 61, 39, 25, 36, 2, 25, 0, 0, 0, 0, 0, 0, 0, 0, 0, 0, 0, 0, 0, 0, 0, 0, 0, 0, 0, 0, 0, 0, 0, 0, 0, 0, 0, 0, 0, 0, 0, 0, 1, 24, 3, 3, 0, 9, 1, 8, 0, 0, 5, 3, 5, 5, 3, 5, 0, 5, 0, 5, 3, 1, 1, 1, 5, 6, 15, 2, 8, 5, 0, 8, 6, 34, 34, 28, 0, 34, 6, 13, 0, 0, 38, 8, 31, 30, 10, 22, 0, 47, 0, 30, 32, 8, 6, 6, 37, 34, 33, 18, 13, 30, 5, 13, 1, 6, 5, 5, 0, 6, 1, 2, 0, 0, 7, 1, 5, 5, 3, 10, 0, 18, 0, 5, 7, 1, 1, 0, 7, 6, 7, 5, 2, 3, 1, 3, 2, 70, 47, 65, 0, 85, 2, 21, 0, 0, 89, 12, 48, 65, 7, 8, 0, 7, 0, 65, 89, 14, 2, 9, 89, 84, 85, 50, 21, 48, 2, 26, 28, 5, 12, 14, 12, 0, 26, 14, 11, 5, 10, 13, 56, 0, 29, 21, 19, 28, 17, 4, 36, 0, 0, 0, 1, 0, 31, 10, 0, 0, 23, 38, 60, 8, 22, 33, 26, 0, 35, 19, 18, 2, 33, 22, 54, 0, 22, 57, 52, 44, 48, 3, 77, 0, 0, 0, 1, 0, 60, 8, 0, 0, 31, 54, 42, 8, 19, 27, 14, 0, 26, 17, 14, 2, 36, 22, 42, 0, 24, 44, 44, 37, 36, 2, 77, 0, 0, 0, 1, 0, 39, 6, 0, 0, 26, 42, 0, 0, 0, 0, 0, 0, 0, 0, 0, 0, 0, 0, 0, 0, 0, 0, 0, 0, 0, 0, 0, 0, 0, 0, 0, 0, 0, 0, 0, 0, 0, 0, 2, 1, 8, 8, 0, 0, 0, 6, 0, 1, 5, 0, 16, 0, 11, 5, 5, 3, 3, 1, 0, 0, 0, 0, 1, 0, 5, 5, 0, 0, 8, 2, 24, 5, 13, 20, 11, 0, 11, 13, 8, 6, 20, 11, 41, 0, 26, 31, 30, 31, 32, 6, 34, 0, 0, 0, 6, 0, 31, 30, 0, 0, 13, 22, 5, 1, 2, 3, 1, 0, 2, 2, 1, 1, 8, 1, 12, 0, 10, 5, 3, 5, 5, 1, 6, 0, 0, 0, 1, 0, 5, 10, 0, 0, 3, 5, 57, 9, 21, 30, 20, 0, 36, 20, 20, 2, 36, 22, 68, 0, 18, 54, 47, 47, 47, 2, 70, 0, 0, 0, 2, 0, 57, 7, 0, 0, 29, 52, 33, 20, 23, 2, 33, 53, 5, 13, 20, 21, 2, 33, 45, 0, 39, 35, 0, 61, 14, 27, 6, 17, 0, 27, 0, 30, 0, 14, 19, 25, 17, 0, 41, 65, 29, 4, 57, 80, 6, 62, 30, 42, 1, 73, 65, 0, 78, 53, 0, 107, 19, 35, 2, 60, 0, 40, 0, 67, 1, 16, 66, 56, 60, 0, 38, 44, 24, 2, 49, 51, 5, 39, 30, 42, 2, 44, 43, 0, 61, 45, 0, 71, 20, 33, 2, 59, 0, 41, 0, 52, 1, 16, 44, 37, 45, 0, 0, 0, 0, 0, 0, 0, 0, 0, 0, 0, 0, 0, 0, 0, 0, 0, 0, 0, 0, 0, 0, 0, 0, 0, 0, 0, 0, 0, 0, 0, 0, 0, 2, 3, 6, 0, 5, 15, 2, 3, 3, 2, 1, 3, 5, 0, 5, 5, 0, 11, 8, 11, 1, 5, 0, 3, 0, 5, 1, 1, 3, 3, 5, 0, 20, 24, 13, 5, 33, 41, 5, 22, 13, 22, 6, 26, 33, 0, 30, 26, 0, 41, 13, 25, 12, 30, 0, 31, 0, 31, 6, 9, 28, 29, 33, 0, 5, 5, 2, 1, 7, 12, 1, 5, 2, 5, 1, 5, 5, 0, 7, 5, 0, 8, 2, 11, 1, 3, 0, 5, 0, 5, 1, 1, 3, 5, 7, 0, 43, 54, 29, 2, 61, 89, 7, 47, 36, 47, 2, 60, 60, 0, 70, 57, 0, 98, 18, 33, 5, 62, 0, 48, 0, 57, 2, 20, 47, 47, 56, 0, 4, 8, 12, 42, 0, 66, 3, 4, 15, 27, 11, 57, 15, 15, 15, 16, 6, 3, 3, 18, 22, 17, 11, 28, 4, 60, 0, 28, 11, 20, 19, 14, 7, 14, 18, 78, 3, 103, 7, 13, 33, 74, 15, 73, 31, 22, 59, 22, 23, 4, 4, 34, 43, 48, 15, 51, 4, 54, 0, 60, 12, 33, 66, 19, 5, 20, 16, 66, 2, 53, 5, 8, 24, 77, 22, 49, 31, 22, 56, 20, 20, 3, 3, 32, 37, 36, 14, 39, 3, 42, 0, 61, 12, 38, 39, 20, 0, 0, 0, 0, 0, 0, 0, 0, 0, 0, 0, 0, 0, 0, 0, 0, 0, 0, 0, 0, 0, 0, 0, 0, 0, 0, 0, 0, 0, 0, 0, 0, 0, 6, 2, 6, 1, 5, 1, 3, 8, 6, 6, 5, 12, 6, 14, 8, 8, 0, 1, 5, 3, 5, 5, 3, 1, 18, 0, 14, 3, 12, 2, 8, 5, 13, 8, 34, 6, 35, 6, 8, 18, 32, 13, 38, 13, 13, 24, 13, 13, 2, 6, 20, 30, 33, 8, 26, 6, 41, 0, 25, 10, 20, 20, 18, 0, 2, 1, 6, 1, 7, 0, 1, 8, 6, 2, 7, 3, 2, 6, 3, 2, 1, 1, 8, 5, 5, 2, 5, 1, 12, 0, 7, 2, 3, 5, 6, 9, 15, 20, 70, 2, 98, 5, 13, 25, 70, 20, 82, 29, 22, 58, 21, 21, 2, 2, 36, 47, 47, 20, 58, 2, 45, 0, 54, 13, 36, 47, 25, 21, 8, 9, 11, 13, 65, 35, 29, 0, 46, 59, 0, 25, 1, 9, 21, 0, 19, 0, 19, 15, 23, 30, 20, 5, 15, 34, 24, 18, 25, 18, 6, 66, 19, 26, 36, 22, 93, 35, 43, 0, 85, 65, 0, 65, 3, 18, 42, 0, 66, 0, 31, 18, 62, 52, 58, 2, 22, 62, 50, 45, 40, 65, 4, 43, 22, 26, 24, 30, 61, 29, 37, 0, 82, 59, 0, 66, 1, 12, 33, 0, 44, 0, 24, 16, 47, 42, 44, 2, 25, 44, 48, 48, 42, 51, 2, 0, 0, 0, 0, 0, 0, 0, 0, 0, 0, 0, 0, 0, 0, 0, 0, 0, 0, 0, 0, 0, 0, 0, 0, 0, 0, 0, 0, 0, 0, 0, 0, 5, 5, 8, 0, 9, 5, 15, 3, 0, 5, 5, 0, 6, 1, 3, 2, 0, 3, 0, 11, 3, 11, 3, 5, 1, 8, 3, 3, 5, 11, 5, 1, 31, 11, 13, 11, 18, 39, 54, 32, 0, 34, 31, 0, 30, 5, 8, 17, 0, 27, 0, 13, 8, 20, 22, 31, 6, 13, 24, 30, 32, 32, 31, 5, 5, 2, 3, 1, 10, 7, 18, 5, 0, 7, 6, 0, 6, 1, 1, 5, 0, 3, 0, 3, 1, 5, 5, 5, 1, 3, 5, 5, 12, 15, 5, 1, 54, 21, 21, 29, 22, 89, 31, 47, 0, 84, 70, 0, 70, 2, 17, 44, 0, 47, 0, 29, 20, 40, 50, 47, 2, 22, 57, 47, 47, 43, 60, 2, 20, 32, 50, 0, 16, 24, 31, 0, 19, 21, 28, 31, 0, 2, 12, 0, 13, 30, 31, 63, 17, 48, 42, 46, 67, 41, 43, 69, 0, 16, 57, 78, 0, 57, 50, 33, 52, 0, 1, 18, 0, 22, 52, 78, 107, 25, 90, 85, 22, 67, 38, 41, 52, 0, 20, 56, 67, 0, 44, 36, 24, 36, 0, 2, 12, 0, 20, 44, 88, 63, 25, 84, 71, 29, 51, 0, 0, 0, 0, 0, 0, 0, 0, 0, 0, 0, 0, 0, 0, 0, 0, 0, 0, 0, 0, 0, 0, 0, 0, 0, 17, 8, 5, 0, 6, 14, 24, 0, 3, 3, 0, 3, 0, 1, 5, 0, 8, 5, 3, 7, 6, 26, 20, 15, 16, 26, 32, 43, 0, 13, 25, 29, 0, 28, 20, 13, 22, 0, 6, 11, 0, 13, 31, 32, 33, 13, 38, 31, 58, 41, 11, 15, 9, 0, 2, 6, 6, 0, 5, 5, 2, 5, 0, 1, 2, 0, 3, 5, 7, 8, 2, 5, 9, 17, 11, 37, 43, 82, 0, 15, 58, 70, 0, 47, 47, 36, 48, 0, 2, 15, 0, 21, 54, 70, 102, 21, 84, 70, 31, 77]\n"
          ]
        }
      ]
    }
  ]
}